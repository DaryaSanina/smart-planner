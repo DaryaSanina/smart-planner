{
 "cells": [
  {
   "cell_type": "code",
   "execution_count": 77,
   "id": "e802d67a",
   "metadata": {},
   "outputs": [
    {
     "data": {
      "text/html": [
       "<div>\n",
       "<style scoped>\n",
       "    .dataframe tbody tr th:only-of-type {\n",
       "        vertical-align: middle;\n",
       "    }\n",
       "\n",
       "    .dataframe tbody tr th {\n",
       "        vertical-align: top;\n",
       "    }\n",
       "\n",
       "    .dataframe thead th {\n",
       "        text-align: right;\n",
       "    }\n",
       "</style>\n",
       "<table border=\"1\" class=\"dataframe\">\n",
       "  <thead>\n",
       "    <tr style=\"text-align: right;\">\n",
       "      <th></th>\n",
       "      <th>Unnamed: 0</th>\n",
       "      <th>Name</th>\n",
       "      <th>Description</th>\n",
       "      <th>Importance</th>\n",
       "    </tr>\n",
       "  </thead>\n",
       "  <tbody>\n",
       "    <tr>\n",
       "      <th>0</th>\n",
       "      <td>0</td>\n",
       "      <td>Complete Work Assignment</td>\n",
       "      <td>Finish assigned tasks by the deadline for proj...</td>\n",
       "      <td>10</td>\n",
       "    </tr>\n",
       "    <tr>\n",
       "      <th>1</th>\n",
       "      <td>1</td>\n",
       "      <td>Read Book</td>\n",
       "      <td>Read ‘Atomic Habits’ to gain insights into hab...</td>\n",
       "      <td>4</td>\n",
       "    </tr>\n",
       "    <tr>\n",
       "      <th>2</th>\n",
       "      <td>2</td>\n",
       "      <td>Join Industry Association</td>\n",
       "      <td>Become a member of a relevant professional ass...</td>\n",
       "      <td>6</td>\n",
       "    </tr>\n",
       "    <tr>\n",
       "      <th>3</th>\n",
       "      <td>3</td>\n",
       "      <td>Reflect on Personal Goals</td>\n",
       "      <td>Journal and reassess personal development goal...</td>\n",
       "      <td>5</td>\n",
       "    </tr>\n",
       "    <tr>\n",
       "      <th>4</th>\n",
       "      <td>4</td>\n",
       "      <td>Task: Conduct Survey</td>\n",
       "      <td>Organize customer satisfaction survey distribu...</td>\n",
       "      <td>7</td>\n",
       "    </tr>\n",
       "  </tbody>\n",
       "</table>\n",
       "</div>"
      ],
      "text/plain": [
       "   Unnamed: 0                         Name  \\\n",
       "0           0   Complete Work Assignment     \n",
       "1           1                  Read Book     \n",
       "2           2  Join Industry Association     \n",
       "3           3  Reflect on Personal Goals     \n",
       "4           4         Task: Conduct Survey   \n",
       "\n",
       "                                         Description  Importance  \n",
       "0  Finish assigned tasks by the deadline for proj...          10  \n",
       "1  Read ‘Atomic Habits’ to gain insights into hab...           4  \n",
       "2  Become a member of a relevant professional ass...           6  \n",
       "3  Journal and reassess personal development goal...           5  \n",
       "4  Organize customer satisfaction survey distribu...           7  "
      ]
     },
     "execution_count": 77,
     "metadata": {},
     "output_type": "execute_result"
    }
   ],
   "source": [
    "import pandas as pd\n",
    "\n",
    "dataframe = pd.read_csv('dataset.csv')\n",
    "dataframe.head()"
   ]
  },
  {
   "cell_type": "code",
   "execution_count": 78,
   "id": "953322ca",
   "metadata": {},
   "outputs": [
    {
     "name": "stdout",
     "output_type": "stream",
     "text": [
      "20000\n"
     ]
    }
   ],
   "source": [
    "task_names = dataframe[\"Name\"]\n",
    "task_descriptions = dataframe[\"Description\"]\n",
    "importances = dataframe[\"Importance\"]\n",
    "print(len(task_names))"
   ]
  },
  {
   "cell_type": "code",
   "execution_count": 79,
   "id": "20124e5f",
   "metadata": {},
   "outputs": [
    {
     "name": "stdout",
     "output_type": "stream",
     "text": [
      "['complete work assignment   finish assigned tasks by the deadline for project completion. high priority work task.  ', 'read book   read ‘atomic habits’ to gain insights into habit formation which is beneficial for personal growth, though not immediately urgent.  ']\n"
     ]
    }
   ],
   "source": [
    "concatenated = [str(task_names[i]).lower() + \" \" + str(task_descriptions[i]).lower() for i in range(len(task_names))]\n",
    "print(concatenated[:2])"
   ]
  },
  {
   "cell_type": "code",
   "execution_count": 80,
   "id": "5c6ff4fd",
   "metadata": {},
   "outputs": [
    {
     "name": "stdout",
     "output_type": "stream",
     "text": [
      "['complete work assignment   finish assigned tasks by the deadline for project completion  high priority work task   ', 'read book   read  atomic habits  to gain insights into habit formation which is beneficial for personal growth  though not immediately urgent   ']\n"
     ]
    }
   ],
   "source": [
    "alphanumeric = []\n",
    "for task in concatenated:\n",
    "    new_task = ''.join([character if character.isalnum() else ' ' for character in task])\n",
    "    alphanumeric.append(new_task)\n",
    "print(alphanumeric[:2])"
   ]
  },
  {
   "cell_type": "code",
   "execution_count": 81,
   "id": "2f48fa1f",
   "metadata": {},
   "outputs": [
    {
     "name": "stdout",
     "output_type": "stream",
     "text": [
      "[['complete', 'work', 'assignment', 'finish', 'assigned', 'tasks', 'by', 'the', 'deadline', 'for', 'project', 'completion', 'high', 'priority', 'work', 'task'], ['read', 'book', 'read', 'atomic', 'habits', 'to', 'gain', 'insights', 'into', 'habit', 'formation', 'which', 'is', 'beneficial', 'for', 'personal', 'growth', 'though', 'not', 'immediately', 'urgent'], ['join', 'industry', 'association', 'become', 'a', 'member', 'of', 'a', 'relevant', 'professional', 'association', 'for', 'networking'], ['reflect', 'on', 'personal', 'goals', 'journal', 'and', 'reassess', 'personal', 'development', 'goals', 'for', 'the', 'year'], ['task', 'conduct', 'survey', 'organize', 'customer', 'satisfaction', 'survey', 'distribution', 'important', 'for', 'service', 'improvements']]\n"
     ]
    }
   ],
   "source": [
    "tokens = []\n",
    "for task in alphanumeric:\n",
    "    tokens.append([word for word in task.split() if word != ''])\n",
    "print(tokens[:5])"
   ]
  },
  {
   "cell_type": "code",
   "execution_count": 82,
   "id": "65754bcf",
   "metadata": {},
   "outputs": [
    {
     "name": "stdout",
     "output_type": "stream",
     "text": [
      "8040\n"
     ]
    }
   ],
   "source": [
    "vocabulary = set()\n",
    "for task in tokens:\n",
    "    for token in task:\n",
    "        vocabulary.add(token)\n",
    "vocabulary = list(vocabulary)\n",
    "print(len(vocabulary))"
   ]
  },
  {
   "cell_type": "code",
   "execution_count": 83,
   "id": "86fce95d",
   "metadata": {},
   "outputs": [
    {
     "name": "stdout",
     "output_type": "stream",
     "text": [
      "[array([3023, 2378, 5500,  175, 3499, 2939, 6782, 2389, 2294, 3047, 4144,\n",
      "       7277, 4238, 7877, 2378, 4477]), array([ 893, 7288,  893, 2933, 2508, 1425, 5577, 7951, 7850, 5642, 2056,\n",
      "       5763,  609, 1884, 3047, 3294, 4732,  152, 6727, 5460, 3153]), array([6780, 1881, 1602, 6359, 6408, 3475, 3198, 6408, 7370, 3593, 1602,\n",
      "       3047,  240]), array([ 885, 2020, 3294, 5061, 3371, 3815, 2744, 3294, 7996, 5061, 3047,\n",
      "       2389, 5384]), array([4477, 3673, 7969, 1264, 8018, 6229, 7969, 5473, 1325, 3047,  892,\n",
      "       3164])]\n"
     ]
    }
   ],
   "source": [
    "import numpy as np\n",
    "\n",
    "word2index = dict()\n",
    "for i, w in enumerate(vocabulary):\n",
    "    word2index[w] = i\n",
    "indices = [np.asarray([word2index[token] for token in task]) for task in tokens]\n",
    "print(indices[:5])"
   ]
  },
  {
   "cell_type": "code",
   "execution_count": 84,
   "id": "a7465857",
   "metadata": {},
   "outputs": [],
   "source": [
    "from autograd import Tensor\n",
    "from layers import Embedding, LSTMCell, MSELoss, Linear, Relu, Sequential\n",
    "from optimisers import Adam\n",
    "\n",
    "embedding = Embedding(vocab_size=len(vocabulary), dim=512)\n",
    "model = Sequential([LSTMCell(n_inputs=512, n_outputs=512), LSTMCell(n_inputs=512, n_outputs=256), LSTMCell(n_inputs=256, n_outputs=128)])\n",
    "output_layer = Sequential([Linear(n_inputs=128, n_outputs=256), Relu(), Linear(n_inputs=256, n_outputs=1)])"
   ]
  },
  {
   "cell_type": "code",
   "execution_count": 85,
   "id": "ea42af64",
   "metadata": {},
   "outputs": [],
   "source": [
    "criterion = MSELoss()\n",
    "optimiser = Adam(parameters=model.get_parameters() + embedding.get_parameters() + output_layer.get_parameters(), alpha=0.0001)"
   ]
  },
  {
   "cell_type": "code",
   "execution_count": 86,
   "id": "3a357ac6",
   "metadata": {},
   "outputs": [
    {
     "name": "stdout",
     "output_type": "stream",
     "text": [
      "(13,) 14016\n"
     ]
    }
   ],
   "source": [
    "import random\n",
    "\n",
    "random.shuffle(indices)\n",
    "\n",
    "X_train = indices[:int(len(indices) * 0.7008)]\n",
    "y_train = importances[:int(len(indices) * 0.7008)]\n",
    "\n",
    "X_cv = indices[int(len(indices) * 0.7008):int(len(indices) * 0.8)]\n",
    "y_cv = importances[int(len(indices) * 0.7008):int(len(indices) * 0.8)]\n",
    "\n",
    "X_test = indices[int(len(indices) * 0.8):]\n",
    "y_test = importances[int(len(indices) * 0.8):]\n",
    "\n",
    "print(X_train[0].shape, len(X_train))"
   ]
  },
  {
   "cell_type": "code",
   "execution_count": 87,
   "id": "67a3c1f6",
   "metadata": {},
   "outputs": [],
   "source": [
    "def predict(task_indices):\n",
    "    hidden0 = model.layers[0].init_hidden()\n",
    "    hidden1 = model.layers[1].init_hidden()\n",
    "    hidden2 = model.layers[2].init_hidden()\n",
    "    for t in range(len(task_indices)):\n",
    "        input = Tensor([task_indices[t]], autograd=True)\n",
    "        lstm_input = embedding.forward(input=input)\n",
    "        hidden0 = model.layers[0].forward(input=lstm_input, hidden=hidden0)\n",
    "        hidden1 = model.layers[1].forward(input=hidden0[0], hidden=hidden1)\n",
    "        hidden2 = model.layers[2].forward(input=hidden1[0], hidden=hidden2)\n",
    "    output = output_layer.forward(hidden2[0])\n",
    "    \n",
    "    return output"
   ]
  },
  {
   "cell_type": "code",
   "execution_count": 88,
   "id": "a017e46f",
   "metadata": {},
   "outputs": [],
   "source": [
    "def cv_loss():\n",
    "    total_loss = 0\n",
    "    for task_i in range(len(X_cv)):\n",
    "        output = predict(X_cv[task_i])\n",
    "        output = output * Tensor(np.ones(output.data.shape), autograd=True)\n",
    "        target = Tensor(np.array(y_cv)[task_i], autograd=True)\n",
    "        loss = criterion.forward(output, target)\n",
    "        total_loss += loss.data\n",
    "    return total_loss / len(X_cv)"
   ]
  },
  {
   "cell_type": "code",
   "execution_count": 89,
   "id": "d75590e7",
   "metadata": {},
   "outputs": [
    {
     "data": {
      "image/png": "[encoded data removed]",
      "text/plain": [
       "<Figure size 640x480 with 1 Axes>"
      ]
     },
     "metadata": {},
     "output_type": "display_data"
    },
    {
     "name": "stdout",
     "output_type": "stream",
     "text": [
      "Training loss: 4.1107040864319 - Validation loss: [3.29086657]\n",
      "Epoch: 1 - Alpha: 0.000 - Batch 45/438 - Example 1440/14016\r"
     ]
    },
    {
     "ename": "KeyboardInterrupt",
     "evalue": "",
     "output_type": "error",
     "traceback": [
      "\u001b[1;31m---------------------------------------------------------------------------\u001b[0m",
      "\u001b[1;31mKeyboardInterrupt\u001b[0m                         Traceback (most recent call last)",
      "Cell \u001b[1;32mIn[89], line 69\u001b[0m\n\u001b[0;32m     66\u001b[0m     total_loss \u001b[38;5;241m=\u001b[39m Tensor(np\u001b[38;5;241m.\u001b[39masarray(\u001b[38;5;241m0\u001b[39m), autograd\u001b[38;5;241m=\u001b[39m\u001b[38;5;28;01mTrue\u001b[39;00m)\n\u001b[0;32m     68\u001b[0m \u001b[38;5;28;01mif\u001b[39;00m (task_i \u001b[38;5;241m+\u001b[39m \u001b[38;5;241m1\u001b[39m) \u001b[38;5;241m%\u001b[39m (batch_size \u001b[38;5;241m*\u001b[39m \u001b[38;5;241m3\u001b[39m) \u001b[38;5;241m==\u001b[39m \u001b[38;5;241m0\u001b[39m:\n\u001b[1;32m---> 69\u001b[0m     cv_losses\u001b[38;5;241m.\u001b[39mappend(cv_loss())\n\u001b[0;32m     70\u001b[0m     display\u001b[38;5;241m.\u001b[39mclear_output()\n\u001b[0;32m     71\u001b[0m     plt\u001b[38;5;241m.\u001b[39mplot(training_losses)\n",
      "Cell \u001b[1;32mIn[88], line 4\u001b[0m, in \u001b[0;36mcv_loss\u001b[1;34m()\u001b[0m\n\u001b[0;32m      2\u001b[0m total_loss \u001b[38;5;241m=\u001b[39m \u001b[38;5;241m0\u001b[39m\n\u001b[0;32m      3\u001b[0m \u001b[38;5;28;01mfor\u001b[39;00m task_i \u001b[38;5;129;01min\u001b[39;00m \u001b[38;5;28mrange\u001b[39m(\u001b[38;5;28mlen\u001b[39m(X_cv)):\n\u001b[1;32m----> 4\u001b[0m     output \u001b[38;5;241m=\u001b[39m predict(X_cv[task_i])\n\u001b[0;32m      5\u001b[0m     output \u001b[38;5;241m=\u001b[39m output \u001b[38;5;241m*\u001b[39m Tensor(np\u001b[38;5;241m.\u001b[39mones(output\u001b[38;5;241m.\u001b[39mdata\u001b[38;5;241m.\u001b[39mshape), autograd\u001b[38;5;241m=\u001b[39m\u001b[38;5;28;01mTrue\u001b[39;00m)\n\u001b[0;32m      6\u001b[0m     target \u001b[38;5;241m=\u001b[39m Tensor(np\u001b[38;5;241m.\u001b[39marray(y_cv)[task_i], autograd\u001b[38;5;241m=\u001b[39m\u001b[38;5;28;01mTrue\u001b[39;00m)\n",
      "Cell \u001b[1;32mIn[87], line 8\u001b[0m, in \u001b[0;36mpredict\u001b[1;34m(task_indices)\u001b[0m\n\u001b[0;32m      6\u001b[0m \u001b[38;5;28minput\u001b[39m \u001b[38;5;241m=\u001b[39m Tensor([task_indices[t]], autograd\u001b[38;5;241m=\u001b[39m\u001b[38;5;28;01mTrue\u001b[39;00m)\n\u001b[0;32m      7\u001b[0m lstm_input \u001b[38;5;241m=\u001b[39m embedding\u001b[38;5;241m.\u001b[39mforward(\u001b[38;5;28minput\u001b[39m\u001b[38;5;241m=\u001b[39m\u001b[38;5;28minput\u001b[39m)\n\u001b[1;32m----> 8\u001b[0m hidden0 \u001b[38;5;241m=\u001b[39m model\u001b[38;5;241m.\u001b[39mlayers[\u001b[38;5;241m0\u001b[39m]\u001b[38;5;241m.\u001b[39mforward(\u001b[38;5;28minput\u001b[39m\u001b[38;5;241m=\u001b[39mlstm_input, hidden\u001b[38;5;241m=\u001b[39mhidden0)\n\u001b[0;32m      9\u001b[0m hidden1 \u001b[38;5;241m=\u001b[39m model\u001b[38;5;241m.\u001b[39mlayers[\u001b[38;5;241m1\u001b[39m]\u001b[38;5;241m.\u001b[39mforward(\u001b[38;5;28minput\u001b[39m\u001b[38;5;241m=\u001b[39mhidden0[\u001b[38;5;241m0\u001b[39m], hidden\u001b[38;5;241m=\u001b[39mhidden1)\n\u001b[0;32m     10\u001b[0m hidden2 \u001b[38;5;241m=\u001b[39m model\u001b[38;5;241m.\u001b[39mlayers[\u001b[38;5;241m2\u001b[39m]\u001b[38;5;241m.\u001b[39mforward(\u001b[38;5;28minput\u001b[39m\u001b[38;5;241m=\u001b[39mhidden1[\u001b[38;5;241m0\u001b[39m], hidden\u001b[38;5;241m=\u001b[39mhidden2)\n",
      "File \u001b[1;32mc:\\Users\\dasha\\Documents\\A Levels\\Computer Science\\NEA\\smart-planner\\importance-prediction-model\\layers.py:495\u001b[0m, in \u001b[0;36mLSTMCell.forward\u001b[1;34m(self, input, hidden)\u001b[0m\n\u001b[0;32m    491\u001b[0m previous_hidden \u001b[38;5;241m=\u001b[39m hidden[\u001b[38;5;241m0\u001b[39m]\n\u001b[0;32m    492\u001b[0m previous_cell \u001b[38;5;241m=\u001b[39m hidden[\u001b[38;5;241m1\u001b[39m]\n\u001b[0;32m    494\u001b[0m forgetting_gate \u001b[38;5;241m=\u001b[39m (\n\u001b[1;32m--> 495\u001b[0m     \u001b[38;5;28mself\u001b[39m\u001b[38;5;241m.\u001b[39minput_to_forgetting_gate\u001b[38;5;241m.\u001b[39mforward(\u001b[38;5;28minput\u001b[39m)\n\u001b[0;32m    496\u001b[0m     \u001b[38;5;241m+\u001b[39m \u001b[38;5;28mself\u001b[39m\u001b[38;5;241m.\u001b[39mhidden_to_forgetting_gate\u001b[38;5;241m.\u001b[39mforward(previous_hidden)\n\u001b[0;32m    497\u001b[0m )\u001b[38;5;241m.\u001b[39msigmoid()\n\u001b[0;32m    498\u001b[0m input_gate \u001b[38;5;241m=\u001b[39m (\n\u001b[0;32m    499\u001b[0m     \u001b[38;5;28mself\u001b[39m\u001b[38;5;241m.\u001b[39minput_to_input_gate\u001b[38;5;241m.\u001b[39mforward(\u001b[38;5;28minput\u001b[39m)\n\u001b[0;32m    500\u001b[0m     \u001b[38;5;241m+\u001b[39m \u001b[38;5;28mself\u001b[39m\u001b[38;5;241m.\u001b[39mhidden_to_input_gate\u001b[38;5;241m.\u001b[39mforward(previous_hidden)\n\u001b[0;32m    501\u001b[0m )\u001b[38;5;241m.\u001b[39msigmoid()\n\u001b[0;32m    502\u001b[0m output_gate \u001b[38;5;241m=\u001b[39m (\n\u001b[0;32m    503\u001b[0m     \u001b[38;5;28mself\u001b[39m\u001b[38;5;241m.\u001b[39minput_to_output_gate\u001b[38;5;241m.\u001b[39mforward(\u001b[38;5;28minput\u001b[39m)\n\u001b[0;32m    504\u001b[0m     \u001b[38;5;241m+\u001b[39m \u001b[38;5;28mself\u001b[39m\u001b[38;5;241m.\u001b[39mhidden_to_output_gate\u001b[38;5;241m.\u001b[39mforward(previous_hidden)\n\u001b[0;32m    505\u001b[0m )\u001b[38;5;241m.\u001b[39msigmoid()\n",
      "File \u001b[1;32mc:\\Users\\dasha\\Documents\\A Levels\\Computer Science\\NEA\\smart-planner\\importance-prediction-model\\layers.py:77\u001b[0m, in \u001b[0;36mLinear.forward\u001b[1;34m(self, input)\u001b[0m\n\u001b[0;32m     63\u001b[0m \u001b[38;5;28;01mdef\u001b[39;00m \u001b[38;5;21mforward\u001b[39m(\u001b[38;5;28mself\u001b[39m, \u001b[38;5;28minput\u001b[39m: Tensor) \u001b[38;5;241m-\u001b[39m\u001b[38;5;241m>\u001b[39m Tensor:\n\u001b[0;32m     64\u001b[0m \u001b[38;5;250m    \u001b[39m\u001b[38;5;124;03m\"\"\"\u001b[39;00m\n\u001b[0;32m     65\u001b[0m \u001b[38;5;124;03m    Performs forward propagation on this layer.\u001b[39;00m\n\u001b[0;32m     66\u001b[0m \n\u001b[1;32m   (...)\u001b[0m\n\u001b[0;32m     75\u001b[0m \u001b[38;5;124;03m        The layer's output.\u001b[39;00m\n\u001b[0;32m     76\u001b[0m \u001b[38;5;124;03m    \"\"\"\u001b[39;00m\n\u001b[1;32m---> 77\u001b[0m     \u001b[38;5;28;01mreturn\u001b[39;00m \u001b[38;5;28minput\u001b[39m \u001b[38;5;241m@\u001b[39m \u001b[38;5;28mself\u001b[39m\u001b[38;5;241m.\u001b[39mweight \u001b[38;5;241m+\u001b[39m \u001b[38;5;28mself\u001b[39m\u001b[38;5;241m.\u001b[39mbias\u001b[38;5;241m.\u001b[39mexpand(\u001b[38;5;241m0\u001b[39m, \u001b[38;5;28mlen\u001b[39m(\u001b[38;5;28minput\u001b[39m\u001b[38;5;241m.\u001b[39mdata))\n",
      "File \u001b[1;32mc:\\Users\\dasha\\Documents\\A Levels\\Computer Science\\NEA\\smart-planner\\importance-prediction-model\\autograd.py:336\u001b[0m, in \u001b[0;36mTensor.__matmul__\u001b[1;34m(self, other)\u001b[0m\n\u001b[0;32m    319\u001b[0m \u001b[38;5;250m\u001b[39m\u001b[38;5;124;03m\"\"\"\u001b[39;00m\n\u001b[0;32m    320\u001b[0m \u001b[38;5;124;03mPerforms matrix multiplication on two tensors (multiplies this tensor by\u001b[39;00m\n\u001b[0;32m    321\u001b[0m \u001b[38;5;124;03mthe 'other' tensor).\u001b[39;00m\n\u001b[1;32m   (...)\u001b[0m\n\u001b[0;32m    333\u001b[0m \u001b[38;5;124;03m    tensor.\u001b[39;00m\n\u001b[0;32m    334\u001b[0m \u001b[38;5;124;03m\"\"\"\u001b[39;00m\n\u001b[0;32m    335\u001b[0m \u001b[38;5;28;01mif\u001b[39;00m \u001b[38;5;28mself\u001b[39m\u001b[38;5;241m.\u001b[39mautograd:\n\u001b[1;32m--> 336\u001b[0m     \u001b[38;5;28;01mreturn\u001b[39;00m Tensor(\n\u001b[0;32m    337\u001b[0m         \u001b[38;5;28mself\u001b[39m\u001b[38;5;241m.\u001b[39mdata \u001b[38;5;241m@\u001b[39m other\u001b[38;5;241m.\u001b[39mdata,\n\u001b[0;32m    338\u001b[0m         autograd\u001b[38;5;241m=\u001b[39m\u001b[38;5;28;01mTrue\u001b[39;00m,\n\u001b[0;32m    339\u001b[0m         creators\u001b[38;5;241m=\u001b[39m[\u001b[38;5;28mself\u001b[39m, other],\n\u001b[0;32m    340\u001b[0m         creation_op\u001b[38;5;241m=\u001b[39m\u001b[38;5;124m\"\u001b[39m\u001b[38;5;124mmatmul\u001b[39m\u001b[38;5;124m\"\u001b[39m\n\u001b[0;32m    341\u001b[0m     )\n\u001b[0;32m    342\u001b[0m \u001b[38;5;28;01mreturn\u001b[39;00m Tensor(\u001b[38;5;28mself\u001b[39m\u001b[38;5;241m.\u001b[39mdata \u001b[38;5;241m@\u001b[39m other\u001b[38;5;241m.\u001b[39mdata)\n",
      "File \u001b[1;32mc:\\Users\\dasha\\Documents\\A Levels\\Computer Science\\NEA\\smart-planner\\importance-prediction-model\\autograd.py:40\u001b[0m, in \u001b[0;36mTensor.__init__\u001b[1;34m(self, data, autograd, creators, creation_op, id)\u001b[0m\n\u001b[0;32m     39\u001b[0m \u001b[38;5;28;01mclass\u001b[39;00m \u001b[38;5;21;01mTensor\u001b[39;00m:\n\u001b[1;32m---> 40\u001b[0m     \u001b[38;5;28;01mdef\u001b[39;00m \u001b[38;5;21m__init__\u001b[39m(\n\u001b[0;32m     41\u001b[0m             \u001b[38;5;28mself\u001b[39m,\n\u001b[0;32m     42\u001b[0m             data,\n\u001b[0;32m     43\u001b[0m             autograd\u001b[38;5;241m=\u001b[39m\u001b[38;5;28;01mFalse\u001b[39;00m,\n\u001b[0;32m     44\u001b[0m             creators: \u001b[38;5;28mlist\u001b[39m[Tensor] \u001b[38;5;241m=\u001b[39m \u001b[38;5;28;01mNone\u001b[39;00m,\n\u001b[0;32m     45\u001b[0m             creation_op: \u001b[38;5;28mstr\u001b[39m \u001b[38;5;241m=\u001b[39m \u001b[38;5;28;01mNone\u001b[39;00m,\n\u001b[0;32m     46\u001b[0m             \u001b[38;5;28mid\u001b[39m: \u001b[38;5;28mint\u001b[39m \u001b[38;5;241m=\u001b[39m \u001b[38;5;28;01mNone\u001b[39;00m\n\u001b[0;32m     47\u001b[0m     ) \u001b[38;5;241m-\u001b[39m\u001b[38;5;241m>\u001b[39m \u001b[38;5;28;01mNone\u001b[39;00m:\n\u001b[0;32m     48\u001b[0m         \u001b[38;5;28mself\u001b[39m\u001b[38;5;241m.\u001b[39mdata \u001b[38;5;241m=\u001b[39m np\u001b[38;5;241m.\u001b[39masarray(data)\n\u001b[0;32m     49\u001b[0m         \u001b[38;5;28mself\u001b[39m\u001b[38;5;241m.\u001b[39mcreators \u001b[38;5;241m=\u001b[39m creators\n",
      "\u001b[1;31mKeyboardInterrupt\u001b[0m: "
     ]
    }
   ],
   "source": [
    "from matplotlib import pyplot as plt\n",
    "from IPython import display\n",
    "\n",
    "training_losses = []\n",
    "cv_losses = []\n",
    "\n",
    "min_loss = 1000\n",
    "iterations = 100\n",
    "timestep = 0\n",
    "batch_size = 32\n",
    "moment1 = [np.zeros(p.data.shape) for p in model.get_parameters() + embedding.get_parameters() + output_layer.get_parameters()]\n",
    "moment2 = [np.zeros(p.data.shape) for p in model.get_parameters() + embedding.get_parameters() + output_layer.get_parameters()]\n",
    "weight_decay = 0.001\n",
    "\n",
    "for iteration in range(iterations):\n",
    "    total_loss = Tensor(np.asarray(0), autograd=True)\n",
    "    \n",
    "    # Iterate through the training examples\n",
    "    for task_i in range(0, len(X_train)):\n",
    "        timestep += 1\n",
    "\n",
    "        # Initialise the model before inference\n",
    "        hidden0 = model.layers[0].init_hidden()\n",
    "        hidden1 = model.layers[1].init_hidden()\n",
    "        hidden2 = model.layers[2].init_hidden()\n",
    "        \n",
    "        # Iterate through each token in the current training example\n",
    "        for t in range(len(X_train[task_i])):\n",
    "            input = np.zeros(shape=(1,len(vocabulary)))\n",
    "            input[0, X_train[task_i][t]] = 1\n",
    "            input = Tensor(input, autograd=True)\n",
    "            lstm_input = embedding.forward(input=input)\n",
    "            hidden0 = model.layers[0].forward(input=lstm_input, hidden=hidden0)\n",
    "            hidden1 = model.layers[1].forward(input=hidden0[0], hidden=hidden1)\n",
    "            hidden2 = model.layers[2].forward(input=hidden1[0], hidden=hidden2)\n",
    "        \n",
    "        # Get the output of the model\n",
    "        output = output_layer.forward(hidden2[0])\n",
    "\n",
    "        # Compute loss for the current training example\n",
    "        target = Tensor(y_train[task_i], autograd=True)\n",
    "        loss = criterion.forward(output, target)\n",
    "        loss.data = loss.data.reshape(())\n",
    "        \n",
    "        # Accumulate loss for the current batch\n",
    "        total_loss = total_loss + loss\n",
    "\n",
    "        print(f\"Epoch: {iteration + 1} - Alpha: {str(optimiser.alpha)[:5]} - Batch {task_i // 32 + 1}/{len(X_train) // 32} - Example {task_i + 1}/{len(X_train)}\", end='\\r')\n",
    "\n",
    "        # If all training examples in this batch have been processed\n",
    "        if (task_i + 1) % batch_size == 0:\n",
    "            # Calculate the average loss\n",
    "            total_loss = total_loss * Tensor(np.asarray(0.03125), autograd=True)\n",
    "\n",
    "            training_losses.append(total_loss.data)\n",
    "\n",
    "            # Add L2 regularisation\n",
    "            for parameter in model.get_parameters() + embedding.get_parameters() + output_layer.get_parameters():\n",
    "                if len(parameter.data.shape) == 1:  # 1D bias parameter\n",
    "                    total_loss = total_loss + (parameter * parameter).sum(0) * Tensor(np.asarray(weight_decay), autograd=True)\n",
    "                else:  # 2D parameter\n",
    "                    total_loss = total_loss + (parameter * parameter).sum(1).sum(0) * Tensor(np.asarray(weight_decay), autograd=True)\n",
    "\n",
    "            total_loss.backward()\n",
    "            moment1, moment2 = optimiser.step(timestep, moment1, moment2)\n",
    "            total_loss = Tensor(np.asarray(0), autograd=True)\n",
    "\n",
    "        if (task_i + 1) % (batch_size * 3) == 0:\n",
    "            cv_losses.append(cv_loss())\n",
    "            display.clear_output()\n",
    "            plt.plot(training_losses)\n",
    "            plt.plot(range(3, len(cv_losses) * 3 + 1, 3), cv_losses, color=\"red\")\n",
    "            plt.xlabel(\"Batch number\")\n",
    "            plt.ylabel(\"Loss\")\n",
    "            plt.legend([\"training loss\", \"validation loss\"])\n",
    "            plt.show()\n",
    "            print(\"Training loss:\", training_losses[-1], \"- Validation loss:\", cv_losses[-1])"
   ]
  },
  {
   "cell_type": "code",
   "execution_count": 213,
   "id": "fba0be0f",
   "metadata": {},
   "outputs": [
    {
     "name": "stdout",
     "output_type": "stream",
     "text": [
      "Task 1/4000 - Loss: [19.090578]\r"
     ]
    },
    {
     "ename": "AttributeError",
     "evalue": "'numpy.ndarray' object has no attribute 'autograd'",
     "output_type": "error",
     "traceback": [
      "\u001b[1;31m---------------------------------------------------------------------------\u001b[0m",
      "\u001b[1;31mAttributeError\u001b[0m                            Traceback (most recent call last)",
      "Cell \u001b[1;32mIn[213], line 6\u001b[0m\n\u001b[0;32m      4\u001b[0m     loss \u001b[38;5;241m=\u001b[39m criterion\u001b[38;5;241m.\u001b[39mforward(output, target)\n\u001b[0;32m      5\u001b[0m     \u001b[38;5;28mprint\u001b[39m(\u001b[38;5;124mf\u001b[39m\u001b[38;5;124m\"\u001b[39m\u001b[38;5;124mTask \u001b[39m\u001b[38;5;132;01m{\u001b[39;00mtask_i\u001b[38;5;250m \u001b[39m\u001b[38;5;241m+\u001b[39m\u001b[38;5;250m \u001b[39m\u001b[38;5;241m1\u001b[39m\u001b[38;5;132;01m}\u001b[39;00m\u001b[38;5;124m/\u001b[39m\u001b[38;5;132;01m{\u001b[39;00m\u001b[38;5;28mlen\u001b[39m(X_test)\u001b[38;5;132;01m}\u001b[39;00m\u001b[38;5;124m - Loss: \u001b[39m\u001b[38;5;132;01m{\u001b[39;00mloss\u001b[38;5;241m.\u001b[39mdata\u001b[38;5;132;01m}\u001b[39;00m\u001b[38;5;124m\"\u001b[39m, end\u001b[38;5;241m=\u001b[39m\u001b[38;5;124m'\u001b[39m\u001b[38;5;130;01m\\r\u001b[39;00m\u001b[38;5;124m'\u001b[39m)\n\u001b[1;32m----> 6\u001b[0m     total_loss \u001b[38;5;241m+\u001b[39m\u001b[38;5;241m=\u001b[39m loss\u001b[38;5;241m.\u001b[39mdata \u001b[38;5;241m/\u001b[39m \u001b[38;5;28mlen\u001b[39m(X_test[task_i])\n\u001b[0;32m      7\u001b[0m loss_to_display \u001b[38;5;241m=\u001b[39m np\u001b[38;5;241m.\u001b[39mexp(total_loss \u001b[38;5;241m/\u001b[39m (task_i \u001b[38;5;241m+\u001b[39m \u001b[38;5;241m1\u001b[39m))\n\u001b[0;32m      8\u001b[0m \u001b[38;5;28mprint\u001b[39m()\n",
      "File \u001b[1;32mc:\\Users\\dasha\\Documents\\A Levels\\Computer Science\\NEA\\smart-planner\\importance-prediction-model\\autograd.py:239\u001b[0m, in \u001b[0;36mTensor.__add__\u001b[1;34m(self, other)\u001b[0m\n\u001b[0;32m    224\u001b[0m \u001b[38;5;28;01mdef\u001b[39;00m \u001b[38;5;21m__add__\u001b[39m(\u001b[38;5;28mself\u001b[39m, other: Tensor) \u001b[38;5;241m-\u001b[39m\u001b[38;5;241m>\u001b[39m Tensor:\n\u001b[0;32m    225\u001b[0m \u001b[38;5;250m    \u001b[39m\u001b[38;5;124;03m\"\"\"\u001b[39;00m\n\u001b[0;32m    226\u001b[0m \u001b[38;5;124;03m    Adds two tensors together.\u001b[39;00m\n\u001b[0;32m    227\u001b[0m \n\u001b[1;32m   (...)\u001b[0m\n\u001b[0;32m    237\u001b[0m \u001b[38;5;124;03m        The tensor produced when adding the 'other' tensor to this tensor.\u001b[39;00m\n\u001b[0;32m    238\u001b[0m \u001b[38;5;124;03m    \"\"\"\u001b[39;00m\n\u001b[1;32m--> 239\u001b[0m     \u001b[38;5;28;01mif\u001b[39;00m \u001b[38;5;28mself\u001b[39m\u001b[38;5;241m.\u001b[39mautograd \u001b[38;5;129;01mand\u001b[39;00m other\u001b[38;5;241m.\u001b[39mautograd:\n\u001b[0;32m    240\u001b[0m         \u001b[38;5;28;01mreturn\u001b[39;00m Tensor(\n\u001b[0;32m    241\u001b[0m             \u001b[38;5;28mself\u001b[39m\u001b[38;5;241m.\u001b[39mdata \u001b[38;5;241m+\u001b[39m other\u001b[38;5;241m.\u001b[39mdata,\n\u001b[0;32m    242\u001b[0m             autograd\u001b[38;5;241m=\u001b[39m\u001b[38;5;28;01mTrue\u001b[39;00m,\n\u001b[0;32m    243\u001b[0m             creators\u001b[38;5;241m=\u001b[39m[\u001b[38;5;28mself\u001b[39m, other],\n\u001b[0;32m    244\u001b[0m             creation_op\u001b[38;5;241m=\u001b[39m\u001b[38;5;124m\"\u001b[39m\u001b[38;5;124madd\u001b[39m\u001b[38;5;124m\"\u001b[39m\n\u001b[0;32m    245\u001b[0m         )\n\u001b[0;32m    246\u001b[0m     \u001b[38;5;28;01mreturn\u001b[39;00m Tensor(\u001b[38;5;28mself\u001b[39m\u001b[38;5;241m.\u001b[39mdata \u001b[38;5;241m+\u001b[39m other\u001b[38;5;241m.\u001b[39mdata)\n",
      "\u001b[1;31mAttributeError\u001b[0m: 'numpy.ndarray' object has no attribute 'autograd'"
     ]
    }
   ],
   "source": [
    "for task_i in range(len(X_test)):\n",
    "    output = predict(X_test[task_i])\n",
    "    target = Tensor(np.array(y_test)[task_i], autograd=True)\n",
    "    loss = criterion.forward(output, target)\n",
    "    print(f\"Task {task_i + 1}/{len(X_test)} - Loss: {loss.data}\", end='\\r')\n",
    "    total_loss += loss.data / len(X_test[task_i])\n",
    "loss_to_display = np.exp(total_loss / (task_i + 1))\n",
    "print()\n",
    "print(loss_to_display)"
   ]
  },
  {
   "cell_type": "code",
   "execution_count": 90,
   "id": "57fbbf87",
   "metadata": {},
   "outputs": [],
   "source": [
    "import pickle as pkl\n",
    "\n",
    "with open(\"importance_embedding.pkl\", \"wb\") as file:\n",
    "    pkl.dump(embedding, file)\n",
    "\n",
    "with open(\"importance_model.pkl\", \"wb\") as file:\n",
    "    pkl.dump(model, file)\n",
    "\n",
    "with open(\"importance_output.pkl\", \"wb\") as file:\n",
    "    pkl.dump(output_layer, file)\n",
    "\n",
    "with open(\"word2index.pkl\", \"wb\") as file:\n",
    "    pkl.dump(word2index, file)"
   ]
  },
  {
   "cell_type": "code",
   "execution_count": 10,
   "id": "74df4b09",
   "metadata": {},
   "outputs": [],
   "source": [
    "import pickle as pkl\n",
    "\n",
    "with open(\"importance_embedding.pkl\", \"rb\") as file:\n",
    "    embedding = pkl.load(file)\n",
    "\n",
    "with open(\"importance_model.pkl\", \"rb\") as file:\n",
    "    model = pkl.load(file)\n",
    "\n",
    "with open(\"importance_output.pkl\", \"rb\") as file:\n",
    "    output_layer = pkl.load(file)\n",
    "\n",
    "with open(\"word2index.pkl\", \"rb\") as file:\n",
    "    word2index = pkl.load(file)"
   ]
  }
 ],
 "metadata": {
  "kernelspec": {
   "display_name": "base",
   "language": "python",
   "name": "python3"
  },
  "language_info": {
   "codemirror_mode": {
    "name": "ipython",
    "version": 3
   },
   "file_extension": ".py",
   "mimetype": "text/x-python",
   "name": "python",
   "nbconvert_exporter": "python",
   "pygments_lexer": "ipython3",
   "version": "3.11.5"
  }
 },
 "nbformat": 4,
 "nbformat_minor": 5
}
