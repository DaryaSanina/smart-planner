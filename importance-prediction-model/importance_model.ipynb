{
 "cells": [
  {
   "cell_type": "code",
   "execution_count": 39,
   "id": "e802d67a",
   "metadata": {},
   "outputs": [
    {
     "data": {
      "text/html": [
       "<div>\n",
       "<style scoped>\n",
       "    .dataframe tbody tr th:only-of-type {\n",
       "        vertical-align: middle;\n",
       "    }\n",
       "\n",
       "    .dataframe tbody tr th {\n",
       "        vertical-align: top;\n",
       "    }\n",
       "\n",
       "    .dataframe thead th {\n",
       "        text-align: right;\n",
       "    }\n",
       "</style>\n",
       "<table border=\"1\" class=\"dataframe\">\n",
       "  <thead>\n",
       "    <tr style=\"text-align: right;\">\n",
       "      <th></th>\n",
       "      <th>ID</th>\n",
       "      <th>Name</th>\n",
       "      <th>Description</th>\n",
       "      <th>Importance</th>\n",
       "    </tr>\n",
       "  </thead>\n",
       "  <tbody>\n",
       "    <tr>\n",
       "      <th>0</th>\n",
       "      <td>0</td>\n",
       "      <td>Decorate office</td>\n",
       "      <td>Add new decorations to the office space. Good ...</td>\n",
       "      <td>5</td>\n",
       "    </tr>\n",
       "    <tr>\n",
       "      <th>1</th>\n",
       "      <td>1</td>\n",
       "      <td>Walk the dog</td>\n",
       "      <td>Take the dog for a long walk. Make sure to exp...</td>\n",
       "      <td>5</td>\n",
       "    </tr>\n",
       "    <tr>\n",
       "      <th>2</th>\n",
       "      <td>2</td>\n",
       "      <td>Client follow-up</td>\n",
       "      <td>Check in with clients on recent proposals. Key...</td>\n",
       "      <td>7</td>\n",
       "    </tr>\n",
       "    <tr>\n",
       "      <th>3</th>\n",
       "      <td>3</td>\n",
       "      <td>Respond to friend’s text</td>\n",
       "      <td>Message back a friend who texted yesterday. Pe...</td>\n",
       "      <td>3</td>\n",
       "    </tr>\n",
       "    <tr>\n",
       "      <th>4</th>\n",
       "      <td>4</td>\n",
       "      <td>Exercise Routine</td>\n",
       "      <td>Follow daily exercise routine. Important for h...</td>\n",
       "      <td>6</td>\n",
       "    </tr>\n",
       "  </tbody>\n",
       "</table>\n",
       "</div>"
      ],
      "text/plain": [
       "   ID                      Name  \\\n",
       "0   0           Decorate office   \n",
       "1   1              Walk the dog   \n",
       "2   2          Client follow-up   \n",
       "3   3  Respond to friend’s text   \n",
       "4   4          Exercise Routine   \n",
       "\n",
       "                                         Description  Importance  \n",
       "0  Add new decorations to the office space. Good ...           5  \n",
       "1  Take the dog for a long walk. Make sure to exp...           5  \n",
       "2  Check in with clients on recent proposals. Key...           7  \n",
       "3  Message back a friend who texted yesterday. Pe...           3  \n",
       "4  Follow daily exercise routine. Important for h...           6  "
      ]
     },
     "execution_count": 39,
     "metadata": {},
     "output_type": "execute_result"
    }
   ],
   "source": [
    "import pandas as pd\n",
    "\n",
    "dataframe = pd.read_csv('dataset.csv')\n",
    "dataframe.head()"
   ]
  },
  {
   "cell_type": "code",
   "execution_count": 40,
   "id": "953322ca",
   "metadata": {},
   "outputs": [
    {
     "name": "stdout",
     "output_type": "stream",
     "text": [
      "10000\n"
     ]
    }
   ],
   "source": [
    "task_names = dataframe[\"Name\"]\n",
    "task_descriptions = dataframe[\"Description\"]\n",
    "importances = dataframe[\"Importance\"]\n",
    "print(len(task_names))"
   ]
  },
  {
   "cell_type": "code",
   "execution_count": 41,
   "id": "20124e5f",
   "metadata": {},
   "outputs": [
    {
     "name": "stdout",
     "output_type": "stream",
     "text": [
      "['decorate office add new decorations to the office space. good for work environment.', 'walk the dog take the dog for a long walk. make sure to explore new paths and spend some quality time.']\n"
     ]
    }
   ],
   "source": [
    "concatenated = [str(task_names[i]).lower() + \" \" + str(task_descriptions[i]).lower() for i in range(len(task_names))]\n",
    "print(concatenated[:2])"
   ]
  },
  {
   "cell_type": "code",
   "execution_count": 42,
   "id": "5c6ff4fd",
   "metadata": {},
   "outputs": [
    {
     "name": "stdout",
     "output_type": "stream",
     "text": [
      "['decorate office add new decorations to the office space  good for work environment ', 'walk the dog take the dog for a long walk  make sure to explore new paths and spend some quality time ']\n"
     ]
    }
   ],
   "source": [
    "alphanumeric = []\n",
    "for task in concatenated:\n",
    "    new_task = ''.join([character if character.isalnum() else ' ' for character in task])\n",
    "    alphanumeric.append(new_task)\n",
    "print(alphanumeric[:2])"
   ]
  },
  {
   "cell_type": "code",
   "execution_count": 43,
   "id": "2f48fa1f",
   "metadata": {},
   "outputs": [
    {
     "name": "stdout",
     "output_type": "stream",
     "text": [
      "[['decorate', 'office', 'add', 'new', 'decorations', 'to', 'the', 'office', 'space', 'good', 'for', 'work', 'environment'], ['walk', 'the', 'dog', 'take', 'the', 'dog', 'for', 'a', 'long', 'walk', 'make', 'sure', 'to', 'explore', 'new', 'paths', 'and', 'spend', 'some', 'quality', 'time'], ['client', 'follow', 'up', 'check', 'in', 'with', 'clients', 'on', 'recent', 'proposals', 'key', 'for', 'securing', 'new', 'projects'], ['respond', 'to', 'friend', 's', 'text', 'message', 'back', 'a', 'friend', 'who', 'texted', 'yesterday', 'personal', 'low', 'importance'], ['exercise', 'routine', 'follow', 'daily', 'exercise', 'routine', 'important', 'for', 'health', 'and', 'fitness']]\n"
     ]
    }
   ],
   "source": [
    "tokens = []\n",
    "for task in alphanumeric:\n",
    "    tokens.append([word for word in task.split() if word != ''])\n",
    "print(tokens[:5])"
   ]
  },
  {
   "cell_type": "code",
   "execution_count": 44,
   "id": "65754bcf",
   "metadata": {},
   "outputs": [
    {
     "name": "stdout",
     "output_type": "stream",
     "text": [
      "3733\n"
     ]
    }
   ],
   "source": [
    "vocabulary = set()\n",
    "for task in tokens:\n",
    "    for token in task:\n",
    "        vocabulary.add(token)\n",
    "vocabulary = list(vocabulary)\n",
    "print(len(vocabulary))"
   ]
  },
  {
   "cell_type": "code",
   "execution_count": 45,
   "id": "86fce95d",
   "metadata": {},
   "outputs": [
    {
     "name": "stdout",
     "output_type": "stream",
     "text": [
      "[array([1102, 3659, 3661, 2649, 1424, 1526, 2524, 3659, 1210, 2235, 3643,\n",
      "       1112,  248]), array([2219, 2524, 2674, 1175, 2524, 2674, 3643, 1728, 1024, 2219, 3280,\n",
      "       1351, 1526, 2558, 2649,    5, 1202,  748, 2790, 3277, 1363]), array([ 852, 3112, 1800,  509,  454,  364, 1220, 2077, 2008,  703, 2339,\n",
      "       3643, 1212, 2649, 1325]), array([1088, 1526, 3015,  616, 1344,  108, 1700, 1728, 3015,  358,  911,\n",
      "       1675, 1499, 2691, 2772]), array([1543,  348, 3112, 2513, 1543,  348, 2198, 3643,  466, 1202,  732])]\n"
     ]
    }
   ],
   "source": [
    "import cupy as np\n",
    "\n",
    "word2index = dict()\n",
    "for i, w in enumerate(vocabulary):\n",
    "    word2index[w] = i\n",
    "indices = [np.asarray([word2index[token] for token in task]) for task in tokens]\n",
    "print(indices[:5])"
   ]
  },
  {
   "cell_type": "code",
   "execution_count": 46,
   "id": "a7465857",
   "metadata": {},
   "outputs": [],
   "source": [
    "from autograd import Tensor\n",
    "from layers import Embedding, LSTMCell, MSELoss, Linear, Relu, Sequential\n",
    "from optimisers import Adam\n",
    "\n",
    "embedding = Embedding(vocab_size=len(vocabulary), dim=512)\n",
    "model = Sequential([LSTMCell(n_inputs=512, n_outputs=512), LSTMCell(n_inputs=512, n_outputs=512)])\n",
    "output_layer = Sequential([Linear(n_inputs=512, n_outputs=512), Relu(), Linear(n_inputs=512, n_outputs=1)])"
   ]
  },
  {
   "cell_type": "code",
   "execution_count": 47,
   "id": "ea42af64",
   "metadata": {},
   "outputs": [],
   "source": [
    "criterion = MSELoss()\n",
    "optimiser = Adam(parameters=model.get_parameters() + embedding.get_parameters() + output_layer.get_parameters())"
   ]
  },
  {
   "cell_type": "code",
   "execution_count": 48,
   "id": "3a357ac6",
   "metadata": {},
   "outputs": [
    {
     "name": "stdout",
     "output_type": "stream",
     "text": [
      "<class 'pandas.core.series.Series'>\n"
     ]
    }
   ],
   "source": [
    "X_train = indices[:int(len(indices) * 0.8)]\n",
    "y_train = importances[:int(len(indices) * 0.8)]\n",
    "\n",
    "X_test = indices[int(len(indices) * 0.8):]\n",
    "y_test = importances[int(len(indices) * 0.8):]\n",
    "\n",
    "print(type(y_train))"
   ]
  },
  {
   "cell_type": "code",
   "execution_count": 49,
   "id": "d75590e7",
   "metadata": {},
   "outputs": [
    {
     "name": "stdout",
     "output_type": "stream",
     "text": [
      "Iter: 0 - Alpha: 0.001 - Example 2/8000 - Min Loss: 1000 - Loss: [70139.41113378]\n",
      "Iter: 0 - Alpha: 0.001 - Example 3/8000 - Min Loss: [329.56902429] - Loss: [329.56902429]\n",
      "Iter: 0 - Alpha: 0.001 - Example 4/8000 - Min Loss: [33.67223694] - Loss: [33.67223694]\n",
      "Iter: 0 - Alpha: 0.001 - Example 5/8000 - Min Loss: [1.12685024] - Loss: [1.12685024]\n",
      "Iter: 0 - Alpha: 0.001 - Example 10/8000 - Min Loss: [1.08209413] - Loss: [1.30242848]\n",
      "Iter: 0 - Alpha: 0.001 - Example 31/8000 - Min Loss: [1.00000195] - Loss: [1.01602269]\r"
     ]
    },
    {
     "ename": "KeyboardInterrupt",
     "evalue": "",
     "output_type": "error",
     "traceback": [
      "\u001b[1;31m---------------------------------------------------------------------------\u001b[0m",
      "\u001b[1;31mKeyboardInterrupt\u001b[0m                         Traceback (most recent call last)",
      "Cell \u001b[1;32mIn[49], line 29\u001b[0m\n\u001b[0;32m     27\u001b[0m target \u001b[38;5;241m=\u001b[39m Tensor(y_train[task_i], autograd\u001b[38;5;241m=\u001b[39m\u001b[38;5;28;01mTrue\u001b[39;00m)\n\u001b[0;32m     28\u001b[0m loss \u001b[38;5;241m=\u001b[39m criterion\u001b[38;5;241m.\u001b[39mforward(output, target)\n\u001b[1;32m---> 29\u001b[0m loss\u001b[38;5;241m.\u001b[39mbackward()\n\u001b[0;32m     30\u001b[0m moment1, moment2 \u001b[38;5;241m=\u001b[39m optimiser\u001b[38;5;241m.\u001b[39mstep(timestep, moment1, moment2)\n\u001b[0;32m     32\u001b[0m total_loss \u001b[38;5;241m+\u001b[39m\u001b[38;5;241m=\u001b[39m loss\u001b[38;5;241m.\u001b[39mdata \u001b[38;5;241m/\u001b[39m \u001b[38;5;28mlen\u001b[39m(X_train[task_i])\n",
      "File \u001b[1;32mc:\\Users\\dasha\\Documents\\A Levels\\Computer Science\\NEA\\smart-planner\\importance-prediction-model\\autograd.py:174\u001b[0m, in \u001b[0;36mTensor.backward\u001b[1;34m(self, grad, grad_origin)\u001b[0m\n\u001b[0;32m    172\u001b[0m     dim \u001b[38;5;241m=\u001b[39m \u001b[38;5;28mint\u001b[39m(\u001b[38;5;28mself\u001b[39m\u001b[38;5;241m.\u001b[39mcreation_op\u001b[38;5;241m.\u001b[39msplit(\u001b[38;5;124m'\u001b[39m\u001b[38;5;124m_\u001b[39m\u001b[38;5;124m'\u001b[39m)[\u001b[38;5;241m1\u001b[39m])\n\u001b[0;32m    173\u001b[0m     copies \u001b[38;5;241m=\u001b[39m \u001b[38;5;28mself\u001b[39m\u001b[38;5;241m.\u001b[39mcreators[\u001b[38;5;241m0\u001b[39m]\u001b[38;5;241m.\u001b[39mdata\u001b[38;5;241m.\u001b[39mshape[dim]\n\u001b[1;32m--> 174\u001b[0m     \u001b[38;5;28mself\u001b[39m\u001b[38;5;241m.\u001b[39mcreators[\u001b[38;5;241m0\u001b[39m]\u001b[38;5;241m.\u001b[39mbackward(\u001b[38;5;28mself\u001b[39m\u001b[38;5;241m.\u001b[39mgrad\u001b[38;5;241m.\u001b[39mexpand(dim, copies), \u001b[38;5;28mself\u001b[39m)\n\u001b[0;32m    176\u001b[0m \u001b[38;5;28;01mif\u001b[39;00m \u001b[38;5;124m\"\u001b[39m\u001b[38;5;124mexpand\u001b[39m\u001b[38;5;124m\"\u001b[39m \u001b[38;5;129;01min\u001b[39;00m \u001b[38;5;28mself\u001b[39m\u001b[38;5;241m.\u001b[39mcreation_op:\n\u001b[0;32m    177\u001b[0m     dim \u001b[38;5;241m=\u001b[39m \u001b[38;5;28mint\u001b[39m(\u001b[38;5;28mself\u001b[39m\u001b[38;5;241m.\u001b[39mcreation_op\u001b[38;5;241m.\u001b[39msplit(\u001b[38;5;124m'\u001b[39m\u001b[38;5;124m_\u001b[39m\u001b[38;5;124m'\u001b[39m)[\u001b[38;5;241m1\u001b[39m])\n",
      "File \u001b[1;32mc:\\Users\\dasha\\Documents\\A Levels\\Computer Science\\NEA\\smart-planner\\importance-prediction-model\\autograd.py:132\u001b[0m, in \u001b[0;36mTensor.backward\u001b[1;34m(self, grad, grad_origin)\u001b[0m\n\u001b[0;32m    130\u001b[0m \u001b[38;5;28;01mif\u001b[39;00m \u001b[38;5;28mself\u001b[39m\u001b[38;5;241m.\u001b[39mcreation_op \u001b[38;5;241m==\u001b[39m \u001b[38;5;124m\"\u001b[39m\u001b[38;5;124mmul\u001b[39m\u001b[38;5;124m\"\u001b[39m:\n\u001b[0;32m    131\u001b[0m     \u001b[38;5;28mself\u001b[39m\u001b[38;5;241m.\u001b[39mcreators[\u001b[38;5;241m0\u001b[39m]\u001b[38;5;241m.\u001b[39mbackward(\u001b[38;5;28mself\u001b[39m\u001b[38;5;241m.\u001b[39mgrad \u001b[38;5;241m*\u001b[39m \u001b[38;5;28mself\u001b[39m\u001b[38;5;241m.\u001b[39mcreators[\u001b[38;5;241m1\u001b[39m], \u001b[38;5;28mself\u001b[39m)\n\u001b[1;32m--> 132\u001b[0m     \u001b[38;5;28mself\u001b[39m\u001b[38;5;241m.\u001b[39mcreators[\u001b[38;5;241m1\u001b[39m]\u001b[38;5;241m.\u001b[39mbackward(\u001b[38;5;28mself\u001b[39m\u001b[38;5;241m.\u001b[39mgrad \u001b[38;5;241m*\u001b[39m \u001b[38;5;28mself\u001b[39m\u001b[38;5;241m.\u001b[39mcreators[\u001b[38;5;241m0\u001b[39m], \u001b[38;5;28mself\u001b[39m)\n\u001b[0;32m    134\u001b[0m \u001b[38;5;28;01mif\u001b[39;00m \u001b[38;5;28mself\u001b[39m\u001b[38;5;241m.\u001b[39mcreation_op \u001b[38;5;241m==\u001b[39m \u001b[38;5;124m\"\u001b[39m\u001b[38;5;124mmatmul\u001b[39m\u001b[38;5;124m\"\u001b[39m:\n\u001b[0;32m    135\u001b[0m     activation \u001b[38;5;241m=\u001b[39m \u001b[38;5;28mself\u001b[39m\u001b[38;5;241m.\u001b[39mcreators[\u001b[38;5;241m0\u001b[39m]\n",
      "File \u001b[1;32mc:\\Users\\dasha\\Documents\\A Levels\\Computer Science\\NEA\\smart-planner\\importance-prediction-model\\autograd.py:127\u001b[0m, in \u001b[0;36mTensor.backward\u001b[1;34m(self, grad, grad_origin)\u001b[0m\n\u001b[0;32m    124\u001b[0m     \u001b[38;5;28mself\u001b[39m\u001b[38;5;241m.\u001b[39mcreators[\u001b[38;5;241m0\u001b[39m]\u001b[38;5;241m.\u001b[39mbackward(\u001b[38;5;28mself\u001b[39m\u001b[38;5;241m.\u001b[39mgrad\u001b[38;5;241m.\u001b[39m\u001b[38;5;21m__neg__\u001b[39m(), \u001b[38;5;28mself\u001b[39m)\n\u001b[0;32m    126\u001b[0m \u001b[38;5;28;01mif\u001b[39;00m \u001b[38;5;28mself\u001b[39m\u001b[38;5;241m.\u001b[39mcreation_op \u001b[38;5;241m==\u001b[39m \u001b[38;5;124m\"\u001b[39m\u001b[38;5;124msub\u001b[39m\u001b[38;5;124m\"\u001b[39m:\n\u001b[1;32m--> 127\u001b[0m     \u001b[38;5;28mself\u001b[39m\u001b[38;5;241m.\u001b[39mcreators[\u001b[38;5;241m0\u001b[39m]\u001b[38;5;241m.\u001b[39mbackward(\u001b[38;5;28mself\u001b[39m\u001b[38;5;241m.\u001b[39mgrad, \u001b[38;5;28mself\u001b[39m)\n\u001b[0;32m    128\u001b[0m     \u001b[38;5;28mself\u001b[39m\u001b[38;5;241m.\u001b[39mcreators[\u001b[38;5;241m1\u001b[39m]\u001b[38;5;241m.\u001b[39mbackward(\u001b[38;5;28mself\u001b[39m\u001b[38;5;241m.\u001b[39mgrad\u001b[38;5;241m.\u001b[39m\u001b[38;5;21m__neg__\u001b[39m(), \u001b[38;5;28mself\u001b[39m)\n\u001b[0;32m    130\u001b[0m \u001b[38;5;28;01mif\u001b[39;00m \u001b[38;5;28mself\u001b[39m\u001b[38;5;241m.\u001b[39mcreation_op \u001b[38;5;241m==\u001b[39m \u001b[38;5;124m\"\u001b[39m\u001b[38;5;124mmul\u001b[39m\u001b[38;5;124m\"\u001b[39m:\n",
      "File \u001b[1;32mc:\\Users\\dasha\\Documents\\A Levels\\Computer Science\\NEA\\smart-planner\\importance-prediction-model\\autograd.py:120\u001b[0m, in \u001b[0;36mTensor.backward\u001b[1;34m(self, grad, grad_origin)\u001b[0m\n\u001b[0;32m    118\u001b[0m \u001b[38;5;28;01mif\u001b[39;00m \u001b[38;5;28mself\u001b[39m\u001b[38;5;241m.\u001b[39mcreators \u001b[38;5;129;01mis\u001b[39;00m \u001b[38;5;129;01mnot\u001b[39;00m \u001b[38;5;28;01mNone\u001b[39;00m \u001b[38;5;129;01mand\u001b[39;00m (\u001b[38;5;28mself\u001b[39m\u001b[38;5;241m.\u001b[39mgrads_accounted_for_all_children() \u001b[38;5;129;01mor\u001b[39;00m grad_origin \u001b[38;5;129;01mis\u001b[39;00m \u001b[38;5;28;01mNone\u001b[39;00m):\n\u001b[0;32m    119\u001b[0m     \u001b[38;5;28;01mif\u001b[39;00m \u001b[38;5;28mself\u001b[39m\u001b[38;5;241m.\u001b[39mcreation_op \u001b[38;5;241m==\u001b[39m \u001b[38;5;124m\"\u001b[39m\u001b[38;5;124madd\u001b[39m\u001b[38;5;124m\"\u001b[39m:\n\u001b[1;32m--> 120\u001b[0m         \u001b[38;5;28mself\u001b[39m\u001b[38;5;241m.\u001b[39mcreators[\u001b[38;5;241m0\u001b[39m]\u001b[38;5;241m.\u001b[39mbackward(\u001b[38;5;28mself\u001b[39m\u001b[38;5;241m.\u001b[39mgrad, \u001b[38;5;28mself\u001b[39m)\n\u001b[0;32m    121\u001b[0m         \u001b[38;5;28mself\u001b[39m\u001b[38;5;241m.\u001b[39mcreators[\u001b[38;5;241m1\u001b[39m]\u001b[38;5;241m.\u001b[39mbackward(\u001b[38;5;28mself\u001b[39m\u001b[38;5;241m.\u001b[39mgrad, \u001b[38;5;28mself\u001b[39m)\n\u001b[0;32m    123\u001b[0m     \u001b[38;5;28;01mif\u001b[39;00m \u001b[38;5;28mself\u001b[39m\u001b[38;5;241m.\u001b[39mcreation_op \u001b[38;5;241m==\u001b[39m \u001b[38;5;124m\"\u001b[39m\u001b[38;5;124mneg\u001b[39m\u001b[38;5;124m\"\u001b[39m:\n",
      "File \u001b[1;32mc:\\Users\\dasha\\Documents\\A Levels\\Computer Science\\NEA\\smart-planner\\importance-prediction-model\\autograd.py:139\u001b[0m, in \u001b[0;36mTensor.backward\u001b[1;34m(self, grad, grad_origin)\u001b[0m\n\u001b[0;32m    137\u001b[0m     new1 \u001b[38;5;241m=\u001b[39m \u001b[38;5;28mself\u001b[39m\u001b[38;5;241m.\u001b[39mgrad \u001b[38;5;241m@\u001b[39m weights\u001b[38;5;241m.\u001b[39mtranspose()\n\u001b[0;32m    138\u001b[0m     new2 \u001b[38;5;241m=\u001b[39m (\u001b[38;5;28mself\u001b[39m\u001b[38;5;241m.\u001b[39mgrad\u001b[38;5;241m.\u001b[39mtranspose() \u001b[38;5;241m@\u001b[39m activation)\u001b[38;5;241m.\u001b[39mtranspose()\n\u001b[1;32m--> 139\u001b[0m     activation\u001b[38;5;241m.\u001b[39mbackward(new1, \u001b[38;5;28mself\u001b[39m)\n\u001b[0;32m    140\u001b[0m     weights\u001b[38;5;241m.\u001b[39mbackward(new2, \u001b[38;5;28mself\u001b[39m)\n\u001b[0;32m    142\u001b[0m \u001b[38;5;28;01mif\u001b[39;00m \u001b[38;5;28mself\u001b[39m\u001b[38;5;241m.\u001b[39mcreation_op \u001b[38;5;241m==\u001b[39m \u001b[38;5;124m\"\u001b[39m\u001b[38;5;124mtranspose\u001b[39m\u001b[38;5;124m\"\u001b[39m:\n",
      "File \u001b[1;32mc:\\Users\\dasha\\Documents\\A Levels\\Computer Science\\NEA\\smart-planner\\importance-prediction-model\\autograd.py:158\u001b[0m, in \u001b[0;36mTensor.backward\u001b[1;34m(self, grad, grad_origin)\u001b[0m\n\u001b[0;32m    155\u001b[0m \u001b[38;5;28;01mif\u001b[39;00m \u001b[38;5;28mself\u001b[39m\u001b[38;5;241m.\u001b[39mcreation_op \u001b[38;5;241m==\u001b[39m \u001b[38;5;124m\"\u001b[39m\u001b[38;5;124mrelu\u001b[39m\u001b[38;5;124m\"\u001b[39m:\n\u001b[0;32m    156\u001b[0m     \u001b[38;5;66;03m# ReLU'(x) = 1 if x > 0, 0 if x <= 0\u001b[39;00m\n\u001b[0;32m    157\u001b[0m     ones \u001b[38;5;241m=\u001b[39m Tensor(np\u001b[38;5;241m.\u001b[39mones_like(\u001b[38;5;28mself\u001b[39m\u001b[38;5;241m.\u001b[39mgrad\u001b[38;5;241m.\u001b[39mdata))\n\u001b[1;32m--> 158\u001b[0m     \u001b[38;5;28mself\u001b[39m\u001b[38;5;241m.\u001b[39mcreators[\u001b[38;5;241m0\u001b[39m]\u001b[38;5;241m.\u001b[39mbackward(\u001b[38;5;28mself\u001b[39m\u001b[38;5;241m.\u001b[39mgrad \u001b[38;5;241m*\u001b[39m Tensor(\u001b[38;5;28mself\u001b[39m\u001b[38;5;241m.\u001b[39mdata \u001b[38;5;241m>\u001b[39m \u001b[38;5;241m0\u001b[39m), \u001b[38;5;28mself\u001b[39m)\n\u001b[0;32m    160\u001b[0m \u001b[38;5;28;01mif\u001b[39;00m \u001b[38;5;28mself\u001b[39m\u001b[38;5;241m.\u001b[39mcreation_op \u001b[38;5;241m==\u001b[39m \u001b[38;5;124m\"\u001b[39m\u001b[38;5;124mindex_select\u001b[39m\u001b[38;5;124m\"\u001b[39m:\n\u001b[0;32m    161\u001b[0m     new_grad \u001b[38;5;241m=\u001b[39m np\u001b[38;5;241m.\u001b[39mzeros_like(\u001b[38;5;28mself\u001b[39m\u001b[38;5;241m.\u001b[39mcreators[\u001b[38;5;241m0\u001b[39m]\u001b[38;5;241m.\u001b[39mdata)\n",
      "File \u001b[1;32mc:\\Users\\dasha\\Documents\\A Levels\\Computer Science\\NEA\\smart-planner\\importance-prediction-model\\autograd.py:120\u001b[0m, in \u001b[0;36mTensor.backward\u001b[1;34m(self, grad, grad_origin)\u001b[0m\n\u001b[0;32m    118\u001b[0m \u001b[38;5;28;01mif\u001b[39;00m \u001b[38;5;28mself\u001b[39m\u001b[38;5;241m.\u001b[39mcreators \u001b[38;5;129;01mis\u001b[39;00m \u001b[38;5;129;01mnot\u001b[39;00m \u001b[38;5;28;01mNone\u001b[39;00m \u001b[38;5;129;01mand\u001b[39;00m (\u001b[38;5;28mself\u001b[39m\u001b[38;5;241m.\u001b[39mgrads_accounted_for_all_children() \u001b[38;5;129;01mor\u001b[39;00m grad_origin \u001b[38;5;129;01mis\u001b[39;00m \u001b[38;5;28;01mNone\u001b[39;00m):\n\u001b[0;32m    119\u001b[0m     \u001b[38;5;28;01mif\u001b[39;00m \u001b[38;5;28mself\u001b[39m\u001b[38;5;241m.\u001b[39mcreation_op \u001b[38;5;241m==\u001b[39m \u001b[38;5;124m\"\u001b[39m\u001b[38;5;124madd\u001b[39m\u001b[38;5;124m\"\u001b[39m:\n\u001b[1;32m--> 120\u001b[0m         \u001b[38;5;28mself\u001b[39m\u001b[38;5;241m.\u001b[39mcreators[\u001b[38;5;241m0\u001b[39m]\u001b[38;5;241m.\u001b[39mbackward(\u001b[38;5;28mself\u001b[39m\u001b[38;5;241m.\u001b[39mgrad, \u001b[38;5;28mself\u001b[39m)\n\u001b[0;32m    121\u001b[0m         \u001b[38;5;28mself\u001b[39m\u001b[38;5;241m.\u001b[39mcreators[\u001b[38;5;241m1\u001b[39m]\u001b[38;5;241m.\u001b[39mbackward(\u001b[38;5;28mself\u001b[39m\u001b[38;5;241m.\u001b[39mgrad, \u001b[38;5;28mself\u001b[39m)\n\u001b[0;32m    123\u001b[0m     \u001b[38;5;28;01mif\u001b[39;00m \u001b[38;5;28mself\u001b[39m\u001b[38;5;241m.\u001b[39mcreation_op \u001b[38;5;241m==\u001b[39m \u001b[38;5;124m\"\u001b[39m\u001b[38;5;124mneg\u001b[39m\u001b[38;5;124m\"\u001b[39m:\n",
      "File \u001b[1;32mc:\\Users\\dasha\\Documents\\A Levels\\Computer Science\\NEA\\smart-planner\\importance-prediction-model\\autograd.py:139\u001b[0m, in \u001b[0;36mTensor.backward\u001b[1;34m(self, grad, grad_origin)\u001b[0m\n\u001b[0;32m    137\u001b[0m     new1 \u001b[38;5;241m=\u001b[39m \u001b[38;5;28mself\u001b[39m\u001b[38;5;241m.\u001b[39mgrad \u001b[38;5;241m@\u001b[39m weights\u001b[38;5;241m.\u001b[39mtranspose()\n\u001b[0;32m    138\u001b[0m     new2 \u001b[38;5;241m=\u001b[39m (\u001b[38;5;28mself\u001b[39m\u001b[38;5;241m.\u001b[39mgrad\u001b[38;5;241m.\u001b[39mtranspose() \u001b[38;5;241m@\u001b[39m activation)\u001b[38;5;241m.\u001b[39mtranspose()\n\u001b[1;32m--> 139\u001b[0m     activation\u001b[38;5;241m.\u001b[39mbackward(new1, \u001b[38;5;28mself\u001b[39m)\n\u001b[0;32m    140\u001b[0m     weights\u001b[38;5;241m.\u001b[39mbackward(new2, \u001b[38;5;28mself\u001b[39m)\n\u001b[0;32m    142\u001b[0m \u001b[38;5;28;01mif\u001b[39;00m \u001b[38;5;28mself\u001b[39m\u001b[38;5;241m.\u001b[39mcreation_op \u001b[38;5;241m==\u001b[39m \u001b[38;5;124m\"\u001b[39m\u001b[38;5;124mtranspose\u001b[39m\u001b[38;5;124m\"\u001b[39m:\n",
      "File \u001b[1;32mc:\\Users\\dasha\\Documents\\A Levels\\Computer Science\\NEA\\smart-planner\\importance-prediction-model\\autograd.py:132\u001b[0m, in \u001b[0;36mTensor.backward\u001b[1;34m(self, grad, grad_origin)\u001b[0m\n\u001b[0;32m    130\u001b[0m \u001b[38;5;28;01mif\u001b[39;00m \u001b[38;5;28mself\u001b[39m\u001b[38;5;241m.\u001b[39mcreation_op \u001b[38;5;241m==\u001b[39m \u001b[38;5;124m\"\u001b[39m\u001b[38;5;124mmul\u001b[39m\u001b[38;5;124m\"\u001b[39m:\n\u001b[0;32m    131\u001b[0m     \u001b[38;5;28mself\u001b[39m\u001b[38;5;241m.\u001b[39mcreators[\u001b[38;5;241m0\u001b[39m]\u001b[38;5;241m.\u001b[39mbackward(\u001b[38;5;28mself\u001b[39m\u001b[38;5;241m.\u001b[39mgrad \u001b[38;5;241m*\u001b[39m \u001b[38;5;28mself\u001b[39m\u001b[38;5;241m.\u001b[39mcreators[\u001b[38;5;241m1\u001b[39m], \u001b[38;5;28mself\u001b[39m)\n\u001b[1;32m--> 132\u001b[0m     \u001b[38;5;28mself\u001b[39m\u001b[38;5;241m.\u001b[39mcreators[\u001b[38;5;241m1\u001b[39m]\u001b[38;5;241m.\u001b[39mbackward(\u001b[38;5;28mself\u001b[39m\u001b[38;5;241m.\u001b[39mgrad \u001b[38;5;241m*\u001b[39m \u001b[38;5;28mself\u001b[39m\u001b[38;5;241m.\u001b[39mcreators[\u001b[38;5;241m0\u001b[39m], \u001b[38;5;28mself\u001b[39m)\n\u001b[0;32m    134\u001b[0m \u001b[38;5;28;01mif\u001b[39;00m \u001b[38;5;28mself\u001b[39m\u001b[38;5;241m.\u001b[39mcreation_op \u001b[38;5;241m==\u001b[39m \u001b[38;5;124m\"\u001b[39m\u001b[38;5;124mmatmul\u001b[39m\u001b[38;5;124m\"\u001b[39m:\n\u001b[0;32m    135\u001b[0m     activation \u001b[38;5;241m=\u001b[39m \u001b[38;5;28mself\u001b[39m\u001b[38;5;241m.\u001b[39mcreators[\u001b[38;5;241m0\u001b[39m]\n",
      "File \u001b[1;32mc:\\Users\\dasha\\Documents\\A Levels\\Computer Science\\NEA\\smart-planner\\importance-prediction-model\\autograd.py:153\u001b[0m, in \u001b[0;36mTensor.backward\u001b[1;34m(self, grad, grad_origin)\u001b[0m\n\u001b[0;32m    150\u001b[0m \u001b[38;5;28;01mif\u001b[39;00m \u001b[38;5;28mself\u001b[39m\u001b[38;5;241m.\u001b[39mcreation_op \u001b[38;5;241m==\u001b[39m \u001b[38;5;124m\"\u001b[39m\u001b[38;5;124mtanh\u001b[39m\u001b[38;5;124m\"\u001b[39m:\n\u001b[0;32m    151\u001b[0m     \u001b[38;5;66;03m# tanh'(x) = 1 - tanh(x) ** 2\u001b[39;00m\n\u001b[0;32m    152\u001b[0m     ones \u001b[38;5;241m=\u001b[39m Tensor(np\u001b[38;5;241m.\u001b[39mones_like(\u001b[38;5;28mself\u001b[39m\u001b[38;5;241m.\u001b[39mgrad\u001b[38;5;241m.\u001b[39mdata))\n\u001b[1;32m--> 153\u001b[0m     \u001b[38;5;28mself\u001b[39m\u001b[38;5;241m.\u001b[39mcreators[\u001b[38;5;241m0\u001b[39m]\u001b[38;5;241m.\u001b[39mbackward(\u001b[38;5;28mself\u001b[39m\u001b[38;5;241m.\u001b[39mgrad \u001b[38;5;241m*\u001b[39m (ones \u001b[38;5;241m-\u001b[39m \u001b[38;5;28mself\u001b[39m \u001b[38;5;241m*\u001b[39m \u001b[38;5;28mself\u001b[39m), \u001b[38;5;28mself\u001b[39m)\n\u001b[0;32m    155\u001b[0m \u001b[38;5;28;01mif\u001b[39;00m \u001b[38;5;28mself\u001b[39m\u001b[38;5;241m.\u001b[39mcreation_op \u001b[38;5;241m==\u001b[39m \u001b[38;5;124m\"\u001b[39m\u001b[38;5;124mrelu\u001b[39m\u001b[38;5;124m\"\u001b[39m:\n\u001b[0;32m    156\u001b[0m     \u001b[38;5;66;03m# ReLU'(x) = 1 if x > 0, 0 if x <= 0\u001b[39;00m\n\u001b[0;32m    157\u001b[0m     ones \u001b[38;5;241m=\u001b[39m Tensor(np\u001b[38;5;241m.\u001b[39mones_like(\u001b[38;5;28mself\u001b[39m\u001b[38;5;241m.\u001b[39mgrad\u001b[38;5;241m.\u001b[39mdata))\n",
      "File \u001b[1;32mc:\\Users\\dasha\\Documents\\A Levels\\Computer Science\\NEA\\smart-planner\\importance-prediction-model\\autograd.py:121\u001b[0m, in \u001b[0;36mTensor.backward\u001b[1;34m(self, grad, grad_origin)\u001b[0m\n\u001b[0;32m    119\u001b[0m \u001b[38;5;28;01mif\u001b[39;00m \u001b[38;5;28mself\u001b[39m\u001b[38;5;241m.\u001b[39mcreation_op \u001b[38;5;241m==\u001b[39m \u001b[38;5;124m\"\u001b[39m\u001b[38;5;124madd\u001b[39m\u001b[38;5;124m\"\u001b[39m:\n\u001b[0;32m    120\u001b[0m     \u001b[38;5;28mself\u001b[39m\u001b[38;5;241m.\u001b[39mcreators[\u001b[38;5;241m0\u001b[39m]\u001b[38;5;241m.\u001b[39mbackward(\u001b[38;5;28mself\u001b[39m\u001b[38;5;241m.\u001b[39mgrad, \u001b[38;5;28mself\u001b[39m)\n\u001b[1;32m--> 121\u001b[0m     \u001b[38;5;28mself\u001b[39m\u001b[38;5;241m.\u001b[39mcreators[\u001b[38;5;241m1\u001b[39m]\u001b[38;5;241m.\u001b[39mbackward(\u001b[38;5;28mself\u001b[39m\u001b[38;5;241m.\u001b[39mgrad, \u001b[38;5;28mself\u001b[39m)\n\u001b[0;32m    123\u001b[0m \u001b[38;5;28;01mif\u001b[39;00m \u001b[38;5;28mself\u001b[39m\u001b[38;5;241m.\u001b[39mcreation_op \u001b[38;5;241m==\u001b[39m \u001b[38;5;124m\"\u001b[39m\u001b[38;5;124mneg\u001b[39m\u001b[38;5;124m\"\u001b[39m:\n\u001b[0;32m    124\u001b[0m     \u001b[38;5;28mself\u001b[39m\u001b[38;5;241m.\u001b[39mcreators[\u001b[38;5;241m0\u001b[39m]\u001b[38;5;241m.\u001b[39mbackward(\u001b[38;5;28mself\u001b[39m\u001b[38;5;241m.\u001b[39mgrad\u001b[38;5;241m.\u001b[39m\u001b[38;5;21m__neg__\u001b[39m(), \u001b[38;5;28mself\u001b[39m)\n",
      "File \u001b[1;32mc:\\Users\\dasha\\Documents\\A Levels\\Computer Science\\NEA\\smart-planner\\importance-prediction-model\\autograd.py:132\u001b[0m, in \u001b[0;36mTensor.backward\u001b[1;34m(self, grad, grad_origin)\u001b[0m\n\u001b[0;32m    130\u001b[0m \u001b[38;5;28;01mif\u001b[39;00m \u001b[38;5;28mself\u001b[39m\u001b[38;5;241m.\u001b[39mcreation_op \u001b[38;5;241m==\u001b[39m \u001b[38;5;124m\"\u001b[39m\u001b[38;5;124mmul\u001b[39m\u001b[38;5;124m\"\u001b[39m:\n\u001b[0;32m    131\u001b[0m     \u001b[38;5;28mself\u001b[39m\u001b[38;5;241m.\u001b[39mcreators[\u001b[38;5;241m0\u001b[39m]\u001b[38;5;241m.\u001b[39mbackward(\u001b[38;5;28mself\u001b[39m\u001b[38;5;241m.\u001b[39mgrad \u001b[38;5;241m*\u001b[39m \u001b[38;5;28mself\u001b[39m\u001b[38;5;241m.\u001b[39mcreators[\u001b[38;5;241m1\u001b[39m], \u001b[38;5;28mself\u001b[39m)\n\u001b[1;32m--> 132\u001b[0m     \u001b[38;5;28mself\u001b[39m\u001b[38;5;241m.\u001b[39mcreators[\u001b[38;5;241m1\u001b[39m]\u001b[38;5;241m.\u001b[39mbackward(\u001b[38;5;28mself\u001b[39m\u001b[38;5;241m.\u001b[39mgrad \u001b[38;5;241m*\u001b[39m \u001b[38;5;28mself\u001b[39m\u001b[38;5;241m.\u001b[39mcreators[\u001b[38;5;241m0\u001b[39m], \u001b[38;5;28mself\u001b[39m)\n\u001b[0;32m    134\u001b[0m \u001b[38;5;28;01mif\u001b[39;00m \u001b[38;5;28mself\u001b[39m\u001b[38;5;241m.\u001b[39mcreation_op \u001b[38;5;241m==\u001b[39m \u001b[38;5;124m\"\u001b[39m\u001b[38;5;124mmatmul\u001b[39m\u001b[38;5;124m\"\u001b[39m:\n\u001b[0;32m    135\u001b[0m     activation \u001b[38;5;241m=\u001b[39m \u001b[38;5;28mself\u001b[39m\u001b[38;5;241m.\u001b[39mcreators[\u001b[38;5;241m0\u001b[39m]\n",
      "File \u001b[1;32mc:\\Users\\dasha\\Documents\\A Levels\\Computer Science\\NEA\\smart-planner\\importance-prediction-model\\autograd.py:153\u001b[0m, in \u001b[0;36mTensor.backward\u001b[1;34m(self, grad, grad_origin)\u001b[0m\n\u001b[0;32m    150\u001b[0m \u001b[38;5;28;01mif\u001b[39;00m \u001b[38;5;28mself\u001b[39m\u001b[38;5;241m.\u001b[39mcreation_op \u001b[38;5;241m==\u001b[39m \u001b[38;5;124m\"\u001b[39m\u001b[38;5;124mtanh\u001b[39m\u001b[38;5;124m\"\u001b[39m:\n\u001b[0;32m    151\u001b[0m     \u001b[38;5;66;03m# tanh'(x) = 1 - tanh(x) ** 2\u001b[39;00m\n\u001b[0;32m    152\u001b[0m     ones \u001b[38;5;241m=\u001b[39m Tensor(np\u001b[38;5;241m.\u001b[39mones_like(\u001b[38;5;28mself\u001b[39m\u001b[38;5;241m.\u001b[39mgrad\u001b[38;5;241m.\u001b[39mdata))\n\u001b[1;32m--> 153\u001b[0m     \u001b[38;5;28mself\u001b[39m\u001b[38;5;241m.\u001b[39mcreators[\u001b[38;5;241m0\u001b[39m]\u001b[38;5;241m.\u001b[39mbackward(\u001b[38;5;28mself\u001b[39m\u001b[38;5;241m.\u001b[39mgrad \u001b[38;5;241m*\u001b[39m (ones \u001b[38;5;241m-\u001b[39m \u001b[38;5;28mself\u001b[39m \u001b[38;5;241m*\u001b[39m \u001b[38;5;28mself\u001b[39m), \u001b[38;5;28mself\u001b[39m)\n\u001b[0;32m    155\u001b[0m \u001b[38;5;28;01mif\u001b[39;00m \u001b[38;5;28mself\u001b[39m\u001b[38;5;241m.\u001b[39mcreation_op \u001b[38;5;241m==\u001b[39m \u001b[38;5;124m\"\u001b[39m\u001b[38;5;124mrelu\u001b[39m\u001b[38;5;124m\"\u001b[39m:\n\u001b[0;32m    156\u001b[0m     \u001b[38;5;66;03m# ReLU'(x) = 1 if x > 0, 0 if x <= 0\u001b[39;00m\n\u001b[0;32m    157\u001b[0m     ones \u001b[38;5;241m=\u001b[39m Tensor(np\u001b[38;5;241m.\u001b[39mones_like(\u001b[38;5;28mself\u001b[39m\u001b[38;5;241m.\u001b[39mgrad\u001b[38;5;241m.\u001b[39mdata))\n",
      "File \u001b[1;32mc:\\Users\\dasha\\Documents\\A Levels\\Computer Science\\NEA\\smart-planner\\importance-prediction-model\\autograd.py:121\u001b[0m, in \u001b[0;36mTensor.backward\u001b[1;34m(self, grad, grad_origin)\u001b[0m\n\u001b[0;32m    119\u001b[0m \u001b[38;5;28;01mif\u001b[39;00m \u001b[38;5;28mself\u001b[39m\u001b[38;5;241m.\u001b[39mcreation_op \u001b[38;5;241m==\u001b[39m \u001b[38;5;124m\"\u001b[39m\u001b[38;5;124madd\u001b[39m\u001b[38;5;124m\"\u001b[39m:\n\u001b[0;32m    120\u001b[0m     \u001b[38;5;28mself\u001b[39m\u001b[38;5;241m.\u001b[39mcreators[\u001b[38;5;241m0\u001b[39m]\u001b[38;5;241m.\u001b[39mbackward(\u001b[38;5;28mself\u001b[39m\u001b[38;5;241m.\u001b[39mgrad, \u001b[38;5;28mself\u001b[39m)\n\u001b[1;32m--> 121\u001b[0m     \u001b[38;5;28mself\u001b[39m\u001b[38;5;241m.\u001b[39mcreators[\u001b[38;5;241m1\u001b[39m]\u001b[38;5;241m.\u001b[39mbackward(\u001b[38;5;28mself\u001b[39m\u001b[38;5;241m.\u001b[39mgrad, \u001b[38;5;28mself\u001b[39m)\n\u001b[0;32m    123\u001b[0m \u001b[38;5;28;01mif\u001b[39;00m \u001b[38;5;28mself\u001b[39m\u001b[38;5;241m.\u001b[39mcreation_op \u001b[38;5;241m==\u001b[39m \u001b[38;5;124m\"\u001b[39m\u001b[38;5;124mneg\u001b[39m\u001b[38;5;124m\"\u001b[39m:\n\u001b[0;32m    124\u001b[0m     \u001b[38;5;28mself\u001b[39m\u001b[38;5;241m.\u001b[39mcreators[\u001b[38;5;241m0\u001b[39m]\u001b[38;5;241m.\u001b[39mbackward(\u001b[38;5;28mself\u001b[39m\u001b[38;5;241m.\u001b[39mgrad\u001b[38;5;241m.\u001b[39m\u001b[38;5;21m__neg__\u001b[39m(), \u001b[38;5;28mself\u001b[39m)\n",
      "File \u001b[1;32mc:\\Users\\dasha\\Documents\\A Levels\\Computer Science\\NEA\\smart-planner\\importance-prediction-model\\autograd.py:120\u001b[0m, in \u001b[0;36mTensor.backward\u001b[1;34m(self, grad, grad_origin)\u001b[0m\n\u001b[0;32m    118\u001b[0m \u001b[38;5;28;01mif\u001b[39;00m \u001b[38;5;28mself\u001b[39m\u001b[38;5;241m.\u001b[39mcreators \u001b[38;5;129;01mis\u001b[39;00m \u001b[38;5;129;01mnot\u001b[39;00m \u001b[38;5;28;01mNone\u001b[39;00m \u001b[38;5;129;01mand\u001b[39;00m (\u001b[38;5;28mself\u001b[39m\u001b[38;5;241m.\u001b[39mgrads_accounted_for_all_children() \u001b[38;5;129;01mor\u001b[39;00m grad_origin \u001b[38;5;129;01mis\u001b[39;00m \u001b[38;5;28;01mNone\u001b[39;00m):\n\u001b[0;32m    119\u001b[0m     \u001b[38;5;28;01mif\u001b[39;00m \u001b[38;5;28mself\u001b[39m\u001b[38;5;241m.\u001b[39mcreation_op \u001b[38;5;241m==\u001b[39m \u001b[38;5;124m\"\u001b[39m\u001b[38;5;124madd\u001b[39m\u001b[38;5;124m\"\u001b[39m:\n\u001b[1;32m--> 120\u001b[0m         \u001b[38;5;28mself\u001b[39m\u001b[38;5;241m.\u001b[39mcreators[\u001b[38;5;241m0\u001b[39m]\u001b[38;5;241m.\u001b[39mbackward(\u001b[38;5;28mself\u001b[39m\u001b[38;5;241m.\u001b[39mgrad, \u001b[38;5;28mself\u001b[39m)\n\u001b[0;32m    121\u001b[0m         \u001b[38;5;28mself\u001b[39m\u001b[38;5;241m.\u001b[39mcreators[\u001b[38;5;241m1\u001b[39m]\u001b[38;5;241m.\u001b[39mbackward(\u001b[38;5;28mself\u001b[39m\u001b[38;5;241m.\u001b[39mgrad, \u001b[38;5;28mself\u001b[39m)\n\u001b[0;32m    123\u001b[0m     \u001b[38;5;28;01mif\u001b[39;00m \u001b[38;5;28mself\u001b[39m\u001b[38;5;241m.\u001b[39mcreation_op \u001b[38;5;241m==\u001b[39m \u001b[38;5;124m\"\u001b[39m\u001b[38;5;124mneg\u001b[39m\u001b[38;5;124m\"\u001b[39m:\n",
      "File \u001b[1;32mc:\\Users\\dasha\\Documents\\A Levels\\Computer Science\\NEA\\smart-planner\\importance-prediction-model\\autograd.py:139\u001b[0m, in \u001b[0;36mTensor.backward\u001b[1;34m(self, grad, grad_origin)\u001b[0m\n\u001b[0;32m    137\u001b[0m     new1 \u001b[38;5;241m=\u001b[39m \u001b[38;5;28mself\u001b[39m\u001b[38;5;241m.\u001b[39mgrad \u001b[38;5;241m@\u001b[39m weights\u001b[38;5;241m.\u001b[39mtranspose()\n\u001b[0;32m    138\u001b[0m     new2 \u001b[38;5;241m=\u001b[39m (\u001b[38;5;28mself\u001b[39m\u001b[38;5;241m.\u001b[39mgrad\u001b[38;5;241m.\u001b[39mtranspose() \u001b[38;5;241m@\u001b[39m activation)\u001b[38;5;241m.\u001b[39mtranspose()\n\u001b[1;32m--> 139\u001b[0m     activation\u001b[38;5;241m.\u001b[39mbackward(new1, \u001b[38;5;28mself\u001b[39m)\n\u001b[0;32m    140\u001b[0m     weights\u001b[38;5;241m.\u001b[39mbackward(new2, \u001b[38;5;28mself\u001b[39m)\n\u001b[0;32m    142\u001b[0m \u001b[38;5;28;01mif\u001b[39;00m \u001b[38;5;28mself\u001b[39m\u001b[38;5;241m.\u001b[39mcreation_op \u001b[38;5;241m==\u001b[39m \u001b[38;5;124m\"\u001b[39m\u001b[38;5;124mtranspose\u001b[39m\u001b[38;5;124m\"\u001b[39m:\n",
      "    \u001b[1;31m[... skipping similar frames: Tensor.backward at line 132 (44 times), Tensor.backward at line 153 (44 times), Tensor.backward at line 121 (43 times), Tensor.backward at line 120 (23 times), Tensor.backward at line 139 (21 times)]\u001b[0m\n",
      "File \u001b[1;32mc:\\Users\\dasha\\Documents\\A Levels\\Computer Science\\NEA\\smart-planner\\importance-prediction-model\\autograd.py:139\u001b[0m, in \u001b[0;36mTensor.backward\u001b[1;34m(self, grad, grad_origin)\u001b[0m\n\u001b[0;32m    137\u001b[0m     new1 \u001b[38;5;241m=\u001b[39m \u001b[38;5;28mself\u001b[39m\u001b[38;5;241m.\u001b[39mgrad \u001b[38;5;241m@\u001b[39m weights\u001b[38;5;241m.\u001b[39mtranspose()\n\u001b[0;32m    138\u001b[0m     new2 \u001b[38;5;241m=\u001b[39m (\u001b[38;5;28mself\u001b[39m\u001b[38;5;241m.\u001b[39mgrad\u001b[38;5;241m.\u001b[39mtranspose() \u001b[38;5;241m@\u001b[39m activation)\u001b[38;5;241m.\u001b[39mtranspose()\n\u001b[1;32m--> 139\u001b[0m     activation\u001b[38;5;241m.\u001b[39mbackward(new1, \u001b[38;5;28mself\u001b[39m)\n\u001b[0;32m    140\u001b[0m     weights\u001b[38;5;241m.\u001b[39mbackward(new2, \u001b[38;5;28mself\u001b[39m)\n\u001b[0;32m    142\u001b[0m \u001b[38;5;28;01mif\u001b[39;00m \u001b[38;5;28mself\u001b[39m\u001b[38;5;241m.\u001b[39mcreation_op \u001b[38;5;241m==\u001b[39m \u001b[38;5;124m\"\u001b[39m\u001b[38;5;124mtranspose\u001b[39m\u001b[38;5;124m\"\u001b[39m:\n",
      "    \u001b[1;31m[... skipping similar frames: Tensor.backward at line 132 (1 times), Tensor.backward at line 153 (1 times), Tensor.backward at line 121 (1 times)]\u001b[0m\n",
      "File \u001b[1;32mc:\\Users\\dasha\\Documents\\A Levels\\Computer Science\\NEA\\smart-planner\\importance-prediction-model\\autograd.py:132\u001b[0m, in \u001b[0;36mTensor.backward\u001b[1;34m(self, grad, grad_origin)\u001b[0m\n\u001b[0;32m    130\u001b[0m \u001b[38;5;28;01mif\u001b[39;00m \u001b[38;5;28mself\u001b[39m\u001b[38;5;241m.\u001b[39mcreation_op \u001b[38;5;241m==\u001b[39m \u001b[38;5;124m\"\u001b[39m\u001b[38;5;124mmul\u001b[39m\u001b[38;5;124m\"\u001b[39m:\n\u001b[0;32m    131\u001b[0m     \u001b[38;5;28mself\u001b[39m\u001b[38;5;241m.\u001b[39mcreators[\u001b[38;5;241m0\u001b[39m]\u001b[38;5;241m.\u001b[39mbackward(\u001b[38;5;28mself\u001b[39m\u001b[38;5;241m.\u001b[39mgrad \u001b[38;5;241m*\u001b[39m \u001b[38;5;28mself\u001b[39m\u001b[38;5;241m.\u001b[39mcreators[\u001b[38;5;241m1\u001b[39m], \u001b[38;5;28mself\u001b[39m)\n\u001b[1;32m--> 132\u001b[0m     \u001b[38;5;28mself\u001b[39m\u001b[38;5;241m.\u001b[39mcreators[\u001b[38;5;241m1\u001b[39m]\u001b[38;5;241m.\u001b[39mbackward(\u001b[38;5;28mself\u001b[39m\u001b[38;5;241m.\u001b[39mgrad \u001b[38;5;241m*\u001b[39m \u001b[38;5;28mself\u001b[39m\u001b[38;5;241m.\u001b[39mcreators[\u001b[38;5;241m0\u001b[39m], \u001b[38;5;28mself\u001b[39m)\n\u001b[0;32m    134\u001b[0m \u001b[38;5;28;01mif\u001b[39;00m \u001b[38;5;28mself\u001b[39m\u001b[38;5;241m.\u001b[39mcreation_op \u001b[38;5;241m==\u001b[39m \u001b[38;5;124m\"\u001b[39m\u001b[38;5;124mmatmul\u001b[39m\u001b[38;5;124m\"\u001b[39m:\n\u001b[0;32m    135\u001b[0m     activation \u001b[38;5;241m=\u001b[39m \u001b[38;5;28mself\u001b[39m\u001b[38;5;241m.\u001b[39mcreators[\u001b[38;5;241m0\u001b[39m]\n",
      "File \u001b[1;32mc:\\Users\\dasha\\Documents\\A Levels\\Computer Science\\NEA\\smart-planner\\importance-prediction-model\\autograd.py:153\u001b[0m, in \u001b[0;36mTensor.backward\u001b[1;34m(self, grad, grad_origin)\u001b[0m\n\u001b[0;32m    150\u001b[0m \u001b[38;5;28;01mif\u001b[39;00m \u001b[38;5;28mself\u001b[39m\u001b[38;5;241m.\u001b[39mcreation_op \u001b[38;5;241m==\u001b[39m \u001b[38;5;124m\"\u001b[39m\u001b[38;5;124mtanh\u001b[39m\u001b[38;5;124m\"\u001b[39m:\n\u001b[0;32m    151\u001b[0m     \u001b[38;5;66;03m# tanh'(x) = 1 - tanh(x) ** 2\u001b[39;00m\n\u001b[0;32m    152\u001b[0m     ones \u001b[38;5;241m=\u001b[39m Tensor(np\u001b[38;5;241m.\u001b[39mones_like(\u001b[38;5;28mself\u001b[39m\u001b[38;5;241m.\u001b[39mgrad\u001b[38;5;241m.\u001b[39mdata))\n\u001b[1;32m--> 153\u001b[0m     \u001b[38;5;28mself\u001b[39m\u001b[38;5;241m.\u001b[39mcreators[\u001b[38;5;241m0\u001b[39m]\u001b[38;5;241m.\u001b[39mbackward(\u001b[38;5;28mself\u001b[39m\u001b[38;5;241m.\u001b[39mgrad \u001b[38;5;241m*\u001b[39m (ones \u001b[38;5;241m-\u001b[39m \u001b[38;5;28mself\u001b[39m \u001b[38;5;241m*\u001b[39m \u001b[38;5;28mself\u001b[39m), \u001b[38;5;28mself\u001b[39m)\n\u001b[0;32m    155\u001b[0m \u001b[38;5;28;01mif\u001b[39;00m \u001b[38;5;28mself\u001b[39m\u001b[38;5;241m.\u001b[39mcreation_op \u001b[38;5;241m==\u001b[39m \u001b[38;5;124m\"\u001b[39m\u001b[38;5;124mrelu\u001b[39m\u001b[38;5;124m\"\u001b[39m:\n\u001b[0;32m    156\u001b[0m     \u001b[38;5;66;03m# ReLU'(x) = 1 if x > 0, 0 if x <= 0\u001b[39;00m\n\u001b[0;32m    157\u001b[0m     ones \u001b[38;5;241m=\u001b[39m Tensor(np\u001b[38;5;241m.\u001b[39mones_like(\u001b[38;5;28mself\u001b[39m\u001b[38;5;241m.\u001b[39mgrad\u001b[38;5;241m.\u001b[39mdata))\n",
      "File \u001b[1;32mc:\\Users\\dasha\\Documents\\A Levels\\Computer Science\\NEA\\smart-planner\\importance-prediction-model\\autograd.py:121\u001b[0m, in \u001b[0;36mTensor.backward\u001b[1;34m(self, grad, grad_origin)\u001b[0m\n\u001b[0;32m    119\u001b[0m \u001b[38;5;28;01mif\u001b[39;00m \u001b[38;5;28mself\u001b[39m\u001b[38;5;241m.\u001b[39mcreation_op \u001b[38;5;241m==\u001b[39m \u001b[38;5;124m\"\u001b[39m\u001b[38;5;124madd\u001b[39m\u001b[38;5;124m\"\u001b[39m:\n\u001b[0;32m    120\u001b[0m     \u001b[38;5;28mself\u001b[39m\u001b[38;5;241m.\u001b[39mcreators[\u001b[38;5;241m0\u001b[39m]\u001b[38;5;241m.\u001b[39mbackward(\u001b[38;5;28mself\u001b[39m\u001b[38;5;241m.\u001b[39mgrad, \u001b[38;5;28mself\u001b[39m)\n\u001b[1;32m--> 121\u001b[0m     \u001b[38;5;28mself\u001b[39m\u001b[38;5;241m.\u001b[39mcreators[\u001b[38;5;241m1\u001b[39m]\u001b[38;5;241m.\u001b[39mbackward(\u001b[38;5;28mself\u001b[39m\u001b[38;5;241m.\u001b[39mgrad, \u001b[38;5;28mself\u001b[39m)\n\u001b[0;32m    123\u001b[0m \u001b[38;5;28;01mif\u001b[39;00m \u001b[38;5;28mself\u001b[39m\u001b[38;5;241m.\u001b[39mcreation_op \u001b[38;5;241m==\u001b[39m \u001b[38;5;124m\"\u001b[39m\u001b[38;5;124mneg\u001b[39m\u001b[38;5;124m\"\u001b[39m:\n\u001b[0;32m    124\u001b[0m     \u001b[38;5;28mself\u001b[39m\u001b[38;5;241m.\u001b[39mcreators[\u001b[38;5;241m0\u001b[39m]\u001b[38;5;241m.\u001b[39mbackward(\u001b[38;5;28mself\u001b[39m\u001b[38;5;241m.\u001b[39mgrad\u001b[38;5;241m.\u001b[39m\u001b[38;5;21m__neg__\u001b[39m(), \u001b[38;5;28mself\u001b[39m)\n",
      "File \u001b[1;32mc:\\Users\\dasha\\Documents\\A Levels\\Computer Science\\NEA\\smart-planner\\importance-prediction-model\\autograd.py:120\u001b[0m, in \u001b[0;36mTensor.backward\u001b[1;34m(self, grad, grad_origin)\u001b[0m\n\u001b[0;32m    118\u001b[0m \u001b[38;5;28;01mif\u001b[39;00m \u001b[38;5;28mself\u001b[39m\u001b[38;5;241m.\u001b[39mcreators \u001b[38;5;129;01mis\u001b[39;00m \u001b[38;5;129;01mnot\u001b[39;00m \u001b[38;5;28;01mNone\u001b[39;00m \u001b[38;5;129;01mand\u001b[39;00m (\u001b[38;5;28mself\u001b[39m\u001b[38;5;241m.\u001b[39mgrads_accounted_for_all_children() \u001b[38;5;129;01mor\u001b[39;00m grad_origin \u001b[38;5;129;01mis\u001b[39;00m \u001b[38;5;28;01mNone\u001b[39;00m):\n\u001b[0;32m    119\u001b[0m     \u001b[38;5;28;01mif\u001b[39;00m \u001b[38;5;28mself\u001b[39m\u001b[38;5;241m.\u001b[39mcreation_op \u001b[38;5;241m==\u001b[39m \u001b[38;5;124m\"\u001b[39m\u001b[38;5;124madd\u001b[39m\u001b[38;5;124m\"\u001b[39m:\n\u001b[1;32m--> 120\u001b[0m         \u001b[38;5;28mself\u001b[39m\u001b[38;5;241m.\u001b[39mcreators[\u001b[38;5;241m0\u001b[39m]\u001b[38;5;241m.\u001b[39mbackward(\u001b[38;5;28mself\u001b[39m\u001b[38;5;241m.\u001b[39mgrad, \u001b[38;5;28mself\u001b[39m)\n\u001b[0;32m    121\u001b[0m         \u001b[38;5;28mself\u001b[39m\u001b[38;5;241m.\u001b[39mcreators[\u001b[38;5;241m1\u001b[39m]\u001b[38;5;241m.\u001b[39mbackward(\u001b[38;5;28mself\u001b[39m\u001b[38;5;241m.\u001b[39mgrad, \u001b[38;5;28mself\u001b[39m)\n\u001b[0;32m    123\u001b[0m     \u001b[38;5;28;01mif\u001b[39;00m \u001b[38;5;28mself\u001b[39m\u001b[38;5;241m.\u001b[39mcreation_op \u001b[38;5;241m==\u001b[39m \u001b[38;5;124m\"\u001b[39m\u001b[38;5;124mneg\u001b[39m\u001b[38;5;124m\"\u001b[39m:\n",
      "File \u001b[1;32mc:\\Users\\dasha\\Documents\\A Levels\\Computer Science\\NEA\\smart-planner\\importance-prediction-model\\autograd.py:138\u001b[0m, in \u001b[0;36mTensor.backward\u001b[1;34m(self, grad, grad_origin)\u001b[0m\n\u001b[0;32m    136\u001b[0m weights \u001b[38;5;241m=\u001b[39m \u001b[38;5;28mself\u001b[39m\u001b[38;5;241m.\u001b[39mcreators[\u001b[38;5;241m1\u001b[39m]\n\u001b[0;32m    137\u001b[0m new1 \u001b[38;5;241m=\u001b[39m \u001b[38;5;28mself\u001b[39m\u001b[38;5;241m.\u001b[39mgrad \u001b[38;5;241m@\u001b[39m weights\u001b[38;5;241m.\u001b[39mtranspose()\n\u001b[1;32m--> 138\u001b[0m new2 \u001b[38;5;241m=\u001b[39m (\u001b[38;5;28mself\u001b[39m\u001b[38;5;241m.\u001b[39mgrad\u001b[38;5;241m.\u001b[39mtranspose() \u001b[38;5;241m@\u001b[39m activation)\u001b[38;5;241m.\u001b[39mtranspose()\n\u001b[0;32m    139\u001b[0m activation\u001b[38;5;241m.\u001b[39mbackward(new1, \u001b[38;5;28mself\u001b[39m)\n\u001b[0;32m    140\u001b[0m weights\u001b[38;5;241m.\u001b[39mbackward(new2, \u001b[38;5;28mself\u001b[39m)\n",
      "File \u001b[1;32mc:\\Users\\dasha\\Documents\\A Levels\\Computer Science\\NEA\\smart-planner\\importance-prediction-model\\autograd.py:340\u001b[0m, in \u001b[0;36mTensor.transpose\u001b[1;34m(self)\u001b[0m\n\u001b[0;32m    338\u001b[0m \u001b[38;5;28;01mif\u001b[39;00m \u001b[38;5;28mself\u001b[39m\u001b[38;5;241m.\u001b[39mautograd:\n\u001b[0;32m    339\u001b[0m     \u001b[38;5;28;01mreturn\u001b[39;00m Tensor(\u001b[38;5;28mself\u001b[39m\u001b[38;5;241m.\u001b[39mdata\u001b[38;5;241m.\u001b[39mtranspose(), autograd\u001b[38;5;241m=\u001b[39m\u001b[38;5;28;01mTrue\u001b[39;00m, creators\u001b[38;5;241m=\u001b[39m[\u001b[38;5;28mself\u001b[39m], creation_op\u001b[38;5;241m=\u001b[39m\u001b[38;5;124m\"\u001b[39m\u001b[38;5;124mtranspose\u001b[39m\u001b[38;5;124m\"\u001b[39m)\n\u001b[1;32m--> 340\u001b[0m \u001b[38;5;28;01mreturn\u001b[39;00m Tensor(\u001b[38;5;28mself\u001b[39m\u001b[38;5;241m.\u001b[39mdata\u001b[38;5;241m.\u001b[39mtranspose())\n",
      "File \u001b[1;32mc:\\Users\\dasha\\Documents\\A Levels\\Computer Science\\NEA\\smart-planner\\importance-prediction-model\\autograd.py:43\u001b[0m, in \u001b[0;36mTensor.__init__\u001b[1;34m(self, data, autograd, creators, creation_op, id)\u001b[0m\n\u001b[0;32m     40\u001b[0m \u001b[38;5;28mself\u001b[39m\u001b[38;5;241m.\u001b[39mautograd \u001b[38;5;241m=\u001b[39m autograd\n\u001b[0;32m     42\u001b[0m \u001b[38;5;28;01mif\u001b[39;00m \u001b[38;5;28mid\u001b[39m \u001b[38;5;129;01mis\u001b[39;00m \u001b[38;5;28;01mNone\u001b[39;00m:\n\u001b[1;32m---> 43\u001b[0m     \u001b[38;5;28mid\u001b[39m \u001b[38;5;241m=\u001b[39m \u001b[38;5;28mint\u001b[39m(np\u001b[38;5;241m.\u001b[39mrandom\u001b[38;5;241m.\u001b[39mrandint(\u001b[38;5;241m0\u001b[39m, \u001b[38;5;241m100000\u001b[39m))\n\u001b[0;32m     44\u001b[0m \u001b[38;5;28mself\u001b[39m\u001b[38;5;241m.\u001b[39mid \u001b[38;5;241m=\u001b[39m \u001b[38;5;28mid\u001b[39m\n\u001b[0;32m     46\u001b[0m \u001b[38;5;28mself\u001b[39m\u001b[38;5;241m.\u001b[39mchildren \u001b[38;5;241m=\u001b[39m {}\n",
      "File \u001b[1;32mc:\\Users\\dasha\\anaconda3\\Lib\\site-packages\\cupy\\random\\_sample.py:110\u001b[0m, in \u001b[0;36mrandint\u001b[1;34m(low, high, size, dtype)\u001b[0m\n\u001b[0;32m     88\u001b[0m \u001b[38;5;250m\u001b[39m\u001b[38;5;124;03m\"\"\"Returns a scalar or an array of integer values over ``[low, high)``.\u001b[39;00m\n\u001b[0;32m     89\u001b[0m \n\u001b[0;32m     90\u001b[0m \u001b[38;5;124;03mEach element of returned values are independently sampled from\u001b[39;00m\n\u001b[1;32m   (...)\u001b[0m\n\u001b[0;32m    107\u001b[0m \u001b[38;5;124;03m    Otherwise, it is the array whose shape specified by ``size``.\u001b[39;00m\n\u001b[0;32m    108\u001b[0m \u001b[38;5;124;03m\"\"\"\u001b[39;00m\n\u001b[0;32m    109\u001b[0m rs \u001b[38;5;241m=\u001b[39m _generator\u001b[38;5;241m.\u001b[39mget_random_state()\n\u001b[1;32m--> 110\u001b[0m \u001b[38;5;28;01mreturn\u001b[39;00m rs\u001b[38;5;241m.\u001b[39mrandint(low, high, size, dtype)\n",
      "File \u001b[1;32mc:\\Users\\dasha\\anaconda3\\Lib\\site-packages\\cupy\\random\\_generator.py:1261\u001b[0m, in \u001b[0;36mRandomState.randint\u001b[1;34m(self, low, high, size, dtype)\u001b[0m\n\u001b[0;32m   1256\u001b[0m     \u001b[38;5;28;01mraise\u001b[39;00m \u001b[38;5;167;01mValueError\u001b[39;00m(\n\u001b[0;32m   1257\u001b[0m         \u001b[38;5;124m'\u001b[39m\u001b[38;5;124mhigh is out of bounds for \u001b[39m\u001b[38;5;132;01m{}\u001b[39;00m\u001b[38;5;124m'\u001b[39m\u001b[38;5;241m.\u001b[39mformat(\n\u001b[0;32m   1258\u001b[0m             cupy\u001b[38;5;241m.\u001b[39mdtype(dtype)\u001b[38;5;241m.\u001b[39mname))\n\u001b[0;32m   1260\u001b[0m diff \u001b[38;5;241m=\u001b[39m hi1 \u001b[38;5;241m-\u001b[39m lo\n\u001b[1;32m-> 1261\u001b[0m x \u001b[38;5;241m=\u001b[39m \u001b[38;5;28mself\u001b[39m\u001b[38;5;241m.\u001b[39m_interval(diff, size)\u001b[38;5;241m.\u001b[39mastype(dtype, copy\u001b[38;5;241m=\u001b[39m\u001b[38;5;28;01mFalse\u001b[39;00m)\n\u001b[0;32m   1262\u001b[0m cupy\u001b[38;5;241m.\u001b[39madd(x, lo, out\u001b[38;5;241m=\u001b[39mx)\n\u001b[0;32m   1263\u001b[0m \u001b[38;5;28;01mreturn\u001b[39;00m x\n",
      "File \u001b[1;32mc:\\Users\\dasha\\anaconda3\\Lib\\site-packages\\cupy\\random\\_generator.py:763\u001b[0m, in \u001b[0;36mRandomState._interval\u001b[1;34m(self, mx, size)\u001b[0m\n\u001b[0;32m    760\u001b[0m \u001b[38;5;28;01melse\u001b[39;00m:  \u001b[38;5;66;03m# dtype == cupy.uint64\u001b[39;00m\n\u001b[0;32m    761\u001b[0m     sample \u001b[38;5;241m=\u001b[39m \u001b[38;5;28mself\u001b[39m\u001b[38;5;241m.\u001b[39m_interval_sample_modulo(_UINT64_MAX, mx, sample)\n\u001b[1;32m--> 763\u001b[0m \u001b[38;5;28;01mreturn\u001b[39;00m sample\u001b[38;5;241m.\u001b[39mreshape(size)\n",
      "\u001b[1;31mKeyboardInterrupt\u001b[0m: "
     ]
    }
   ],
   "source": [
    "min_loss = 1000\n",
    "iterations = 10\n",
    "timestep = 0\n",
    "moment1 = [np.zeros(p.data.shape) for p in model.get_parameters() + embedding.get_parameters() + output_layer.get_parameters()]\n",
    "moment2 = [np.zeros(p.data.shape) for p in model.get_parameters() + embedding.get_parameters() + output_layer.get_parameters()]\n",
    "for iteration in range(iterations):\n",
    "    total_loss = 0\n",
    "    \n",
    "    hidden0 = model.layers[0].init_hidden()\n",
    "    hidden1 = model.layers[1].init_hidden()\n",
    "    \n",
    "    for task_i in range(0, len(X_train)):\n",
    "        timestep += 1\n",
    "\n",
    "        hidden0 = model.layers[0].init_hidden()\n",
    "        hidden1 = model.layers[1].init_hidden()\n",
    "        \n",
    "        for t in range(len(X_train[task_i])):\n",
    "            input = np.zeros(shape=(1,len(vocabulary)))\n",
    "            input[0, X_train[task_i][t]] = 1\n",
    "            input = Tensor(input, autograd=True)\n",
    "            lstm_input = embedding.forward(input=input)\n",
    "            hidden0 = model.layers[0].forward(input=lstm_input, hidden=hidden0)\n",
    "            hidden1 = model.layers[1].forward(input=hidden0[0], hidden=hidden1)\n",
    "        \n",
    "        output = output_layer.forward(hidden1[0])\n",
    "        target = Tensor(y_train[task_i], autograd=True)\n",
    "        loss = criterion.forward(output, target)\n",
    "        loss.backward()\n",
    "        moment1, moment2 = optimiser.step(timestep, moment1, moment2)\n",
    "        \n",
    "        total_loss += loss.data / len(X_train[task_i])\n",
    "        epoch_loss = np.exp(total_loss / (task_i + 1))\n",
    "        \n",
    "        if epoch_loss < min_loss:\n",
    "            min_loss = epoch_loss\n",
    "            print()\n",
    "        \n",
    "        print(f\"Iter: {iteration} - Alpha: {str(optimiser.alpha)[:5]} - Example {task_i + 1}/{len(X_train)} - Min Loss: {str(min_loss)} - Loss: {epoch_loss}\", end='\\r')\n",
    "    optimiser.alpha *= 0.99"
   ]
  },
  {
   "cell_type": "code",
   "execution_count": 25,
   "id": "08cd0cf4",
   "metadata": {},
   "outputs": [],
   "source": [
    "def predict(task_indices):\n",
    "    hidden0 = model.layers[0].init_hidden()\n",
    "    hidden1 = model.layers[1].init_hidden()\n",
    "    for t in range(len(task_indices)):\n",
    "        input = Tensor([task_indices[t]], autograd=True)\n",
    "        lstm_input = embedding.forward(input=input)\n",
    "        hidden0 = model.layers[0].forward(input=lstm_input, hidden=hidden0)\n",
    "        hidden1 = model.layers[1].forward(input=hidden0[0], hidden=hidden1)\n",
    "    output = output_layer.forward(hidden1[0])\n",
    "    \n",
    "    return output"
   ]
  },
  {
   "cell_type": "code",
   "execution_count": 26,
   "id": "fba0be0f",
   "metadata": {},
   "outputs": [
    {
     "name": "stdout",
     "output_type": "stream",
     "text": [
      "Task 2000/2000 - Loss: [0.33116146]]\n",
      "[1.28548814]\n"
     ]
    }
   ],
   "source": [
    "for task_i in range(len(X_test)):\n",
    "    output = predict(X_test[task_i])\n",
    "    target = Tensor(np.array(y_test)[task_i], autograd=True)\n",
    "    loss = criterion.forward(output, target)\n",
    "    print(f\"Task {task_i + 1}/{len(X_test)} - Loss: {loss.data}\", end='\\r')\n",
    "    total_loss += loss.data / len(X_test[task_i])\n",
    "loss_to_display = np.exp(total_loss / (task_i + 1))\n",
    "print()\n",
    "print(loss_to_display)"
   ]
  },
  {
   "cell_type": "code",
   "execution_count": 27,
   "id": "57fbbf87",
   "metadata": {},
   "outputs": [],
   "source": [
    "import pickle as pkl\n",
    "\n",
    "with open(\"importance_embedding.pkl\", \"wb\") as file:\n",
    "    pkl.dump(embedding, file)\n",
    "\n",
    "with open(\"importance_model.pkl\", \"wb\") as file:\n",
    "    pkl.dump(model, file)\n",
    "\n",
    "with open(\"importance_output.pkl\", \"wb\") as file:\n",
    "    pkl.dump(output_layer, file)\n",
    "\n",
    "with open(\"word2index.pkl\", \"wb\") as file:\n",
    "    pkl.dump(word2index, file)"
   ]
  },
  {
   "cell_type": "code",
   "execution_count": 53,
   "id": "74df4b09",
   "metadata": {},
   "outputs": [],
   "source": [
    "with open(\"importance_embedding.pkl\", \"rb\") as file:\n",
    "    embedding = pkl.load(file)\n",
    "\n",
    "with open(\"importance_model.pkl\", \"rb\") as file:\n",
    "    model = pkl.load(file)\n",
    "\n",
    "with open(\"importance_output.pkl\", \"rb\") as file:\n",
    "    output_layer = pkl.load(file)\n",
    "\n",
    "with open(\"word2index.pkl\", \"rb\") as file:\n",
    "    word2index = pkl.load(file)"
   ]
  }
 ],
 "metadata": {
  "kernelspec": {
   "display_name": "base",
   "language": "python",
   "name": "python3"
  },
  "language_info": {
   "codemirror_mode": {
    "name": "ipython",
    "version": 3
   },
   "file_extension": ".py",
   "mimetype": "text/x-python",
   "name": "python",
   "nbconvert_exporter": "python",
   "pygments_lexer": "ipython3",
   "version": "3.11.5"
  }
 },
 "nbformat": 4,
 "nbformat_minor": 5
}
