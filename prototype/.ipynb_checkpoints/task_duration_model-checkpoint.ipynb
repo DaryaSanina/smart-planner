{
 "cells": [
  {
   "cell_type": "code",
   "execution_count": 1,
   "id": "4ff44953",
   "metadata": {},
   "outputs": [],
   "source": [
    "import numpy as np\n",
    "import pandas as pd\n",
    "import matplotlib.pyplot as plt\n",
    "from neural_networks import Sequential\n",
    "from layers import Dense\n",
    "from errors import MeanSquaredError\n",
    "from utils import BagOfWords, preprocess_data, get_batches"
   ]
  },
  {
   "cell_type": "code",
   "execution_count": 2,
   "id": "2ba1a6ae",
   "metadata": {},
   "outputs": [
    {
     "data": {
      "text/html": [
       "<div>\n",
       "<style scoped>\n",
       "    .dataframe tbody tr th:only-of-type {\n",
       "        vertical-align: middle;\n",
       "    }\n",
       "\n",
       "    .dataframe tbody tr th {\n",
       "        vertical-align: top;\n",
       "    }\n",
       "\n",
       "    .dataframe thead th {\n",
       "        text-align: right;\n",
       "    }\n",
       "</style>\n",
       "<table border=\"1\" class=\"dataframe\">\n",
       "  <thead>\n",
       "    <tr style=\"text-align: right;\">\n",
       "      <th></th>\n",
       "      <th>Unnamed: 0</th>\n",
       "      <th>Task</th>\n",
       "      <th>Importance</th>\n",
       "      <th>Time to complete (minutes)</th>\n",
       "    </tr>\n",
       "  </thead>\n",
       "  <tbody>\n",
       "    <tr>\n",
       "      <th>0</th>\n",
       "      <td>0</td>\n",
       "      <td>Fix broken appliance</td>\n",
       "      <td>7</td>\n",
       "      <td>60</td>\n",
       "    </tr>\n",
       "    <tr>\n",
       "      <th>1</th>\n",
       "      <td>1</td>\n",
       "      <td>Sort and organize important documents</td>\n",
       "      <td>4</td>\n",
       "      <td>60</td>\n",
       "    </tr>\n",
       "    <tr>\n",
       "      <th>2</th>\n",
       "      <td>2</td>\n",
       "      <td>Plan product launch event</td>\n",
       "      <td>9</td>\n",
       "      <td>120</td>\n",
       "    </tr>\n",
       "    <tr>\n",
       "      <th>3</th>\n",
       "      <td>3</td>\n",
       "      <td>Volunteer at the local shelter</td>\n",
       "      <td>9</td>\n",
       "      <td>120</td>\n",
       "    </tr>\n",
       "    <tr>\n",
       "      <th>4</th>\n",
       "      <td>4</td>\n",
       "      <td>Walk the Dog</td>\n",
       "      <td>3</td>\n",
       "      <td>20</td>\n",
       "    </tr>\n",
       "  </tbody>\n",
       "</table>\n",
       "</div>"
      ],
      "text/plain": [
       "   Unnamed: 0                                   Task  Importance  \\\n",
       "0           0                   Fix broken appliance           7   \n",
       "1           1  Sort and organize important documents           4   \n",
       "2           2              Plan product launch event           9   \n",
       "3           3         Volunteer at the local shelter           9   \n",
       "4           4                           Walk the Dog           3   \n",
       "\n",
       "   Time to complete (minutes)  \n",
       "0                          60  \n",
       "1                          60  \n",
       "2                         120  \n",
       "3                         120  \n",
       "4                          20  "
      ]
     },
     "execution_count": 2,
     "metadata": {},
     "output_type": "execute_result"
    }
   ],
   "source": [
    "df = pd.read_csv(\"dataset.csv\")\n",
    "df.head()"
   ]
  },
  {
   "cell_type": "code",
   "execution_count": 3,
   "id": "028d2ea3",
   "metadata": {},
   "outputs": [
    {
     "name": "stdout",
     "output_type": "stream",
     "text": [
      "(10003, 1564)\n",
      "(10003, 1)\n"
     ]
    }
   ],
   "source": [
    "X = preprocess_data(list(df[\"Task\"]))\n",
    "vocabulary = set()\n",
    "for example in X:\n",
    "    for word in example:\n",
    "        vocabulary.add(word)\n",
    "bag_of_words = BagOfWords(vocabulary=list(vocabulary))\n",
    "X = bag_of_words.encode(X)\n",
    "y = np.asarray(df[\"Time to complete (minutes)\"]).reshape((-1, 1))\n",
    "print(X.shape)\n",
    "print(y.shape)"
   ]
  },
  {
   "cell_type": "code",
   "execution_count": 4,
   "id": "04891fc7",
   "metadata": {},
   "outputs": [
    {
     "name": "stdout",
     "output_type": "stream",
     "text": [
      "(16, 1564)\n"
     ]
    }
   ],
   "source": [
    "X_batches, y_batches = get_batches(X, y, batch_size=16)\n",
    "print(X_batches[0].shape)"
   ]
  },
  {
   "cell_type": "code",
   "execution_count": 5,
   "id": "df7e966c",
   "metadata": {},
   "outputs": [],
   "source": [
    "model = Sequential([\n",
    "    Dense(input_units=X.shape[1], output_units=100, activation='relu'),\n",
    "    Dense(input_units=100, output_units=1, activation='linear')\n",
    "])\n",
    "model.compile(error=MeanSquaredError(), learning_rate=1e-4)"
   ]
  },
  {
   "cell_type": "code",
   "execution_count": 6,
   "id": "0c317c78",
   "metadata": {},
   "outputs": [
    {
     "name": "stdout",
     "output_type": "stream",
     "text": [
      "Epoch #0: Cost = 597.4567146776823\n",
      "Epoch #1: Cost = 604.57192911405\n",
      "Epoch #2: Cost = 628.1175642170514\n",
      "Epoch #3: Cost = 671.8044974343326\n",
      "Epoch #4: Cost = 765.2884264780465\n",
      "Epoch #5: Cost = 892.7940756310556\n",
      "Epoch #6: Cost = 997.12375634783\n",
      "Epoch #7: Cost = 1043.998896087281\n",
      "Epoch #8: Cost = 1044.6426964313894\n",
      "Epoch #9: Cost = 1022.0738156904199\n",
      "Epoch #10: Cost = 989.5867721713724\n",
      "Epoch #11: Cost = 953.4966344239167\n",
      "Epoch #12: Cost = 916.423850415962\n",
      "Epoch #13: Cost = 879.8400830395623\n",
      "Epoch #14: Cost = 844.563795464588\n",
      "Epoch #15: Cost = 811.0976239150283\n",
      "Epoch #16: Cost = 780.0325072563717\n",
      "Epoch #17: Cost = 751.705518314501\n",
      "Epoch #18: Cost = 725.9636209344241\n",
      "Epoch #19: Cost = 702.8581967722239\n",
      "Epoch #20: Cost = 682.300822554951\n",
      "Epoch #21: Cost = 664.0816252735551\n",
      "Epoch #22: Cost = 647.9871508012704\n",
      "Epoch #23: Cost = 633.7808633292616\n",
      "Epoch #24: Cost = 621.2453882300875\n",
      "Epoch #25: Cost = 610.1846342156698\n",
      "Epoch #26: Cost = 600.4255200415412\n",
      "Epoch #27: Cost = 591.8150257671973\n",
      "Epoch #28: Cost = 584.2179723497275\n",
      "Epoch #29: Cost = 577.5153046095021\n",
      "Epoch #30: Cost = 571.6016389547815\n",
      "Epoch #31: Cost = 566.384088118672\n",
      "Epoch #32: Cost = 561.7807197766252\n",
      "Epoch #33: Cost = 557.719244423787\n",
      "Epoch #34: Cost = 554.1358805220221\n",
      "Epoch #35: Cost = 550.9743532044467\n",
      "Epoch #36: Cost = 548.1850108196267\n",
      "Epoch #37: Cost = 545.7240454473238\n",
      "Epoch #38: Cost = 543.5528051497776\n",
      "Epoch #39: Cost = 541.637187162501\n",
      "Epoch #40: Cost = 539.947102499113\n",
      "Epoch #41: Cost = 538.4560035657347\n",
      "Epoch #42: Cost = 537.1404673695763\n",
      "Epoch #43: Cost = 535.9798277790135\n",
      "Epoch #44: Cost = 534.9558510624449\n",
      "Epoch #45: Cost = 534.0524496125873\n",
      "Epoch #46: Cost = 533.2554293622726\n",
      "Epoch #47: Cost = 532.5522669266986\n",
      "Epoch #48: Cost = 531.9319129737027\n",
      "Epoch #49: Cost = 531.3846187353571\n",
      "Epoch #50: Cost = 530.9017829374326\n",
      "Epoch #51: Cost = 530.475816743805\n",
      "Epoch #52: Cost = 530.100024595661\n",
      "Epoch #53: Cost = 529.7684990748858\n",
      "Epoch #54: Cost = 529.4760281411268\n",
      "Epoch #55: Cost = 529.2180132863266\n",
      "Epoch #56: Cost = 528.9903973218331\n",
      "Epoch #57: Cost = 528.7896006644662\n",
      "Epoch #58: Cost = 528.6124651212863\n",
      "Epoch #59: Cost = 528.4562042905569\n",
      "Epoch #60: Cost = 528.3183598002378\n",
      "Epoch #61: Cost = 528.1967626970027\n",
      "Epoch #62: Cost = 528.0894993795927\n",
      "Epoch #63: Cost = 527.9948815417058\n",
      "Epoch #64: Cost = 527.9114196525139\n",
      "Epoch #65: Cost = 527.837799558475\n",
      "Epoch #66: Cost = 527.7728618390821\n",
      "Epoch #67: Cost = 527.7155835924299\n",
      "Epoch #68: Cost = 527.6650623646384\n",
      "Epoch #69: Cost = 527.6205019708032\n",
      "Epoch #70: Cost = 527.5811999848645\n",
      "Epoch #71: Cost = 527.546536701959\n",
      "Epoch #72: Cost = 527.5159653999618\n",
      "Epoch #73: Cost = 527.4890037473092\n",
      "Epoch #74: Cost = 527.465226222184\n",
      "Epoch #75: Cost = 527.4442574240323\n",
      "Epoch #76: Cost = 527.425766172384\n",
      "Epoch #77: Cost = 527.409460300322\n",
      "Epoch #78: Cost = 527.3950820608254\n",
      "Epoch #79: Cost = 527.3824040738654\n",
      "Epoch #80: Cost = 527.3712257506004\n",
      "Epoch #81: Cost = 527.3613701385102\n",
      "Epoch #82: Cost = 527.3526811379353\n",
      "Epoch #83: Cost = 527.345021046294\n",
      "Epoch #84: Cost = 527.3382683914165\n",
      "Epoch #85: Cost = 527.3323160199503\n",
      "Epoch #86: Cost = 527.3270694108452\n",
      "Epoch #87: Cost = 527.3224451873731\n",
      "Epoch #88: Cost = 527.3183698043679\n",
      "Epoch #89: Cost = 527.3147783900152\n",
      "Epoch #90: Cost = 527.3116137240273\n",
      "Epoch #91: Cost = 527.3088253361382\n",
      "Epoch #92: Cost = 527.3063687107483\n",
      "Epoch #93: Cost = 527.3042045852385\n",
      "Epoch #94: Cost = 527.3022983309089\n",
      "Epoch #95: Cost = 527.3006194068353\n",
      "Epoch #96: Cost = 527.2991408780355\n",
      "Epoch #97: Cost = 527.2978389903942\n",
      "Epoch #98: Cost = 527.2966927956509\n",
      "Epoch #99: Cost = 527.2956838205697\n"
     ]
    }
   ],
   "source": [
    "cost_history = model.fit(X_batches, y_batches, epochs=100)"
   ]
  },
  {
   "cell_type": "code",
   "execution_count": 7,
   "id": "9b7afb58",
   "metadata": {},
   "outputs": [
    {
     "data": {
      "image/png": "[encoded data removed]",
      "text/plain": [
       "<Figure size 640x480 with 1 Axes>"
      ]
     },
     "metadata": {},
     "output_type": "display_data"
    }
   ],
   "source": [
    "plt.plot(cost_history[1:])\n",
    "plt.title(\"Learning curve\")\n",
    "plt.xlabel(\"Epochs\")\n",
    "plt.show()"
   ]
  },
  {
   "cell_type": "code",
   "execution_count": 20,
   "id": "904e59b7",
   "metadata": {},
   "outputs": [],
   "source": [
    "import pickle as pkl\n",
    "\n",
    "with open('task_importance_model.pkl', 'wb') as file:\n",
    "    pkl.dump(model, file)"
   ]
  },
  {
   "cell_type": "code",
   "execution_count": null,
   "id": "0cf4dc09",
   "metadata": {},
   "outputs": [],
   "source": []
  }
 ],
 "metadata": {
  "kernelspec": {
   "display_name": "Python 3 (ipykernel)",
   "language": "python",
   "name": "python3"
  },
  "language_info": {
   "codemirror_mode": {
    "name": "ipython",
    "version": 3
   },
   "file_extension": ".py",
   "mimetype": "text/x-python",
   "name": "python",
   "nbconvert_exporter": "python",
   "pygments_lexer": "ipython3",
   "version": "3.11.5"
  }
 },
 "nbformat": 4,
 "nbformat_minor": 5
}
