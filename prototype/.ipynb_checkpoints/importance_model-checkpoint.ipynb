{
 "cells": [
  {
   "cell_type": "code",
   "execution_count": 1,
   "id": "e802d67a",
   "metadata": {},
   "outputs": [
    {
     "data": {
      "text/html": [
       "<div>\n",
       "<style scoped>\n",
       "    .dataframe tbody tr th:only-of-type {\n",
       "        vertical-align: middle;\n",
       "    }\n",
       "\n",
       "    .dataframe tbody tr th {\n",
       "        vertical-align: top;\n",
       "    }\n",
       "\n",
       "    .dataframe thead th {\n",
       "        text-align: right;\n",
       "    }\n",
       "</style>\n",
       "<table border=\"1\" class=\"dataframe\">\n",
       "  <thead>\n",
       "    <tr style=\"text-align: right;\">\n",
       "      <th></th>\n",
       "      <th>Unnamed: 0</th>\n",
       "      <th>Name</th>\n",
       "      <th>Description</th>\n",
       "      <th>Importance</th>\n",
       "    </tr>\n",
       "  </thead>\n",
       "  <tbody>\n",
       "    <tr>\n",
       "      <th>0</th>\n",
       "      <td>0</td>\n",
       "      <td>Yoga Session</td>\n",
       "      <td>Attend the 90-minute yoga session to improve f...</td>\n",
       "      <td>7</td>\n",
       "    </tr>\n",
       "    <tr>\n",
       "      <th>1</th>\n",
       "      <td>1</td>\n",
       "      <td>Update Budget</td>\n",
       "      <td>Review and update the monthly budget. Crucial ...</td>\n",
       "      <td>8</td>\n",
       "    </tr>\n",
       "    <tr>\n",
       "      <th>2</th>\n",
       "      <td>2</td>\n",
       "      <td>Watch Webinar</td>\n",
       "      <td>Attend a live webinar on digital marketing str...</td>\n",
       "      <td>4</td>\n",
       "    </tr>\n",
       "    <tr>\n",
       "      <th>3</th>\n",
       "      <td>3</td>\n",
       "      <td>Water Plants</td>\n",
       "      <td>Watering indoor plants to keep them alive. Imp...</td>\n",
       "      <td>7</td>\n",
       "    </tr>\n",
       "    <tr>\n",
       "      <th>4</th>\n",
       "      <td>4</td>\n",
       "      <td>Schedule Doctor’s Appointment</td>\n",
       "      <td>Scheduling an appointment for a routine health...</td>\n",
       "      <td>8</td>\n",
       "    </tr>\n",
       "  </tbody>\n",
       "</table>\n",
       "</div>"
      ],
      "text/plain": [
       "   Unnamed: 0                           Name  \\\n",
       "0           0                   Yoga Session   \n",
       "1           1                  Update Budget   \n",
       "2           2                  Watch Webinar   \n",
       "3           3                   Water Plants   \n",
       "4           4  Schedule Doctor’s Appointment   \n",
       "\n",
       "                                         Description  Importance  \n",
       "0  Attend the 90-minute yoga session to improve f...           7  \n",
       "1  Review and update the monthly budget. Crucial ...           8  \n",
       "2  Attend a live webinar on digital marketing str...           4  \n",
       "3  Watering indoor plants to keep them alive. Imp...           7  \n",
       "4  Scheduling an appointment for a routine health...           8  "
      ]
     },
     "execution_count": 1,
     "metadata": {},
     "output_type": "execute_result"
    }
   ],
   "source": [
    "import pandas as pd\n",
    "\n",
    "dataframe = pd.read_csv('dataset.csv')\n",
    "dataframe.head()"
   ]
  },
  {
   "cell_type": "code",
   "execution_count": 3,
   "id": "953322ca",
   "metadata": {},
   "outputs": [
    {
     "name": "stdout",
     "output_type": "stream",
     "text": [
      "1000\n"
     ]
    }
   ],
   "source": [
    "task_names = dataframe[\"Name\"]\n",
    "task_descriptions = dataframe[\"Description\"]\n",
    "importances = dataframe[\"Importance\"]\n",
    "print(len(task_names))"
   ]
  },
  {
   "cell_type": "code",
   "execution_count": 4,
   "id": "20124e5f",
   "metadata": {},
   "outputs": [
    {
     "name": "stdout",
     "output_type": "stream",
     "text": [
      "['yoga session attend the 90-minute yoga session to improve flexibility and reduce stress. important for well-being.', 'update budget review and update the monthly budget. crucial for financial health and planning.']\n"
     ]
    }
   ],
   "source": [
    "concatenated = [task_names[i].lower() + \" \" + task_descriptions[i].lower() for i in range(len(task_names))]\n",
    "print(concatenated[:2])"
   ]
  },
  {
   "cell_type": "code",
   "execution_count": 7,
   "id": "78583ee8",
   "metadata": {},
   "outputs": [
    {
     "name": "stdout",
     "output_type": "stream",
     "text": [
      "['yoga session attend the 90 minute yoga session to improve flexibility and reduce stress  important for well being ', 'update budget review and update the monthly budget  crucial for financial health and planning ']\n"
     ]
    }
   ],
   "source": [
    "alphanumeric = []\n",
    "for task in concatenated:\n",
    "    new_task = ''.join([character if character.isalnum() else ' ' for character in task])\n",
    "    alphanumeric.append(new_task)\n",
    "print(alphanumeric[:2])"
   ]
  },
  {
   "cell_type": "code",
   "execution_count": 8,
   "id": "6d946731",
   "metadata": {},
   "outputs": [
    {
     "name": "stdout",
     "output_type": "stream",
     "text": [
      "[['yoga', 'session', 'attend', 'the', '90', 'minute', 'yoga', 'session', 'to', 'improve', 'flexibility', 'and', 'reduce', 'stress', 'important', 'for', 'well', 'being'], ['update', 'budget', 'review', 'and', 'update', 'the', 'monthly', 'budget', 'crucial', 'for', 'financial', 'health', 'and', 'planning'], ['watch', 'webinar', 'attend', 'a', 'live', 'webinar', 'on', 'digital', 'marketing', 'strategies', 'useful', 'for', 'professional', 'development', 'but', 'it', 'will', 'be', 'recorded', 'for', 'later', 'viewing'], ['water', 'plants', 'watering', 'indoor', 'plants', 'to', 'keep', 'them', 'alive', 'important', 'for', 'plant', 'health', 'but', 'has', 'a', 'day', 'or', 'two', 'of', 'flexibility'], ['schedule', 'doctor', 's', 'appointment', 'scheduling', 'an', 'appointment', 'for', 'a', 'routine', 'health', 'check', 'up', 'important', 'for', 'monitoring', 'and', 'maintaining', 'health']]\n"
     ]
    }
   ],
   "source": [
    "tokens = []\n",
    "for task in alphanumeric:\n",
    "    tokens.append([word for word in task.split() if word != ''])\n",
    "print(tokens[:5])"
   ]
  },
  {
   "cell_type": "code",
   "execution_count": 9,
   "id": "65754bcf",
   "metadata": {},
   "outputs": [
    {
     "name": "stdout",
     "output_type": "stream",
     "text": [
      "1493\n"
     ]
    }
   ],
   "source": [
    "vocabulary = set()\n",
    "for task in tokens:\n",
    "    for token in task:\n",
    "        vocabulary.add(token)\n",
    "vocabulary = list(vocabulary)\n",
    "print(len(vocabulary))"
   ]
  },
  {
   "cell_type": "code",
   "execution_count": 10,
   "id": "86fce95d",
   "metadata": {},
   "outputs": [
    {
     "name": "stdout",
     "output_type": "stream",
     "text": [
      "[array([ 969,  440,  748,  295, 1435,  259,  969,  440,   74, 1196,  139,\n",
      "       1178,  498,  663,  719, 1257,   36, 1064]), array([ 940,   30,   75, 1178,  940,  295,   67,   30,  263, 1257,  150,\n",
      "       1462, 1178,  658]), array([ 723,  859,  748,  703,  185,  859,  293,  462, 1429, 1143,  249,\n",
      "       1257,  324,  783,  849, 1147,  716,  976, 1275, 1257, 1428, 1018]), array([ 915, 1185,  839,  257, 1185,   74, 1349,   60,  125,  719, 1257,\n",
      "        872, 1462,  849,  861,  703,  138, 1215,  208,  238,  139]), array([ 309,  173, 1413, 1213,  164,  824, 1213, 1257,  703, 1287, 1462,\n",
      "       1431,  437,  719, 1257,  986, 1178, 1170, 1462])]\n"
     ]
    }
   ],
   "source": [
    "import numpy as np\n",
    "\n",
    "word2index = dict()\n",
    "for i, w in enumerate(vocabulary):\n",
    "    word2index[w] = i\n",
    "indices = [np.asarray([word2index[token] for token in task]) for task in tokens]\n",
    "print(indices[:5])"
   ]
  },
  {
   "cell_type": "code",
   "execution_count": 11,
   "id": "a7465857",
   "metadata": {},
   "outputs": [],
   "source": [
    "from autograd import Tensor\n",
    "from layers import Embedding, LSTMCell, MSELoss, Linear\n",
    "from optimisers import SGD\n",
    "\n",
    "embedding = Embedding(vocab_size=len(vocabulary), dim=512)\n",
    "model = LSTMCell(n_inputs=512, n_hidden=512, n_outputs=1)\n",
    "output_layer = Linear(n_inputs=512, n_outputs=1)"
   ]
  },
  {
   "cell_type": "code",
   "execution_count": 12,
   "id": "ea42af64",
   "metadata": {},
   "outputs": [],
   "source": [
    "criterion = MSELoss()\n",
    "optimiser = SGD(parameters=model.get_parameters() + embedding.get_parameters() + output_layer.get_parameters(), alpha=0.05)"
   ]
  },
  {
   "cell_type": "code",
   "execution_count": 13,
   "id": "3a357ac6",
   "metadata": {},
   "outputs": [
    {
     "name": "stdout",
     "output_type": "stream",
     "text": [
      "<class 'pandas.core.series.Series'>\n"
     ]
    }
   ],
   "source": [
    "X_train = indices[:int(len(indices) * 0.8)]\n",
    "y_train = importances[:int(len(indices) * 0.8)]\n",
    "\n",
    "X_test = indices[int(len(indices) * 0.8):]\n",
    "y_test = importances[int(len(indices) * 0.8):]\n",
    "\n",
    "print(type(y_train))"
   ]
  },
  {
   "cell_type": "code",
   "execution_count": 15,
   "id": "d75590e7",
   "metadata": {},
   "outputs": [
    {
     "name": "stdout",
     "output_type": "stream",
     "text": [
      "\n",
      "Iter: 0 - Alpha: 0.046 - Example 1/800 - Min Loss: [1.00 - Loss: [1.00056071]\n",
      "Iter: 0 - Alpha: 0.046 - Example 640/800 - Min Loss: [1.00 - Loss: [1.02002413]\r"
     ]
    },
    {
     "ename": "KeyboardInterrupt",
     "evalue": "",
     "output_type": "error",
     "traceback": [
      "\u001b[1;31m---------------------------------------------------------------------------\u001b[0m",
      "\u001b[1;31mKeyboardInterrupt\u001b[0m                         Traceback (most recent call last)",
      "Cell \u001b[1;32mIn[15], line 19\u001b[0m\n\u001b[0;32m     17\u001b[0m target \u001b[38;5;241m=\u001b[39m Tensor(y_train[task_i], autograd\u001b[38;5;241m=\u001b[39m\u001b[38;5;28;01mTrue\u001b[39;00m)\n\u001b[0;32m     18\u001b[0m loss \u001b[38;5;241m=\u001b[39m criterion\u001b[38;5;241m.\u001b[39mforward(output, target)\n\u001b[1;32m---> 19\u001b[0m loss\u001b[38;5;241m.\u001b[39mbackward()\n\u001b[0;32m     20\u001b[0m optimiser\u001b[38;5;241m.\u001b[39mstep()\n\u001b[0;32m     22\u001b[0m total_loss \u001b[38;5;241m+\u001b[39m\u001b[38;5;241m=\u001b[39m loss\u001b[38;5;241m.\u001b[39mdata \u001b[38;5;241m/\u001b[39m \u001b[38;5;28mlen\u001b[39m(X_train[task_i])\n",
      "File \u001b[1;32m~\\Documents\\A Levels\\Computer Science\\NEA\\smart-planner\\prototype\\autograd.py:174\u001b[0m, in \u001b[0;36mTensor.backward\u001b[1;34m(self, grad, grad_origin)\u001b[0m\n\u001b[0;32m    172\u001b[0m     dim \u001b[38;5;241m=\u001b[39m \u001b[38;5;28mint\u001b[39m(\u001b[38;5;28mself\u001b[39m\u001b[38;5;241m.\u001b[39mcreation_op\u001b[38;5;241m.\u001b[39msplit(\u001b[38;5;124m'\u001b[39m\u001b[38;5;124m_\u001b[39m\u001b[38;5;124m'\u001b[39m)[\u001b[38;5;241m1\u001b[39m])\n\u001b[0;32m    173\u001b[0m     copies \u001b[38;5;241m=\u001b[39m \u001b[38;5;28mself\u001b[39m\u001b[38;5;241m.\u001b[39mcreators[\u001b[38;5;241m0\u001b[39m]\u001b[38;5;241m.\u001b[39mdata\u001b[38;5;241m.\u001b[39mshape[dim]\n\u001b[1;32m--> 174\u001b[0m     \u001b[38;5;28mself\u001b[39m\u001b[38;5;241m.\u001b[39mcreators[\u001b[38;5;241m0\u001b[39m]\u001b[38;5;241m.\u001b[39mbackward(\u001b[38;5;28mself\u001b[39m\u001b[38;5;241m.\u001b[39mgrad\u001b[38;5;241m.\u001b[39mexpand(dim, copies), \u001b[38;5;28mself\u001b[39m)\n\u001b[0;32m    176\u001b[0m \u001b[38;5;28;01mif\u001b[39;00m \u001b[38;5;124m\"\u001b[39m\u001b[38;5;124mexpand\u001b[39m\u001b[38;5;124m\"\u001b[39m \u001b[38;5;129;01min\u001b[39;00m \u001b[38;5;28mself\u001b[39m\u001b[38;5;241m.\u001b[39mcreation_op:\n\u001b[0;32m    177\u001b[0m     dim \u001b[38;5;241m=\u001b[39m \u001b[38;5;28mint\u001b[39m(\u001b[38;5;28mself\u001b[39m\u001b[38;5;241m.\u001b[39mcreation_op\u001b[38;5;241m.\u001b[39msplit(\u001b[38;5;124m'\u001b[39m\u001b[38;5;124m_\u001b[39m\u001b[38;5;124m'\u001b[39m)[\u001b[38;5;241m1\u001b[39m])\n",
      "File \u001b[1;32m~\\Documents\\A Levels\\Computer Science\\NEA\\smart-planner\\prototype\\autograd.py:132\u001b[0m, in \u001b[0;36mTensor.backward\u001b[1;34m(self, grad, grad_origin)\u001b[0m\n\u001b[0;32m    130\u001b[0m \u001b[38;5;28;01mif\u001b[39;00m \u001b[38;5;28mself\u001b[39m\u001b[38;5;241m.\u001b[39mcreation_op \u001b[38;5;241m==\u001b[39m \u001b[38;5;124m\"\u001b[39m\u001b[38;5;124mmul\u001b[39m\u001b[38;5;124m\"\u001b[39m:\n\u001b[0;32m    131\u001b[0m     \u001b[38;5;28mself\u001b[39m\u001b[38;5;241m.\u001b[39mcreators[\u001b[38;5;241m0\u001b[39m]\u001b[38;5;241m.\u001b[39mbackward(\u001b[38;5;28mself\u001b[39m\u001b[38;5;241m.\u001b[39mgrad \u001b[38;5;241m*\u001b[39m \u001b[38;5;28mself\u001b[39m\u001b[38;5;241m.\u001b[39mcreators[\u001b[38;5;241m1\u001b[39m], \u001b[38;5;28mself\u001b[39m)\n\u001b[1;32m--> 132\u001b[0m     \u001b[38;5;28mself\u001b[39m\u001b[38;5;241m.\u001b[39mcreators[\u001b[38;5;241m1\u001b[39m]\u001b[38;5;241m.\u001b[39mbackward(\u001b[38;5;28mself\u001b[39m\u001b[38;5;241m.\u001b[39mgrad \u001b[38;5;241m*\u001b[39m \u001b[38;5;28mself\u001b[39m\u001b[38;5;241m.\u001b[39mcreators[\u001b[38;5;241m0\u001b[39m], \u001b[38;5;28mself\u001b[39m)\n\u001b[0;32m    134\u001b[0m \u001b[38;5;28;01mif\u001b[39;00m \u001b[38;5;28mself\u001b[39m\u001b[38;5;241m.\u001b[39mcreation_op \u001b[38;5;241m==\u001b[39m \u001b[38;5;124m\"\u001b[39m\u001b[38;5;124mmatmul\u001b[39m\u001b[38;5;124m\"\u001b[39m:\n\u001b[0;32m    135\u001b[0m     activation \u001b[38;5;241m=\u001b[39m \u001b[38;5;28mself\u001b[39m\u001b[38;5;241m.\u001b[39mcreators[\u001b[38;5;241m0\u001b[39m]\n",
      "File \u001b[1;32m~\\Documents\\A Levels\\Computer Science\\NEA\\smart-planner\\prototype\\autograd.py:127\u001b[0m, in \u001b[0;36mTensor.backward\u001b[1;34m(self, grad, grad_origin)\u001b[0m\n\u001b[0;32m    124\u001b[0m     \u001b[38;5;28mself\u001b[39m\u001b[38;5;241m.\u001b[39mcreators[\u001b[38;5;241m0\u001b[39m]\u001b[38;5;241m.\u001b[39mbackward(\u001b[38;5;28mself\u001b[39m\u001b[38;5;241m.\u001b[39mgrad\u001b[38;5;241m.\u001b[39m\u001b[38;5;21m__neg__\u001b[39m(), \u001b[38;5;28mself\u001b[39m)\n\u001b[0;32m    126\u001b[0m \u001b[38;5;28;01mif\u001b[39;00m \u001b[38;5;28mself\u001b[39m\u001b[38;5;241m.\u001b[39mcreation_op \u001b[38;5;241m==\u001b[39m \u001b[38;5;124m\"\u001b[39m\u001b[38;5;124msub\u001b[39m\u001b[38;5;124m\"\u001b[39m:\n\u001b[1;32m--> 127\u001b[0m     \u001b[38;5;28mself\u001b[39m\u001b[38;5;241m.\u001b[39mcreators[\u001b[38;5;241m0\u001b[39m]\u001b[38;5;241m.\u001b[39mbackward(\u001b[38;5;28mself\u001b[39m\u001b[38;5;241m.\u001b[39mgrad, \u001b[38;5;28mself\u001b[39m)\n\u001b[0;32m    128\u001b[0m     \u001b[38;5;28mself\u001b[39m\u001b[38;5;241m.\u001b[39mcreators[\u001b[38;5;241m1\u001b[39m]\u001b[38;5;241m.\u001b[39mbackward(\u001b[38;5;28mself\u001b[39m\u001b[38;5;241m.\u001b[39mgrad\u001b[38;5;241m.\u001b[39m\u001b[38;5;21m__neg__\u001b[39m(), \u001b[38;5;28mself\u001b[39m)\n\u001b[0;32m    130\u001b[0m \u001b[38;5;28;01mif\u001b[39;00m \u001b[38;5;28mself\u001b[39m\u001b[38;5;241m.\u001b[39mcreation_op \u001b[38;5;241m==\u001b[39m \u001b[38;5;124m\"\u001b[39m\u001b[38;5;124mmul\u001b[39m\u001b[38;5;124m\"\u001b[39m:\n",
      "File \u001b[1;32m~\\Documents\\A Levels\\Computer Science\\NEA\\smart-planner\\prototype\\autograd.py:120\u001b[0m, in \u001b[0;36mTensor.backward\u001b[1;34m(self, grad, grad_origin)\u001b[0m\n\u001b[0;32m    118\u001b[0m \u001b[38;5;28;01mif\u001b[39;00m \u001b[38;5;28mself\u001b[39m\u001b[38;5;241m.\u001b[39mcreators \u001b[38;5;129;01mis\u001b[39;00m \u001b[38;5;129;01mnot\u001b[39;00m \u001b[38;5;28;01mNone\u001b[39;00m \u001b[38;5;129;01mand\u001b[39;00m (\u001b[38;5;28mself\u001b[39m\u001b[38;5;241m.\u001b[39mgrads_accounted_for_all_children() \u001b[38;5;129;01mor\u001b[39;00m grad_origin \u001b[38;5;129;01mis\u001b[39;00m \u001b[38;5;28;01mNone\u001b[39;00m):\n\u001b[0;32m    119\u001b[0m     \u001b[38;5;28;01mif\u001b[39;00m \u001b[38;5;28mself\u001b[39m\u001b[38;5;241m.\u001b[39mcreation_op \u001b[38;5;241m==\u001b[39m \u001b[38;5;124m\"\u001b[39m\u001b[38;5;124madd\u001b[39m\u001b[38;5;124m\"\u001b[39m:\n\u001b[1;32m--> 120\u001b[0m         \u001b[38;5;28mself\u001b[39m\u001b[38;5;241m.\u001b[39mcreators[\u001b[38;5;241m0\u001b[39m]\u001b[38;5;241m.\u001b[39mbackward(\u001b[38;5;28mself\u001b[39m\u001b[38;5;241m.\u001b[39mgrad, \u001b[38;5;28mself\u001b[39m)\n\u001b[0;32m    121\u001b[0m         \u001b[38;5;28mself\u001b[39m\u001b[38;5;241m.\u001b[39mcreators[\u001b[38;5;241m1\u001b[39m]\u001b[38;5;241m.\u001b[39mbackward(\u001b[38;5;28mself\u001b[39m\u001b[38;5;241m.\u001b[39mgrad, \u001b[38;5;28mself\u001b[39m)\n\u001b[0;32m    123\u001b[0m     \u001b[38;5;28;01mif\u001b[39;00m \u001b[38;5;28mself\u001b[39m\u001b[38;5;241m.\u001b[39mcreation_op \u001b[38;5;241m==\u001b[39m \u001b[38;5;124m\"\u001b[39m\u001b[38;5;124mneg\u001b[39m\u001b[38;5;124m\"\u001b[39m:\n",
      "File \u001b[1;32m~\\Documents\\A Levels\\Computer Science\\NEA\\smart-planner\\prototype\\autograd.py:139\u001b[0m, in \u001b[0;36mTensor.backward\u001b[1;34m(self, grad, grad_origin)\u001b[0m\n\u001b[0;32m    137\u001b[0m     new1 \u001b[38;5;241m=\u001b[39m \u001b[38;5;28mself\u001b[39m\u001b[38;5;241m.\u001b[39mgrad \u001b[38;5;241m@\u001b[39m weights\u001b[38;5;241m.\u001b[39mtranspose()\n\u001b[0;32m    138\u001b[0m     new2 \u001b[38;5;241m=\u001b[39m (\u001b[38;5;28mself\u001b[39m\u001b[38;5;241m.\u001b[39mgrad\u001b[38;5;241m.\u001b[39mtranspose() \u001b[38;5;241m@\u001b[39m activation)\u001b[38;5;241m.\u001b[39mtranspose()\n\u001b[1;32m--> 139\u001b[0m     activation\u001b[38;5;241m.\u001b[39mbackward(new1, \u001b[38;5;28mself\u001b[39m)\n\u001b[0;32m    140\u001b[0m     weights\u001b[38;5;241m.\u001b[39mbackward(new2, \u001b[38;5;28mself\u001b[39m)\n\u001b[0;32m    142\u001b[0m \u001b[38;5;28;01mif\u001b[39;00m \u001b[38;5;28mself\u001b[39m\u001b[38;5;241m.\u001b[39mcreation_op \u001b[38;5;241m==\u001b[39m \u001b[38;5;124m\"\u001b[39m\u001b[38;5;124mtranspose\u001b[39m\u001b[38;5;124m\"\u001b[39m:\n",
      "File \u001b[1;32m~\\Documents\\A Levels\\Computer Science\\NEA\\smart-planner\\prototype\\autograd.py:132\u001b[0m, in \u001b[0;36mTensor.backward\u001b[1;34m(self, grad, grad_origin)\u001b[0m\n\u001b[0;32m    130\u001b[0m \u001b[38;5;28;01mif\u001b[39;00m \u001b[38;5;28mself\u001b[39m\u001b[38;5;241m.\u001b[39mcreation_op \u001b[38;5;241m==\u001b[39m \u001b[38;5;124m\"\u001b[39m\u001b[38;5;124mmul\u001b[39m\u001b[38;5;124m\"\u001b[39m:\n\u001b[0;32m    131\u001b[0m     \u001b[38;5;28mself\u001b[39m\u001b[38;5;241m.\u001b[39mcreators[\u001b[38;5;241m0\u001b[39m]\u001b[38;5;241m.\u001b[39mbackward(\u001b[38;5;28mself\u001b[39m\u001b[38;5;241m.\u001b[39mgrad \u001b[38;5;241m*\u001b[39m \u001b[38;5;28mself\u001b[39m\u001b[38;5;241m.\u001b[39mcreators[\u001b[38;5;241m1\u001b[39m], \u001b[38;5;28mself\u001b[39m)\n\u001b[1;32m--> 132\u001b[0m     \u001b[38;5;28mself\u001b[39m\u001b[38;5;241m.\u001b[39mcreators[\u001b[38;5;241m1\u001b[39m]\u001b[38;5;241m.\u001b[39mbackward(\u001b[38;5;28mself\u001b[39m\u001b[38;5;241m.\u001b[39mgrad \u001b[38;5;241m*\u001b[39m \u001b[38;5;28mself\u001b[39m\u001b[38;5;241m.\u001b[39mcreators[\u001b[38;5;241m0\u001b[39m], \u001b[38;5;28mself\u001b[39m)\n\u001b[0;32m    134\u001b[0m \u001b[38;5;28;01mif\u001b[39;00m \u001b[38;5;28mself\u001b[39m\u001b[38;5;241m.\u001b[39mcreation_op \u001b[38;5;241m==\u001b[39m \u001b[38;5;124m\"\u001b[39m\u001b[38;5;124mmatmul\u001b[39m\u001b[38;5;124m\"\u001b[39m:\n\u001b[0;32m    135\u001b[0m     activation \u001b[38;5;241m=\u001b[39m \u001b[38;5;28mself\u001b[39m\u001b[38;5;241m.\u001b[39mcreators[\u001b[38;5;241m0\u001b[39m]\n",
      "File \u001b[1;32m~\\Documents\\A Levels\\Computer Science\\NEA\\smart-planner\\prototype\\autograd.py:153\u001b[0m, in \u001b[0;36mTensor.backward\u001b[1;34m(self, grad, grad_origin)\u001b[0m\n\u001b[0;32m    150\u001b[0m \u001b[38;5;28;01mif\u001b[39;00m \u001b[38;5;28mself\u001b[39m\u001b[38;5;241m.\u001b[39mcreation_op \u001b[38;5;241m==\u001b[39m \u001b[38;5;124m\"\u001b[39m\u001b[38;5;124mtanh\u001b[39m\u001b[38;5;124m\"\u001b[39m:\n\u001b[0;32m    151\u001b[0m     \u001b[38;5;66;03m# tanh'(x) = 1 - tanh(x) ** 2\u001b[39;00m\n\u001b[0;32m    152\u001b[0m     ones \u001b[38;5;241m=\u001b[39m Tensor(np\u001b[38;5;241m.\u001b[39mones_like(\u001b[38;5;28mself\u001b[39m\u001b[38;5;241m.\u001b[39mgrad\u001b[38;5;241m.\u001b[39mdata))\n\u001b[1;32m--> 153\u001b[0m     \u001b[38;5;28mself\u001b[39m\u001b[38;5;241m.\u001b[39mcreators[\u001b[38;5;241m0\u001b[39m]\u001b[38;5;241m.\u001b[39mbackward(\u001b[38;5;28mself\u001b[39m\u001b[38;5;241m.\u001b[39mgrad \u001b[38;5;241m*\u001b[39m (ones \u001b[38;5;241m-\u001b[39m \u001b[38;5;28mself\u001b[39m \u001b[38;5;241m*\u001b[39m \u001b[38;5;28mself\u001b[39m), \u001b[38;5;28mself\u001b[39m)\n\u001b[0;32m    155\u001b[0m \u001b[38;5;28;01mif\u001b[39;00m \u001b[38;5;28mself\u001b[39m\u001b[38;5;241m.\u001b[39mcreation_op \u001b[38;5;241m==\u001b[39m \u001b[38;5;124m\"\u001b[39m\u001b[38;5;124mrelu\u001b[39m\u001b[38;5;124m\"\u001b[39m:\n\u001b[0;32m    156\u001b[0m     \u001b[38;5;66;03m# ReLU'(x) = 1 if x > 0, 0 if x <= 0\u001b[39;00m\n\u001b[0;32m    157\u001b[0m     ones \u001b[38;5;241m=\u001b[39m Tensor(np\u001b[38;5;241m.\u001b[39mones_like(\u001b[38;5;28mself\u001b[39m\u001b[38;5;241m.\u001b[39mgrad\u001b[38;5;241m.\u001b[39mdata))\n",
      "File \u001b[1;32m~\\Documents\\A Levels\\Computer Science\\NEA\\smart-planner\\prototype\\autograd.py:121\u001b[0m, in \u001b[0;36mTensor.backward\u001b[1;34m(self, grad, grad_origin)\u001b[0m\n\u001b[0;32m    119\u001b[0m \u001b[38;5;28;01mif\u001b[39;00m \u001b[38;5;28mself\u001b[39m\u001b[38;5;241m.\u001b[39mcreation_op \u001b[38;5;241m==\u001b[39m \u001b[38;5;124m\"\u001b[39m\u001b[38;5;124madd\u001b[39m\u001b[38;5;124m\"\u001b[39m:\n\u001b[0;32m    120\u001b[0m     \u001b[38;5;28mself\u001b[39m\u001b[38;5;241m.\u001b[39mcreators[\u001b[38;5;241m0\u001b[39m]\u001b[38;5;241m.\u001b[39mbackward(\u001b[38;5;28mself\u001b[39m\u001b[38;5;241m.\u001b[39mgrad, \u001b[38;5;28mself\u001b[39m)\n\u001b[1;32m--> 121\u001b[0m     \u001b[38;5;28mself\u001b[39m\u001b[38;5;241m.\u001b[39mcreators[\u001b[38;5;241m1\u001b[39m]\u001b[38;5;241m.\u001b[39mbackward(\u001b[38;5;28mself\u001b[39m\u001b[38;5;241m.\u001b[39mgrad, \u001b[38;5;28mself\u001b[39m)\n\u001b[0;32m    123\u001b[0m \u001b[38;5;28;01mif\u001b[39;00m \u001b[38;5;28mself\u001b[39m\u001b[38;5;241m.\u001b[39mcreation_op \u001b[38;5;241m==\u001b[39m \u001b[38;5;124m\"\u001b[39m\u001b[38;5;124mneg\u001b[39m\u001b[38;5;124m\"\u001b[39m:\n\u001b[0;32m    124\u001b[0m     \u001b[38;5;28mself\u001b[39m\u001b[38;5;241m.\u001b[39mcreators[\u001b[38;5;241m0\u001b[39m]\u001b[38;5;241m.\u001b[39mbackward(\u001b[38;5;28mself\u001b[39m\u001b[38;5;241m.\u001b[39mgrad\u001b[38;5;241m.\u001b[39m\u001b[38;5;21m__neg__\u001b[39m(), \u001b[38;5;28mself\u001b[39m)\n",
      "File \u001b[1;32m~\\Documents\\A Levels\\Computer Science\\NEA\\smart-planner\\prototype\\autograd.py:132\u001b[0m, in \u001b[0;36mTensor.backward\u001b[1;34m(self, grad, grad_origin)\u001b[0m\n\u001b[0;32m    130\u001b[0m \u001b[38;5;28;01mif\u001b[39;00m \u001b[38;5;28mself\u001b[39m\u001b[38;5;241m.\u001b[39mcreation_op \u001b[38;5;241m==\u001b[39m \u001b[38;5;124m\"\u001b[39m\u001b[38;5;124mmul\u001b[39m\u001b[38;5;124m\"\u001b[39m:\n\u001b[0;32m    131\u001b[0m     \u001b[38;5;28mself\u001b[39m\u001b[38;5;241m.\u001b[39mcreators[\u001b[38;5;241m0\u001b[39m]\u001b[38;5;241m.\u001b[39mbackward(\u001b[38;5;28mself\u001b[39m\u001b[38;5;241m.\u001b[39mgrad \u001b[38;5;241m*\u001b[39m \u001b[38;5;28mself\u001b[39m\u001b[38;5;241m.\u001b[39mcreators[\u001b[38;5;241m1\u001b[39m], \u001b[38;5;28mself\u001b[39m)\n\u001b[1;32m--> 132\u001b[0m     \u001b[38;5;28mself\u001b[39m\u001b[38;5;241m.\u001b[39mcreators[\u001b[38;5;241m1\u001b[39m]\u001b[38;5;241m.\u001b[39mbackward(\u001b[38;5;28mself\u001b[39m\u001b[38;5;241m.\u001b[39mgrad \u001b[38;5;241m*\u001b[39m \u001b[38;5;28mself\u001b[39m\u001b[38;5;241m.\u001b[39mcreators[\u001b[38;5;241m0\u001b[39m], \u001b[38;5;28mself\u001b[39m)\n\u001b[0;32m    134\u001b[0m \u001b[38;5;28;01mif\u001b[39;00m \u001b[38;5;28mself\u001b[39m\u001b[38;5;241m.\u001b[39mcreation_op \u001b[38;5;241m==\u001b[39m \u001b[38;5;124m\"\u001b[39m\u001b[38;5;124mmatmul\u001b[39m\u001b[38;5;124m\"\u001b[39m:\n\u001b[0;32m    135\u001b[0m     activation \u001b[38;5;241m=\u001b[39m \u001b[38;5;28mself\u001b[39m\u001b[38;5;241m.\u001b[39mcreators[\u001b[38;5;241m0\u001b[39m]\n",
      "File \u001b[1;32m~\\Documents\\A Levels\\Computer Science\\NEA\\smart-planner\\prototype\\autograd.py:153\u001b[0m, in \u001b[0;36mTensor.backward\u001b[1;34m(self, grad, grad_origin)\u001b[0m\n\u001b[0;32m    150\u001b[0m \u001b[38;5;28;01mif\u001b[39;00m \u001b[38;5;28mself\u001b[39m\u001b[38;5;241m.\u001b[39mcreation_op \u001b[38;5;241m==\u001b[39m \u001b[38;5;124m\"\u001b[39m\u001b[38;5;124mtanh\u001b[39m\u001b[38;5;124m\"\u001b[39m:\n\u001b[0;32m    151\u001b[0m     \u001b[38;5;66;03m# tanh'(x) = 1 - tanh(x) ** 2\u001b[39;00m\n\u001b[0;32m    152\u001b[0m     ones \u001b[38;5;241m=\u001b[39m Tensor(np\u001b[38;5;241m.\u001b[39mones_like(\u001b[38;5;28mself\u001b[39m\u001b[38;5;241m.\u001b[39mgrad\u001b[38;5;241m.\u001b[39mdata))\n\u001b[1;32m--> 153\u001b[0m     \u001b[38;5;28mself\u001b[39m\u001b[38;5;241m.\u001b[39mcreators[\u001b[38;5;241m0\u001b[39m]\u001b[38;5;241m.\u001b[39mbackward(\u001b[38;5;28mself\u001b[39m\u001b[38;5;241m.\u001b[39mgrad \u001b[38;5;241m*\u001b[39m (ones \u001b[38;5;241m-\u001b[39m \u001b[38;5;28mself\u001b[39m \u001b[38;5;241m*\u001b[39m \u001b[38;5;28mself\u001b[39m), \u001b[38;5;28mself\u001b[39m)\n\u001b[0;32m    155\u001b[0m \u001b[38;5;28;01mif\u001b[39;00m \u001b[38;5;28mself\u001b[39m\u001b[38;5;241m.\u001b[39mcreation_op \u001b[38;5;241m==\u001b[39m \u001b[38;5;124m\"\u001b[39m\u001b[38;5;124mrelu\u001b[39m\u001b[38;5;124m\"\u001b[39m:\n\u001b[0;32m    156\u001b[0m     \u001b[38;5;66;03m# ReLU'(x) = 1 if x > 0, 0 if x <= 0\u001b[39;00m\n\u001b[0;32m    157\u001b[0m     ones \u001b[38;5;241m=\u001b[39m Tensor(np\u001b[38;5;241m.\u001b[39mones_like(\u001b[38;5;28mself\u001b[39m\u001b[38;5;241m.\u001b[39mgrad\u001b[38;5;241m.\u001b[39mdata))\n",
      "File \u001b[1;32m~\\Documents\\A Levels\\Computer Science\\NEA\\smart-planner\\prototype\\autograd.py:121\u001b[0m, in \u001b[0;36mTensor.backward\u001b[1;34m(self, grad, grad_origin)\u001b[0m\n\u001b[0;32m    119\u001b[0m \u001b[38;5;28;01mif\u001b[39;00m \u001b[38;5;28mself\u001b[39m\u001b[38;5;241m.\u001b[39mcreation_op \u001b[38;5;241m==\u001b[39m \u001b[38;5;124m\"\u001b[39m\u001b[38;5;124madd\u001b[39m\u001b[38;5;124m\"\u001b[39m:\n\u001b[0;32m    120\u001b[0m     \u001b[38;5;28mself\u001b[39m\u001b[38;5;241m.\u001b[39mcreators[\u001b[38;5;241m0\u001b[39m]\u001b[38;5;241m.\u001b[39mbackward(\u001b[38;5;28mself\u001b[39m\u001b[38;5;241m.\u001b[39mgrad, \u001b[38;5;28mself\u001b[39m)\n\u001b[1;32m--> 121\u001b[0m     \u001b[38;5;28mself\u001b[39m\u001b[38;5;241m.\u001b[39mcreators[\u001b[38;5;241m1\u001b[39m]\u001b[38;5;241m.\u001b[39mbackward(\u001b[38;5;28mself\u001b[39m\u001b[38;5;241m.\u001b[39mgrad, \u001b[38;5;28mself\u001b[39m)\n\u001b[0;32m    123\u001b[0m \u001b[38;5;28;01mif\u001b[39;00m \u001b[38;5;28mself\u001b[39m\u001b[38;5;241m.\u001b[39mcreation_op \u001b[38;5;241m==\u001b[39m \u001b[38;5;124m\"\u001b[39m\u001b[38;5;124mneg\u001b[39m\u001b[38;5;124m\"\u001b[39m:\n\u001b[0;32m    124\u001b[0m     \u001b[38;5;28mself\u001b[39m\u001b[38;5;241m.\u001b[39mcreators[\u001b[38;5;241m0\u001b[39m]\u001b[38;5;241m.\u001b[39mbackward(\u001b[38;5;28mself\u001b[39m\u001b[38;5;241m.\u001b[39mgrad\u001b[38;5;241m.\u001b[39m\u001b[38;5;21m__neg__\u001b[39m(), \u001b[38;5;28mself\u001b[39m)\n",
      "File \u001b[1;32m~\\Documents\\A Levels\\Computer Science\\NEA\\smart-planner\\prototype\\autograd.py:120\u001b[0m, in \u001b[0;36mTensor.backward\u001b[1;34m(self, grad, grad_origin)\u001b[0m\n\u001b[0;32m    118\u001b[0m \u001b[38;5;28;01mif\u001b[39;00m \u001b[38;5;28mself\u001b[39m\u001b[38;5;241m.\u001b[39mcreators \u001b[38;5;129;01mis\u001b[39;00m \u001b[38;5;129;01mnot\u001b[39;00m \u001b[38;5;28;01mNone\u001b[39;00m \u001b[38;5;129;01mand\u001b[39;00m (\u001b[38;5;28mself\u001b[39m\u001b[38;5;241m.\u001b[39mgrads_accounted_for_all_children() \u001b[38;5;129;01mor\u001b[39;00m grad_origin \u001b[38;5;129;01mis\u001b[39;00m \u001b[38;5;28;01mNone\u001b[39;00m):\n\u001b[0;32m    119\u001b[0m     \u001b[38;5;28;01mif\u001b[39;00m \u001b[38;5;28mself\u001b[39m\u001b[38;5;241m.\u001b[39mcreation_op \u001b[38;5;241m==\u001b[39m \u001b[38;5;124m\"\u001b[39m\u001b[38;5;124madd\u001b[39m\u001b[38;5;124m\"\u001b[39m:\n\u001b[1;32m--> 120\u001b[0m         \u001b[38;5;28mself\u001b[39m\u001b[38;5;241m.\u001b[39mcreators[\u001b[38;5;241m0\u001b[39m]\u001b[38;5;241m.\u001b[39mbackward(\u001b[38;5;28mself\u001b[39m\u001b[38;5;241m.\u001b[39mgrad, \u001b[38;5;28mself\u001b[39m)\n\u001b[0;32m    121\u001b[0m         \u001b[38;5;28mself\u001b[39m\u001b[38;5;241m.\u001b[39mcreators[\u001b[38;5;241m1\u001b[39m]\u001b[38;5;241m.\u001b[39mbackward(\u001b[38;5;28mself\u001b[39m\u001b[38;5;241m.\u001b[39mgrad, \u001b[38;5;28mself\u001b[39m)\n\u001b[0;32m    123\u001b[0m     \u001b[38;5;28;01mif\u001b[39;00m \u001b[38;5;28mself\u001b[39m\u001b[38;5;241m.\u001b[39mcreation_op \u001b[38;5;241m==\u001b[39m \u001b[38;5;124m\"\u001b[39m\u001b[38;5;124mneg\u001b[39m\u001b[38;5;124m\"\u001b[39m:\n",
      "File \u001b[1;32m~\\Documents\\A Levels\\Computer Science\\NEA\\smart-planner\\prototype\\autograd.py:139\u001b[0m, in \u001b[0;36mTensor.backward\u001b[1;34m(self, grad, grad_origin)\u001b[0m\n\u001b[0;32m    137\u001b[0m     new1 \u001b[38;5;241m=\u001b[39m \u001b[38;5;28mself\u001b[39m\u001b[38;5;241m.\u001b[39mgrad \u001b[38;5;241m@\u001b[39m weights\u001b[38;5;241m.\u001b[39mtranspose()\n\u001b[0;32m    138\u001b[0m     new2 \u001b[38;5;241m=\u001b[39m (\u001b[38;5;28mself\u001b[39m\u001b[38;5;241m.\u001b[39mgrad\u001b[38;5;241m.\u001b[39mtranspose() \u001b[38;5;241m@\u001b[39m activation)\u001b[38;5;241m.\u001b[39mtranspose()\n\u001b[1;32m--> 139\u001b[0m     activation\u001b[38;5;241m.\u001b[39mbackward(new1, \u001b[38;5;28mself\u001b[39m)\n\u001b[0;32m    140\u001b[0m     weights\u001b[38;5;241m.\u001b[39mbackward(new2, \u001b[38;5;28mself\u001b[39m)\n\u001b[0;32m    142\u001b[0m \u001b[38;5;28;01mif\u001b[39;00m \u001b[38;5;28mself\u001b[39m\u001b[38;5;241m.\u001b[39mcreation_op \u001b[38;5;241m==\u001b[39m \u001b[38;5;124m\"\u001b[39m\u001b[38;5;124mtranspose\u001b[39m\u001b[38;5;124m\"\u001b[39m:\n",
      "    \u001b[1;31m[... skipping similar frames: Tensor.backward at line 132 (6 times), Tensor.backward at line 153 (6 times), Tensor.backward at line 121 (6 times), Tensor.backward at line 120 (2 times), Tensor.backward at line 139 (2 times)]\u001b[0m\n",
      "File \u001b[1;32m~\\Documents\\A Levels\\Computer Science\\NEA\\smart-planner\\prototype\\autograd.py:120\u001b[0m, in \u001b[0;36mTensor.backward\u001b[1;34m(self, grad, grad_origin)\u001b[0m\n\u001b[0;32m    118\u001b[0m \u001b[38;5;28;01mif\u001b[39;00m \u001b[38;5;28mself\u001b[39m\u001b[38;5;241m.\u001b[39mcreators \u001b[38;5;129;01mis\u001b[39;00m \u001b[38;5;129;01mnot\u001b[39;00m \u001b[38;5;28;01mNone\u001b[39;00m \u001b[38;5;129;01mand\u001b[39;00m (\u001b[38;5;28mself\u001b[39m\u001b[38;5;241m.\u001b[39mgrads_accounted_for_all_children() \u001b[38;5;129;01mor\u001b[39;00m grad_origin \u001b[38;5;129;01mis\u001b[39;00m \u001b[38;5;28;01mNone\u001b[39;00m):\n\u001b[0;32m    119\u001b[0m     \u001b[38;5;28;01mif\u001b[39;00m \u001b[38;5;28mself\u001b[39m\u001b[38;5;241m.\u001b[39mcreation_op \u001b[38;5;241m==\u001b[39m \u001b[38;5;124m\"\u001b[39m\u001b[38;5;124madd\u001b[39m\u001b[38;5;124m\"\u001b[39m:\n\u001b[1;32m--> 120\u001b[0m         \u001b[38;5;28mself\u001b[39m\u001b[38;5;241m.\u001b[39mcreators[\u001b[38;5;241m0\u001b[39m]\u001b[38;5;241m.\u001b[39mbackward(\u001b[38;5;28mself\u001b[39m\u001b[38;5;241m.\u001b[39mgrad, \u001b[38;5;28mself\u001b[39m)\n\u001b[0;32m    121\u001b[0m         \u001b[38;5;28mself\u001b[39m\u001b[38;5;241m.\u001b[39mcreators[\u001b[38;5;241m1\u001b[39m]\u001b[38;5;241m.\u001b[39mbackward(\u001b[38;5;28mself\u001b[39m\u001b[38;5;241m.\u001b[39mgrad, \u001b[38;5;28mself\u001b[39m)\n\u001b[0;32m    123\u001b[0m     \u001b[38;5;28;01mif\u001b[39;00m \u001b[38;5;28mself\u001b[39m\u001b[38;5;241m.\u001b[39mcreation_op \u001b[38;5;241m==\u001b[39m \u001b[38;5;124m\"\u001b[39m\u001b[38;5;124mneg\u001b[39m\u001b[38;5;124m\"\u001b[39m:\n",
      "File \u001b[1;32m~\\Documents\\A Levels\\Computer Science\\NEA\\smart-planner\\prototype\\autograd.py:139\u001b[0m, in \u001b[0;36mTensor.backward\u001b[1;34m(self, grad, grad_origin)\u001b[0m\n\u001b[0;32m    137\u001b[0m     new1 \u001b[38;5;241m=\u001b[39m \u001b[38;5;28mself\u001b[39m\u001b[38;5;241m.\u001b[39mgrad \u001b[38;5;241m@\u001b[39m weights\u001b[38;5;241m.\u001b[39mtranspose()\n\u001b[0;32m    138\u001b[0m     new2 \u001b[38;5;241m=\u001b[39m (\u001b[38;5;28mself\u001b[39m\u001b[38;5;241m.\u001b[39mgrad\u001b[38;5;241m.\u001b[39mtranspose() \u001b[38;5;241m@\u001b[39m activation)\u001b[38;5;241m.\u001b[39mtranspose()\n\u001b[1;32m--> 139\u001b[0m     activation\u001b[38;5;241m.\u001b[39mbackward(new1, \u001b[38;5;28mself\u001b[39m)\n\u001b[0;32m    140\u001b[0m     weights\u001b[38;5;241m.\u001b[39mbackward(new2, \u001b[38;5;28mself\u001b[39m)\n\u001b[0;32m    142\u001b[0m \u001b[38;5;28;01mif\u001b[39;00m \u001b[38;5;28mself\u001b[39m\u001b[38;5;241m.\u001b[39mcreation_op \u001b[38;5;241m==\u001b[39m \u001b[38;5;124m\"\u001b[39m\u001b[38;5;124mtranspose\u001b[39m\u001b[38;5;124m\"\u001b[39m:\n",
      "File \u001b[1;32m~\\Documents\\A Levels\\Computer Science\\NEA\\smart-planner\\prototype\\autograd.py:132\u001b[0m, in \u001b[0;36mTensor.backward\u001b[1;34m(self, grad, grad_origin)\u001b[0m\n\u001b[0;32m    130\u001b[0m \u001b[38;5;28;01mif\u001b[39;00m \u001b[38;5;28mself\u001b[39m\u001b[38;5;241m.\u001b[39mcreation_op \u001b[38;5;241m==\u001b[39m \u001b[38;5;124m\"\u001b[39m\u001b[38;5;124mmul\u001b[39m\u001b[38;5;124m\"\u001b[39m:\n\u001b[0;32m    131\u001b[0m     \u001b[38;5;28mself\u001b[39m\u001b[38;5;241m.\u001b[39mcreators[\u001b[38;5;241m0\u001b[39m]\u001b[38;5;241m.\u001b[39mbackward(\u001b[38;5;28mself\u001b[39m\u001b[38;5;241m.\u001b[39mgrad \u001b[38;5;241m*\u001b[39m \u001b[38;5;28mself\u001b[39m\u001b[38;5;241m.\u001b[39mcreators[\u001b[38;5;241m1\u001b[39m], \u001b[38;5;28mself\u001b[39m)\n\u001b[1;32m--> 132\u001b[0m     \u001b[38;5;28mself\u001b[39m\u001b[38;5;241m.\u001b[39mcreators[\u001b[38;5;241m1\u001b[39m]\u001b[38;5;241m.\u001b[39mbackward(\u001b[38;5;28mself\u001b[39m\u001b[38;5;241m.\u001b[39mgrad \u001b[38;5;241m*\u001b[39m \u001b[38;5;28mself\u001b[39m\u001b[38;5;241m.\u001b[39mcreators[\u001b[38;5;241m0\u001b[39m], \u001b[38;5;28mself\u001b[39m)\n\u001b[0;32m    134\u001b[0m \u001b[38;5;28;01mif\u001b[39;00m \u001b[38;5;28mself\u001b[39m\u001b[38;5;241m.\u001b[39mcreation_op \u001b[38;5;241m==\u001b[39m \u001b[38;5;124m\"\u001b[39m\u001b[38;5;124mmatmul\u001b[39m\u001b[38;5;124m\"\u001b[39m:\n\u001b[0;32m    135\u001b[0m     activation \u001b[38;5;241m=\u001b[39m \u001b[38;5;28mself\u001b[39m\u001b[38;5;241m.\u001b[39mcreators[\u001b[38;5;241m0\u001b[39m]\n",
      "File \u001b[1;32m~\\Documents\\A Levels\\Computer Science\\NEA\\smart-planner\\prototype\\autograd.py:153\u001b[0m, in \u001b[0;36mTensor.backward\u001b[1;34m(self, grad, grad_origin)\u001b[0m\n\u001b[0;32m    150\u001b[0m \u001b[38;5;28;01mif\u001b[39;00m \u001b[38;5;28mself\u001b[39m\u001b[38;5;241m.\u001b[39mcreation_op \u001b[38;5;241m==\u001b[39m \u001b[38;5;124m\"\u001b[39m\u001b[38;5;124mtanh\u001b[39m\u001b[38;5;124m\"\u001b[39m:\n\u001b[0;32m    151\u001b[0m     \u001b[38;5;66;03m# tanh'(x) = 1 - tanh(x) ** 2\u001b[39;00m\n\u001b[0;32m    152\u001b[0m     ones \u001b[38;5;241m=\u001b[39m Tensor(np\u001b[38;5;241m.\u001b[39mones_like(\u001b[38;5;28mself\u001b[39m\u001b[38;5;241m.\u001b[39mgrad\u001b[38;5;241m.\u001b[39mdata))\n\u001b[1;32m--> 153\u001b[0m     \u001b[38;5;28mself\u001b[39m\u001b[38;5;241m.\u001b[39mcreators[\u001b[38;5;241m0\u001b[39m]\u001b[38;5;241m.\u001b[39mbackward(\u001b[38;5;28mself\u001b[39m\u001b[38;5;241m.\u001b[39mgrad \u001b[38;5;241m*\u001b[39m (ones \u001b[38;5;241m-\u001b[39m \u001b[38;5;28mself\u001b[39m \u001b[38;5;241m*\u001b[39m \u001b[38;5;28mself\u001b[39m), \u001b[38;5;28mself\u001b[39m)\n\u001b[0;32m    155\u001b[0m \u001b[38;5;28;01mif\u001b[39;00m \u001b[38;5;28mself\u001b[39m\u001b[38;5;241m.\u001b[39mcreation_op \u001b[38;5;241m==\u001b[39m \u001b[38;5;124m\"\u001b[39m\u001b[38;5;124mrelu\u001b[39m\u001b[38;5;124m\"\u001b[39m:\n\u001b[0;32m    156\u001b[0m     \u001b[38;5;66;03m# ReLU'(x) = 1 if x > 0, 0 if x <= 0\u001b[39;00m\n\u001b[0;32m    157\u001b[0m     ones \u001b[38;5;241m=\u001b[39m Tensor(np\u001b[38;5;241m.\u001b[39mones_like(\u001b[38;5;28mself\u001b[39m\u001b[38;5;241m.\u001b[39mgrad\u001b[38;5;241m.\u001b[39mdata))\n",
      "File \u001b[1;32m~\\Documents\\A Levels\\Computer Science\\NEA\\smart-planner\\prototype\\autograd.py:121\u001b[0m, in \u001b[0;36mTensor.backward\u001b[1;34m(self, grad, grad_origin)\u001b[0m\n\u001b[0;32m    119\u001b[0m \u001b[38;5;28;01mif\u001b[39;00m \u001b[38;5;28mself\u001b[39m\u001b[38;5;241m.\u001b[39mcreation_op \u001b[38;5;241m==\u001b[39m \u001b[38;5;124m\"\u001b[39m\u001b[38;5;124madd\u001b[39m\u001b[38;5;124m\"\u001b[39m:\n\u001b[0;32m    120\u001b[0m     \u001b[38;5;28mself\u001b[39m\u001b[38;5;241m.\u001b[39mcreators[\u001b[38;5;241m0\u001b[39m]\u001b[38;5;241m.\u001b[39mbackward(\u001b[38;5;28mself\u001b[39m\u001b[38;5;241m.\u001b[39mgrad, \u001b[38;5;28mself\u001b[39m)\n\u001b[1;32m--> 121\u001b[0m     \u001b[38;5;28mself\u001b[39m\u001b[38;5;241m.\u001b[39mcreators[\u001b[38;5;241m1\u001b[39m]\u001b[38;5;241m.\u001b[39mbackward(\u001b[38;5;28mself\u001b[39m\u001b[38;5;241m.\u001b[39mgrad, \u001b[38;5;28mself\u001b[39m)\n\u001b[0;32m    123\u001b[0m \u001b[38;5;28;01mif\u001b[39;00m \u001b[38;5;28mself\u001b[39m\u001b[38;5;241m.\u001b[39mcreation_op \u001b[38;5;241m==\u001b[39m \u001b[38;5;124m\"\u001b[39m\u001b[38;5;124mneg\u001b[39m\u001b[38;5;124m\"\u001b[39m:\n\u001b[0;32m    124\u001b[0m     \u001b[38;5;28mself\u001b[39m\u001b[38;5;241m.\u001b[39mcreators[\u001b[38;5;241m0\u001b[39m]\u001b[38;5;241m.\u001b[39mbackward(\u001b[38;5;28mself\u001b[39m\u001b[38;5;241m.\u001b[39mgrad\u001b[38;5;241m.\u001b[39m\u001b[38;5;21m__neg__\u001b[39m(), \u001b[38;5;28mself\u001b[39m)\n",
      "File \u001b[1;32m~\\Documents\\A Levels\\Computer Science\\NEA\\smart-planner\\prototype\\autograd.py:131\u001b[0m, in \u001b[0;36mTensor.backward\u001b[1;34m(self, grad, grad_origin)\u001b[0m\n\u001b[0;32m    128\u001b[0m     \u001b[38;5;28mself\u001b[39m\u001b[38;5;241m.\u001b[39mcreators[\u001b[38;5;241m1\u001b[39m]\u001b[38;5;241m.\u001b[39mbackward(\u001b[38;5;28mself\u001b[39m\u001b[38;5;241m.\u001b[39mgrad\u001b[38;5;241m.\u001b[39m\u001b[38;5;21m__neg__\u001b[39m(), \u001b[38;5;28mself\u001b[39m)\n\u001b[0;32m    130\u001b[0m \u001b[38;5;28;01mif\u001b[39;00m \u001b[38;5;28mself\u001b[39m\u001b[38;5;241m.\u001b[39mcreation_op \u001b[38;5;241m==\u001b[39m \u001b[38;5;124m\"\u001b[39m\u001b[38;5;124mmul\u001b[39m\u001b[38;5;124m\"\u001b[39m:\n\u001b[1;32m--> 131\u001b[0m     \u001b[38;5;28mself\u001b[39m\u001b[38;5;241m.\u001b[39mcreators[\u001b[38;5;241m0\u001b[39m]\u001b[38;5;241m.\u001b[39mbackward(\u001b[38;5;28mself\u001b[39m\u001b[38;5;241m.\u001b[39mgrad \u001b[38;5;241m*\u001b[39m \u001b[38;5;28mself\u001b[39m\u001b[38;5;241m.\u001b[39mcreators[\u001b[38;5;241m1\u001b[39m], \u001b[38;5;28mself\u001b[39m)\n\u001b[0;32m    132\u001b[0m     \u001b[38;5;28mself\u001b[39m\u001b[38;5;241m.\u001b[39mcreators[\u001b[38;5;241m1\u001b[39m]\u001b[38;5;241m.\u001b[39mbackward(\u001b[38;5;28mself\u001b[39m\u001b[38;5;241m.\u001b[39mgrad \u001b[38;5;241m*\u001b[39m \u001b[38;5;28mself\u001b[39m\u001b[38;5;241m.\u001b[39mcreators[\u001b[38;5;241m0\u001b[39m], \u001b[38;5;28mself\u001b[39m)\n\u001b[0;32m    134\u001b[0m \u001b[38;5;28;01mif\u001b[39;00m \u001b[38;5;28mself\u001b[39m\u001b[38;5;241m.\u001b[39mcreation_op \u001b[38;5;241m==\u001b[39m \u001b[38;5;124m\"\u001b[39m\u001b[38;5;124mmatmul\u001b[39m\u001b[38;5;124m\"\u001b[39m:\n",
      "File \u001b[1;32m~\\Documents\\A Levels\\Computer Science\\NEA\\smart-planner\\prototype\\autograd.py:148\u001b[0m, in \u001b[0;36mTensor.backward\u001b[1;34m(self, grad, grad_origin)\u001b[0m\n\u001b[0;32m    145\u001b[0m \u001b[38;5;28;01mif\u001b[39;00m \u001b[38;5;28mself\u001b[39m\u001b[38;5;241m.\u001b[39mcreation_op \u001b[38;5;241m==\u001b[39m \u001b[38;5;124m\"\u001b[39m\u001b[38;5;124msigmoid\u001b[39m\u001b[38;5;124m\"\u001b[39m:\n\u001b[0;32m    146\u001b[0m     \u001b[38;5;66;03m# σ'(x) = σ(x) * (1 - σ(x))\u001b[39;00m\n\u001b[0;32m    147\u001b[0m     ones \u001b[38;5;241m=\u001b[39m Tensor(np\u001b[38;5;241m.\u001b[39mones_like(\u001b[38;5;28mself\u001b[39m\u001b[38;5;241m.\u001b[39mgrad\u001b[38;5;241m.\u001b[39mdata))\n\u001b[1;32m--> 148\u001b[0m     \u001b[38;5;28mself\u001b[39m\u001b[38;5;241m.\u001b[39mcreators[\u001b[38;5;241m0\u001b[39m]\u001b[38;5;241m.\u001b[39mbackward(\u001b[38;5;28mself\u001b[39m\u001b[38;5;241m.\u001b[39mgrad \u001b[38;5;241m*\u001b[39m (\u001b[38;5;28mself\u001b[39m \u001b[38;5;241m*\u001b[39m (ones \u001b[38;5;241m-\u001b[39m \u001b[38;5;28mself\u001b[39m)), \u001b[38;5;28mself\u001b[39m)\n\u001b[0;32m    150\u001b[0m \u001b[38;5;28;01mif\u001b[39;00m \u001b[38;5;28mself\u001b[39m\u001b[38;5;241m.\u001b[39mcreation_op \u001b[38;5;241m==\u001b[39m \u001b[38;5;124m\"\u001b[39m\u001b[38;5;124mtanh\u001b[39m\u001b[38;5;124m\"\u001b[39m:\n\u001b[0;32m    151\u001b[0m     \u001b[38;5;66;03m# tanh'(x) = 1 - tanh(x) ** 2\u001b[39;00m\n\u001b[0;32m    152\u001b[0m     ones \u001b[38;5;241m=\u001b[39m Tensor(np\u001b[38;5;241m.\u001b[39mones_like(\u001b[38;5;28mself\u001b[39m\u001b[38;5;241m.\u001b[39mgrad\u001b[38;5;241m.\u001b[39mdata))\n",
      "File \u001b[1;32m~\\Documents\\A Levels\\Computer Science\\NEA\\smart-planner\\prototype\\autograd.py:120\u001b[0m, in \u001b[0;36mTensor.backward\u001b[1;34m(self, grad, grad_origin)\u001b[0m\n\u001b[0;32m    118\u001b[0m \u001b[38;5;28;01mif\u001b[39;00m \u001b[38;5;28mself\u001b[39m\u001b[38;5;241m.\u001b[39mcreators \u001b[38;5;129;01mis\u001b[39;00m \u001b[38;5;129;01mnot\u001b[39;00m \u001b[38;5;28;01mNone\u001b[39;00m \u001b[38;5;129;01mand\u001b[39;00m (\u001b[38;5;28mself\u001b[39m\u001b[38;5;241m.\u001b[39mgrads_accounted_for_all_children() \u001b[38;5;129;01mor\u001b[39;00m grad_origin \u001b[38;5;129;01mis\u001b[39;00m \u001b[38;5;28;01mNone\u001b[39;00m):\n\u001b[0;32m    119\u001b[0m     \u001b[38;5;28;01mif\u001b[39;00m \u001b[38;5;28mself\u001b[39m\u001b[38;5;241m.\u001b[39mcreation_op \u001b[38;5;241m==\u001b[39m \u001b[38;5;124m\"\u001b[39m\u001b[38;5;124madd\u001b[39m\u001b[38;5;124m\"\u001b[39m:\n\u001b[1;32m--> 120\u001b[0m         \u001b[38;5;28mself\u001b[39m\u001b[38;5;241m.\u001b[39mcreators[\u001b[38;5;241m0\u001b[39m]\u001b[38;5;241m.\u001b[39mbackward(\u001b[38;5;28mself\u001b[39m\u001b[38;5;241m.\u001b[39mgrad, \u001b[38;5;28mself\u001b[39m)\n\u001b[0;32m    121\u001b[0m         \u001b[38;5;28mself\u001b[39m\u001b[38;5;241m.\u001b[39mcreators[\u001b[38;5;241m1\u001b[39m]\u001b[38;5;241m.\u001b[39mbackward(\u001b[38;5;28mself\u001b[39m\u001b[38;5;241m.\u001b[39mgrad, \u001b[38;5;28mself\u001b[39m)\n\u001b[0;32m    123\u001b[0m     \u001b[38;5;28;01mif\u001b[39;00m \u001b[38;5;28mself\u001b[39m\u001b[38;5;241m.\u001b[39mcreation_op \u001b[38;5;241m==\u001b[39m \u001b[38;5;124m\"\u001b[39m\u001b[38;5;124mneg\u001b[39m\u001b[38;5;124m\"\u001b[39m:\n",
      "File \u001b[1;32m~\\Documents\\A Levels\\Computer Science\\NEA\\smart-planner\\prototype\\autograd.py:120\u001b[0m, in \u001b[0;36mTensor.backward\u001b[1;34m(self, grad, grad_origin)\u001b[0m\n\u001b[0;32m    118\u001b[0m \u001b[38;5;28;01mif\u001b[39;00m \u001b[38;5;28mself\u001b[39m\u001b[38;5;241m.\u001b[39mcreators \u001b[38;5;129;01mis\u001b[39;00m \u001b[38;5;129;01mnot\u001b[39;00m \u001b[38;5;28;01mNone\u001b[39;00m \u001b[38;5;129;01mand\u001b[39;00m (\u001b[38;5;28mself\u001b[39m\u001b[38;5;241m.\u001b[39mgrads_accounted_for_all_children() \u001b[38;5;129;01mor\u001b[39;00m grad_origin \u001b[38;5;129;01mis\u001b[39;00m \u001b[38;5;28;01mNone\u001b[39;00m):\n\u001b[0;32m    119\u001b[0m     \u001b[38;5;28;01mif\u001b[39;00m \u001b[38;5;28mself\u001b[39m\u001b[38;5;241m.\u001b[39mcreation_op \u001b[38;5;241m==\u001b[39m \u001b[38;5;124m\"\u001b[39m\u001b[38;5;124madd\u001b[39m\u001b[38;5;124m\"\u001b[39m:\n\u001b[1;32m--> 120\u001b[0m         \u001b[38;5;28mself\u001b[39m\u001b[38;5;241m.\u001b[39mcreators[\u001b[38;5;241m0\u001b[39m]\u001b[38;5;241m.\u001b[39mbackward(\u001b[38;5;28mself\u001b[39m\u001b[38;5;241m.\u001b[39mgrad, \u001b[38;5;28mself\u001b[39m)\n\u001b[0;32m    121\u001b[0m         \u001b[38;5;28mself\u001b[39m\u001b[38;5;241m.\u001b[39mcreators[\u001b[38;5;241m1\u001b[39m]\u001b[38;5;241m.\u001b[39mbackward(\u001b[38;5;28mself\u001b[39m\u001b[38;5;241m.\u001b[39mgrad, \u001b[38;5;28mself\u001b[39m)\n\u001b[0;32m    123\u001b[0m     \u001b[38;5;28;01mif\u001b[39;00m \u001b[38;5;28mself\u001b[39m\u001b[38;5;241m.\u001b[39mcreation_op \u001b[38;5;241m==\u001b[39m \u001b[38;5;124m\"\u001b[39m\u001b[38;5;124mneg\u001b[39m\u001b[38;5;124m\"\u001b[39m:\n",
      "File \u001b[1;32m~\\Documents\\A Levels\\Computer Science\\NEA\\smart-planner\\prototype\\autograd.py:137\u001b[0m, in \u001b[0;36mTensor.backward\u001b[1;34m(self, grad, grad_origin)\u001b[0m\n\u001b[0;32m    135\u001b[0m activation \u001b[38;5;241m=\u001b[39m \u001b[38;5;28mself\u001b[39m\u001b[38;5;241m.\u001b[39mcreators[\u001b[38;5;241m0\u001b[39m]\n\u001b[0;32m    136\u001b[0m weights \u001b[38;5;241m=\u001b[39m \u001b[38;5;28mself\u001b[39m\u001b[38;5;241m.\u001b[39mcreators[\u001b[38;5;241m1\u001b[39m]\n\u001b[1;32m--> 137\u001b[0m new1 \u001b[38;5;241m=\u001b[39m \u001b[38;5;28mself\u001b[39m\u001b[38;5;241m.\u001b[39mgrad \u001b[38;5;241m@\u001b[39m weights\u001b[38;5;241m.\u001b[39mtranspose()\n\u001b[0;32m    138\u001b[0m new2 \u001b[38;5;241m=\u001b[39m (\u001b[38;5;28mself\u001b[39m\u001b[38;5;241m.\u001b[39mgrad\u001b[38;5;241m.\u001b[39mtranspose() \u001b[38;5;241m@\u001b[39m activation)\u001b[38;5;241m.\u001b[39mtranspose()\n\u001b[0;32m    139\u001b[0m activation\u001b[38;5;241m.\u001b[39mbackward(new1, \u001b[38;5;28mself\u001b[39m)\n",
      "File \u001b[1;32m~\\Documents\\A Levels\\Computer Science\\NEA\\smart-planner\\prototype\\autograd.py:338\u001b[0m, in \u001b[0;36mTensor.transpose\u001b[1;34m(self)\u001b[0m\n\u001b[0;32m    329\u001b[0m \u001b[38;5;250m\u001b[39m\u001b[38;5;124;03m\"\"\"\u001b[39;00m\n\u001b[0;32m    330\u001b[0m \u001b[38;5;124;03mTransposes the tensor.\u001b[39;00m\n\u001b[0;32m    331\u001b[0m \n\u001b[1;32m   (...)\u001b[0m\n\u001b[0;32m    335\u001b[0m \u001b[38;5;124;03m    The transposed tensor.\u001b[39;00m\n\u001b[0;32m    336\u001b[0m \u001b[38;5;124;03m\"\"\"\u001b[39;00m\n\u001b[0;32m    337\u001b[0m \u001b[38;5;28;01mif\u001b[39;00m \u001b[38;5;28mself\u001b[39m\u001b[38;5;241m.\u001b[39mautograd:\n\u001b[1;32m--> 338\u001b[0m     \u001b[38;5;28;01mreturn\u001b[39;00m Tensor(\u001b[38;5;28mself\u001b[39m\u001b[38;5;241m.\u001b[39mdata\u001b[38;5;241m.\u001b[39mtranspose(), autograd\u001b[38;5;241m=\u001b[39m\u001b[38;5;28;01mTrue\u001b[39;00m, creators\u001b[38;5;241m=\u001b[39m[\u001b[38;5;28mself\u001b[39m], creation_op\u001b[38;5;241m=\u001b[39m\u001b[38;5;124m\"\u001b[39m\u001b[38;5;124mtranspose\u001b[39m\u001b[38;5;124m\"\u001b[39m)\n\u001b[0;32m    339\u001b[0m \u001b[38;5;28;01mreturn\u001b[39;00m Tensor(\u001b[38;5;28mself\u001b[39m\u001b[38;5;241m.\u001b[39mdata\u001b[38;5;241m.\u001b[39mtranspose())\n",
      "File \u001b[1;32m~\\Documents\\A Levels\\Computer Science\\NEA\\smart-planner\\prototype\\autograd.py:36\u001b[0m, in \u001b[0;36mTensor.__init__\u001b[1;34m(self, data, autograd, creators, creation_op, id)\u001b[0m\n\u001b[0;32m     35\u001b[0m \u001b[38;5;28;01mdef\u001b[39;00m \u001b[38;5;21m__init__\u001b[39m(\u001b[38;5;28mself\u001b[39m, data, autograd\u001b[38;5;241m=\u001b[39m\u001b[38;5;28;01mFalse\u001b[39;00m, creators: \u001b[38;5;28mlist\u001b[39m[Tensor] \u001b[38;5;241m=\u001b[39m \u001b[38;5;28;01mNone\u001b[39;00m, creation_op: \u001b[38;5;28mstr\u001b[39m \u001b[38;5;241m=\u001b[39m \u001b[38;5;28;01mNone\u001b[39;00m, \u001b[38;5;28mid\u001b[39m: \u001b[38;5;28mint\u001b[39m \u001b[38;5;241m=\u001b[39m \u001b[38;5;28;01mNone\u001b[39;00m) \u001b[38;5;241m-\u001b[39m\u001b[38;5;241m>\u001b[39m \u001b[38;5;28;01mNone\u001b[39;00m:\n\u001b[1;32m---> 36\u001b[0m     \u001b[38;5;28mself\u001b[39m\u001b[38;5;241m.\u001b[39mdata \u001b[38;5;241m=\u001b[39m np\u001b[38;5;241m.\u001b[39marray(data)\n\u001b[0;32m     37\u001b[0m     \u001b[38;5;28mself\u001b[39m\u001b[38;5;241m.\u001b[39mcreators \u001b[38;5;241m=\u001b[39m creators\n\u001b[0;32m     38\u001b[0m     \u001b[38;5;28mself\u001b[39m\u001b[38;5;241m.\u001b[39mcreation_op \u001b[38;5;241m=\u001b[39m creation_op\n",
      "\u001b[1;31mKeyboardInterrupt\u001b[0m: "
     ]
    }
   ],
   "source": [
    "min_loss = 1000\n",
    "iterations = 10\n",
    "for iteration in range(iterations):\n",
    "    total_loss = 0\n",
    "    \n",
    "    hidden = model.init_hidden(batch_size=1)\n",
    "    \n",
    "    for task_i in range(len(X_train)):\n",
    "        hidden = model.init_hidden(batch_size=1)\n",
    "        \n",
    "        for t in range(len(X_train[task_i])):\n",
    "            input = Tensor([X_train[task_i][t]], autograd=True)\n",
    "            rnn_input = embedding.forward(input=input)\n",
    "            hidden = model.forward(input=rnn_input, hidden=hidden)\n",
    "        \n",
    "        output = output_layer.forward(hidden[0])\n",
    "        target = Tensor(y_train[task_i], autograd=True)\n",
    "        loss = criterion.forward(output, target)\n",
    "        loss.backward()\n",
    "        optimiser.step()\n",
    "        \n",
    "        total_loss += loss.data / len(X_train[task_i])\n",
    "        epoch_loss = np.exp(total_loss / (task_i + 1))\n",
    "        \n",
    "        if epoch_loss < min_loss:\n",
    "            min_loss = epoch_loss\n",
    "            print()\n",
    "        \n",
    "        print(f\"Iter: {iteration} - Alpha: {str(optimiser.alpha)[:5]} - Example {task_i + 1}/{len(X_train)} - Min Loss: {str(min_loss)[:5]} - Loss: {epoch_loss}\", end='\\r')\n",
    "    optimiser.alpha *= 0.99"
   ]
  },
  {
   "cell_type": "code",
   "execution_count": 16,
   "id": "08cd0cf4",
   "metadata": {},
   "outputs": [],
   "source": [
    "def predict(task_indices):\n",
    "    hidden = model.init_hidden(batch_size=1)\n",
    "    for t in range(len(task_indices)):\n",
    "        input = Tensor([task_indices[t]], autograd=True)\n",
    "        rnn_input = embedding.forward(input=input)\n",
    "        hidden = model.forward(input=rnn_input, hidden=hidden)\n",
    "    output = output_layer.forward(hidden[0])\n",
    "    \n",
    "    return output"
   ]
  },
  {
   "cell_type": "code",
   "execution_count": 17,
   "id": "fba0be0f",
   "metadata": {},
   "outputs": [
    {
     "name": "stdout",
     "output_type": "stream",
     "text": [
      "Task 200/200 - Loss: [6.42183281]]\n",
      "[1.20739589]\n"
     ]
    }
   ],
   "source": [
    "for task_i in range(len(X_test)):\n",
    "    output = predict(X_test[task_i])\n",
    "    target = Tensor(np.array(y_test)[task_i], autograd=True)\n",
    "    loss = criterion.forward(output, target)\n",
    "    print(f\"Task {task_i + 1}/{len(X_test)} - Loss: {loss.data}\", end='\\r')\n",
    "    total_loss += loss.data / len(X_test[task_i])\n",
    "loss_to_display = np.exp(total_loss / (task_i + 1))\n",
    "print()\n",
    "print(loss_to_display)"
   ]
  },
  {
   "cell_type": "code",
   "execution_count": 18,
   "id": "57fbbf87",
   "metadata": {},
   "outputs": [],
   "source": [
    "import pickle as pkl\n",
    "\n",
    "with open(\"importance_embedding.pkl\", \"wb\") as file:\n",
    "    pkl.dump(embedding, file)\n",
    "\n",
    "with open(\"importance_model.pkl\", \"wb\") as file:\n",
    "    pkl.dump(model, file)\n",
    "\n",
    "with open(\"importance_output.pkl\", \"wb\") as file:\n",
    "    pkl.dump(output_layer, file)\n",
    "\n",
    "with open(\"word2index.pkl\", \"wb\") as file:\n",
    "    pkl.dump(word2index, file)"
   ]
  },
  {
   "cell_type": "code",
   "execution_count": 69,
   "id": "2bf352be",
   "metadata": {},
   "outputs": [
    {
     "name": "stdout",
     "output_type": "stream",
     "text": [
      "[[6.73039372]]\n"
     ]
    }
   ],
   "source": [
    "text = \"\"\n",
    "\n",
    "print(predict([word2index[token] for token in text.split(' ') if token in word2index.keys()]))"
   ]
  },
  {
   "cell_type": "code",
   "execution_count": null,
   "id": "5ea18d27",
   "metadata": {},
   "outputs": [],
   "source": []
  }
 ],
 "metadata": {
  "kernelspec": {
   "display_name": "Python 3 (ipykernel)",
   "language": "python",
   "name": "python3"
  },
  "language_info": {
   "codemirror_mode": {
    "name": "ipython",
    "version": 3
   },
   "file_extension": ".py",
   "mimetype": "text/x-python",
   "name": "python",
   "nbconvert_exporter": "python",
   "pygments_lexer": "ipython3",
   "version": "3.11.5"
  }
 },
 "nbformat": 4,
 "nbformat_minor": 5
}
