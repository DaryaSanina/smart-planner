{
 "cells": [
  {
   "cell_type": "code",
   "execution_count": 1,
   "id": "4ff44953",
   "metadata": {},
   "outputs": [],
   "source": [
    "import numpy as np\n",
    "import pandas as pd\n",
    "import matplotlib.pyplot as plt\n",
    "from neural_networks import Sequential\n",
    "from layers import Dense\n",
    "from errors import MeanSquaredError\n",
    "from utils import BagOfWords, preprocess_data, get_batches"
   ]
  },
  {
   "cell_type": "code",
   "execution_count": 2,
   "id": "2ba1a6ae",
   "metadata": {},
   "outputs": [
    {
     "data": {
      "text/html": [
       "<div>\n",
       "<style scoped>\n",
       "    .dataframe tbody tr th:only-of-type {\n",
       "        vertical-align: middle;\n",
       "    }\n",
       "\n",
       "    .dataframe tbody tr th {\n",
       "        vertical-align: top;\n",
       "    }\n",
       "\n",
       "    .dataframe thead th {\n",
       "        text-align: right;\n",
       "    }\n",
       "</style>\n",
       "<table border=\"1\" class=\"dataframe\">\n",
       "  <thead>\n",
       "    <tr style=\"text-align: right;\">\n",
       "      <th></th>\n",
       "      <th>Unnamed: 0</th>\n",
       "      <th>Task</th>\n",
       "      <th>Importance</th>\n",
       "      <th>Time to complete (minutes)</th>\n",
       "    </tr>\n",
       "  </thead>\n",
       "  <tbody>\n",
       "    <tr>\n",
       "      <th>0</th>\n",
       "      <td>0</td>\n",
       "      <td>Fix broken appliance</td>\n",
       "      <td>7</td>\n",
       "      <td>60</td>\n",
       "    </tr>\n",
       "    <tr>\n",
       "      <th>1</th>\n",
       "      <td>1</td>\n",
       "      <td>Sort and organize important documents</td>\n",
       "      <td>4</td>\n",
       "      <td>60</td>\n",
       "    </tr>\n",
       "    <tr>\n",
       "      <th>2</th>\n",
       "      <td>2</td>\n",
       "      <td>Plan product launch event</td>\n",
       "      <td>9</td>\n",
       "      <td>120</td>\n",
       "    </tr>\n",
       "    <tr>\n",
       "      <th>3</th>\n",
       "      <td>3</td>\n",
       "      <td>Volunteer at the local shelter</td>\n",
       "      <td>9</td>\n",
       "      <td>120</td>\n",
       "    </tr>\n",
       "    <tr>\n",
       "      <th>4</th>\n",
       "      <td>4</td>\n",
       "      <td>Walk the Dog</td>\n",
       "      <td>3</td>\n",
       "      <td>20</td>\n",
       "    </tr>\n",
       "  </tbody>\n",
       "</table>\n",
       "</div>"
      ],
      "text/plain": [
       "   Unnamed: 0                                   Task  Importance  \\\n",
       "0           0                   Fix broken appliance           7   \n",
       "1           1  Sort and organize important documents           4   \n",
       "2           2              Plan product launch event           9   \n",
       "3           3         Volunteer at the local shelter           9   \n",
       "4           4                           Walk the Dog           3   \n",
       "\n",
       "   Time to complete (minutes)  \n",
       "0                          60  \n",
       "1                          60  \n",
       "2                         120  \n",
       "3                         120  \n",
       "4                          20  "
      ]
     },
     "execution_count": 2,
     "metadata": {},
     "output_type": "execute_result"
    }
   ],
   "source": [
    "df = pd.read_csv(\"dataset.csv\")\n",
    "df.head()"
   ]
  },
  {
   "cell_type": "code",
   "execution_count": 3,
   "id": "028d2ea3",
   "metadata": {},
   "outputs": [
    {
     "name": "stdout",
     "output_type": "stream",
     "text": [
      "(10003, 1564)\n",
      "(10003, 1)\n"
     ]
    }
   ],
   "source": [
    "X = preprocess_data(list(df[\"Task\"]))\n",
    "vocabulary = set()\n",
    "for example in X:\n",
    "    for word in example:\n",
    "        vocabulary.add(word)\n",
    "bag_of_words = BagOfWords(vocabulary=list(vocabulary))\n",
    "X = bag_of_words.encode(X)\n",
    "y = np.asarray(df[\"Time to complete (minutes)\"]).reshape((-1, 1))\n",
    "print(X.shape)\n",
    "print(y.shape)"
   ]
  },
  {
   "cell_type": "code",
   "execution_count": 4,
   "id": "04891fc7",
   "metadata": {},
   "outputs": [
    {
     "name": "stdout",
     "output_type": "stream",
     "text": [
      "(16, 1564)\n"
     ]
    }
   ],
   "source": [
    "X_batches, y_batches = get_batches(X, y, batch_size=16)\n",
    "print(X_batches[0].shape)"
   ]
  },
  {
   "cell_type": "code",
   "execution_count": 5,
   "id": "df7e966c",
   "metadata": {},
   "outputs": [],
   "source": [
    "model = Sequential([\n",
    "    Dense(input_units=X.shape[1], output_units=100, activation='relu'),\n",
    "    Dense(input_units=100, output_units=1, activation='linear')\n",
    "])\n",
    "model.compile(error=MeanSquaredError(), learning_rate=1e-3)"
   ]
  },
  {
   "cell_type": "code",
   "execution_count": null,
   "id": "0c317c78",
   "metadata": {},
   "outputs": [
    {
     "name": "stdout",
     "output_type": "stream",
     "text": [
      "Epoch #0: Cost = 846.0853610364876\n",
      "Epoch #1: Cost = 828.9901334909646\n",
      "Epoch #2: Cost = 619.315275136668\n",
      "Epoch #3: Cost = 553.4531918780696\n",
      "Epoch #4: Cost = 534.6999931951887\n",
      "Epoch #5: Cost = 529.3803282131024\n",
      "Epoch #6: Cost = 527.8811301825299\n",
      "Epoch #7: Cost = 527.4639090576729\n",
      "Epoch #8: Cost = 527.3506629330333\n",
      "Epoch #9: Cost = 527.3214971048156\n",
      "Epoch #10: Cost = 527.3148705890528\n",
      "Epoch #11: Cost = 527.3138899152007\n",
      "Epoch #12: Cost = 527.3140976698913\n",
      "Epoch #13: Cost = 527.3144178935016\n",
      "Epoch #14: Cost = 527.3146488419194\n",
      "Epoch #15: Cost = 527.3147893769483\n",
      "Epoch #16: Cost = 527.3148693817274\n",
      "Epoch #17: Cost = 527.314913543624\n",
      "Epoch #18: Cost = 527.3149375492806\n",
      "Epoch #19: Cost = 527.314950495598\n",
      "Epoch #20: Cost = 527.31495744871\n",
      "Epoch #21: Cost = 527.3149611748561\n",
      "Epoch #22: Cost = 527.3149631693589\n"
     ]
    }
   ],
   "source": [
    "cost_history = model.fit(X_batches, y_batches, epochs=100)"
   ]
  },
  {
   "cell_type": "code",
   "execution_count": null,
   "id": "9b7afb58",
   "metadata": {},
   "outputs": [],
   "source": [
    "plt.plot(cost_history[1:])\n",
    "plt.title(\"Learning curve\")\n",
    "plt.xlabel(\"Epochs\")\n",
    "plt.show()"
   ]
  },
  {
   "cell_type": "code",
   "execution_count": null,
   "id": "904e59b7",
   "metadata": {},
   "outputs": [],
   "source": [
    "import pickle as pkl\n",
    "\n",
    "with open('task_duration_model.pkl', 'wb') as file:\n",
    "    pkl.dump(model, file)"
   ]
  },
  {
   "cell_type": "code",
   "execution_count": null,
   "id": "0cf4dc09",
   "metadata": {},
   "outputs": [],
   "source": []
  }
 ],
 "metadata": {
  "kernelspec": {
   "display_name": "Python 3 (ipykernel)",
   "language": "python",
   "name": "python3"
  },
  "language_info": {
   "codemirror_mode": {
    "name": "ipython",
    "version": 3
   },
   "file_extension": ".py",
   "mimetype": "text/x-python",
   "name": "python",
   "nbconvert_exporter": "python",
   "pygments_lexer": "ipython3",
   "version": "3.11.5"
  }
 },
 "nbformat": 4,
 "nbformat_minor": 5
}
