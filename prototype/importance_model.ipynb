{
 "cells": [
  {
   "cell_type": "code",
   "execution_count": 1,
   "id": "e802d67a",
   "metadata": {},
   "outputs": [
    {
     "data": {
      "text/html": [
       "<div>\n",
       "<style scoped>\n",
       "    .dataframe tbody tr th:only-of-type {\n",
       "        vertical-align: middle;\n",
       "    }\n",
       "\n",
       "    .dataframe tbody tr th {\n",
       "        vertical-align: top;\n",
       "    }\n",
       "\n",
       "    .dataframe thead th {\n",
       "        text-align: right;\n",
       "    }\n",
       "</style>\n",
       "<table border=\"1\" class=\"dataframe\">\n",
       "  <thead>\n",
       "    <tr style=\"text-align: right;\">\n",
       "      <th></th>\n",
       "      <th>Unnamed: 0</th>\n",
       "      <th>Name</th>\n",
       "      <th>Description</th>\n",
       "      <th>Importance</th>\n",
       "    </tr>\n",
       "  </thead>\n",
       "  <tbody>\n",
       "    <tr>\n",
       "      <th>0</th>\n",
       "      <td>0</td>\n",
       "      <td>Yoga Session</td>\n",
       "      <td>Attend the 90-minute yoga session to improve f...</td>\n",
       "      <td>7</td>\n",
       "    </tr>\n",
       "    <tr>\n",
       "      <th>1</th>\n",
       "      <td>1</td>\n",
       "      <td>Update Budget</td>\n",
       "      <td>Review and update the monthly budget. Crucial ...</td>\n",
       "      <td>8</td>\n",
       "    </tr>\n",
       "    <tr>\n",
       "      <th>2</th>\n",
       "      <td>2</td>\n",
       "      <td>Watch Webinar</td>\n",
       "      <td>Attend a live webinar on digital marketing str...</td>\n",
       "      <td>4</td>\n",
       "    </tr>\n",
       "    <tr>\n",
       "      <th>3</th>\n",
       "      <td>3</td>\n",
       "      <td>Water Plants</td>\n",
       "      <td>Watering indoor plants to keep them alive. Imp...</td>\n",
       "      <td>7</td>\n",
       "    </tr>\n",
       "    <tr>\n",
       "      <th>4</th>\n",
       "      <td>4</td>\n",
       "      <td>Schedule Doctor’s Appointment</td>\n",
       "      <td>Scheduling an appointment for a routine health...</td>\n",
       "      <td>8</td>\n",
       "    </tr>\n",
       "  </tbody>\n",
       "</table>\n",
       "</div>"
      ],
      "text/plain": [
       "   Unnamed: 0                           Name  \\\n",
       "0           0                   Yoga Session   \n",
       "1           1                  Update Budget   \n",
       "2           2                  Watch Webinar   \n",
       "3           3                   Water Plants   \n",
       "4           4  Schedule Doctor’s Appointment   \n",
       "\n",
       "                                         Description  Importance  \n",
       "0  Attend the 90-minute yoga session to improve f...           7  \n",
       "1  Review and update the monthly budget. Crucial ...           8  \n",
       "2  Attend a live webinar on digital marketing str...           4  \n",
       "3  Watering indoor plants to keep them alive. Imp...           7  \n",
       "4  Scheduling an appointment for a routine health...           8  "
      ]
     },
     "execution_count": 1,
     "metadata": {},
     "output_type": "execute_result"
    }
   ],
   "source": [
    "import pandas as pd\n",
    "\n",
    "dataframe = pd.read_csv('dataset.csv')\n",
    "dataframe.head()"
   ]
  },
  {
   "cell_type": "code",
   "execution_count": 2,
   "id": "953322ca",
   "metadata": {},
   "outputs": [
    {
     "name": "stdout",
     "output_type": "stream",
     "text": [
      "1000\n"
     ]
    }
   ],
   "source": [
    "task_names = dataframe[\"Name\"]\n",
    "task_descriptions = dataframe[\"Description\"]\n",
    "importances = dataframe[\"Importance\"]\n",
    "print(len(task_names))"
   ]
  },
  {
   "cell_type": "code",
   "execution_count": 3,
   "id": "20124e5f",
   "metadata": {},
   "outputs": [
    {
     "name": "stdout",
     "output_type": "stream",
     "text": [
      "['yoga session attend the 90-minute yoga session to improve flexibility and reduce stress. important for well-being.', 'update budget review and update the monthly budget. crucial for financial health and planning.']\n"
     ]
    }
   ],
   "source": [
    "concatenated = [task_names[i].lower() + \" \" + task_descriptions[i].lower() for i in range(len(task_names))]\n",
    "print(concatenated[:2])"
   ]
  },
  {
   "cell_type": "code",
   "execution_count": 4,
   "id": "5c6ff4fd",
   "metadata": {},
   "outputs": [
    {
     "name": "stdout",
     "output_type": "stream",
     "text": [
      "['yoga session attend the 90 minute yoga session to improve flexibility and reduce stress  important for well being ', 'update budget review and update the monthly budget  crucial for financial health and planning ']\n"
     ]
    }
   ],
   "source": [
    "alphanumeric = []\n",
    "for task in concatenated:\n",
    "    new_task = ''.join([character if character.isalnum() else ' ' for character in task])\n",
    "    alphanumeric.append(new_task)\n",
    "print(alphanumeric[:2])"
   ]
  },
  {
   "cell_type": "code",
   "execution_count": 5,
   "id": "2f48fa1f",
   "metadata": {},
   "outputs": [
    {
     "name": "stdout",
     "output_type": "stream",
     "text": [
      "[['yoga', 'session', 'attend', 'the', '90', 'minute', 'yoga', 'session', 'to', 'improve', 'flexibility', 'and', 'reduce', 'stress', 'important', 'for', 'well', 'being'], ['update', 'budget', 'review', 'and', 'update', 'the', 'monthly', 'budget', 'crucial', 'for', 'financial', 'health', 'and', 'planning'], ['watch', 'webinar', 'attend', 'a', 'live', 'webinar', 'on', 'digital', 'marketing', 'strategies', 'useful', 'for', 'professional', 'development', 'but', 'it', 'will', 'be', 'recorded', 'for', 'later', 'viewing'], ['water', 'plants', 'watering', 'indoor', 'plants', 'to', 'keep', 'them', 'alive', 'important', 'for', 'plant', 'health', 'but', 'has', 'a', 'day', 'or', 'two', 'of', 'flexibility'], ['schedule', 'doctor', 's', 'appointment', 'scheduling', 'an', 'appointment', 'for', 'a', 'routine', 'health', 'check', 'up', 'important', 'for', 'monitoring', 'and', 'maintaining', 'health']]\n"
     ]
    }
   ],
   "source": [
    "tokens = []\n",
    "for task in alphanumeric:\n",
    "    tokens.append([word for word in task.split() if word != ''])\n",
    "print(tokens[:5])"
   ]
  },
  {
   "cell_type": "code",
   "execution_count": 6,
   "id": "65754bcf",
   "metadata": {},
   "outputs": [
    {
     "name": "stdout",
     "output_type": "stream",
     "text": [
      "1493\n"
     ]
    }
   ],
   "source": [
    "vocabulary = set()\n",
    "for task in tokens:\n",
    "    for token in task:\n",
    "        vocabulary.add(token)\n",
    "vocabulary = list(vocabulary)\n",
    "print(len(vocabulary))"
   ]
  },
  {
   "cell_type": "code",
   "execution_count": 7,
   "id": "86fce95d",
   "metadata": {},
   "outputs": [
    {
     "name": "stdout",
     "output_type": "stream",
     "text": [
      "[array([  43,  553,  733,  885,  919, 1208,   43,  553,  220, 1458,  887,\n",
      "        266,  862, 1270, 1349,  690,  863, 1204]), array([1058, 1368,  165,  266, 1058,  885,  829, 1368,  246,  690, 1171,\n",
      "        202,  266,  430]), array([1213, 1237,  733,  979,  272, 1237, 1295, 1174,  340,  539,  554,\n",
      "        690,  281,  997,  193,  152,  846,  358,  647,  690,  242,  996]), array([ 352, 1462, 1461,  434, 1462,  220,  479, 1288, 1434, 1349,  690,\n",
      "        665,  202,  193,  376,  979, 1444,  213,  903,  769,  887]), array([1044,  886,  191,   81,  902,  411,   81,  690,  979, 1492,  202,\n",
      "        163,  273, 1349,  690,  565,  266, 1293,  202])]\n"
     ]
    }
   ],
   "source": [
    "import numpy as np\n",
    "\n",
    "word2index = dict()\n",
    "for i, w in enumerate(vocabulary):\n",
    "    word2index[w] = i\n",
    "indices = [np.asarray([word2index[token] for token in task]) for task in tokens]\n",
    "print(indices[:5])"
   ]
  },
  {
   "cell_type": "code",
   "execution_count": 10,
   "id": "a7465857",
   "metadata": {},
   "outputs": [],
   "source": [
    "from autograd import Tensor\n",
    "from layers import Embedding, LSTMCell, MSELoss, Linear, Sequential\n",
    "from optimisers import SGD\n",
    "\n",
    "embedding = Embedding(vocab_size=len(vocabulary), dim=512)\n",
    "model = Sequential([LSTMCell(n_inputs=512, n_hidden=512, n_outputs=1), LSTMCell(n_inputs=512, n_hidden=512, n_outputs=1)])\n",
    "output_layer = Linear(n_inputs=512, n_outputs=1)"
   ]
  },
  {
   "cell_type": "code",
   "execution_count": 11,
   "id": "ea42af64",
   "metadata": {},
   "outputs": [],
   "source": [
    "criterion = MSELoss()\n",
    "optimiser = SGD(parameters=model.get_parameters() + embedding.get_parameters() + output_layer.get_parameters(), alpha=0.05)"
   ]
  },
  {
   "cell_type": "code",
   "execution_count": 12,
   "id": "3a357ac6",
   "metadata": {},
   "outputs": [
    {
     "name": "stdout",
     "output_type": "stream",
     "text": [
      "<class 'pandas.core.series.Series'>\n"
     ]
    }
   ],
   "source": [
    "X_train = indices[:int(len(indices) * 0.8)]\n",
    "y_train = importances[:int(len(indices) * 0.8)]\n",
    "\n",
    "X_test = indices[int(len(indices) * 0.8):]\n",
    "y_test = importances[int(len(indices) * 0.8):]\n",
    "\n",
    "print(type(y_train))"
   ]
  },
  {
   "cell_type": "code",
   "execution_count": 13,
   "id": "d75590e7",
   "metadata": {},
   "outputs": [
    {
     "ename": "AttributeError",
     "evalue": "'Sequential' object has no attribute 'init_hidden'",
     "output_type": "error",
     "traceback": [
      "\u001b[1;31m---------------------------------------------------------------------------\u001b[0m",
      "\u001b[1;31mAttributeError\u001b[0m                            Traceback (most recent call last)",
      "Cell \u001b[1;32mIn[13], line 6\u001b[0m\n\u001b[0;32m      3\u001b[0m \u001b[38;5;28;01mfor\u001b[39;00m iteration \u001b[38;5;129;01min\u001b[39;00m \u001b[38;5;28mrange\u001b[39m(iterations):\n\u001b[0;32m      4\u001b[0m     total_loss \u001b[38;5;241m=\u001b[39m \u001b[38;5;241m0\u001b[39m\n\u001b[1;32m----> 6\u001b[0m     hidden \u001b[38;5;241m=\u001b[39m model\u001b[38;5;241m.\u001b[39minit_hidden(batch_size\u001b[38;5;241m=\u001b[39m\u001b[38;5;241m1\u001b[39m)\n\u001b[0;32m      8\u001b[0m     \u001b[38;5;28;01mfor\u001b[39;00m task_i \u001b[38;5;129;01min\u001b[39;00m \u001b[38;5;28mrange\u001b[39m(\u001b[38;5;28mlen\u001b[39m(X_train)):\n\u001b[0;32m      9\u001b[0m         hidden \u001b[38;5;241m=\u001b[39m model\u001b[38;5;241m.\u001b[39minit_hidden(batch_size\u001b[38;5;241m=\u001b[39m\u001b[38;5;241m1\u001b[39m)\n",
      "\u001b[1;31mAttributeError\u001b[0m: 'Sequential' object has no attribute 'init_hidden'"
     ]
    }
   ],
   "source": [
    "min_loss = 1000\n",
    "iterations = 10\n",
    "for iteration in range(iterations):\n",
    "    total_loss = 0\n",
    "    \n",
    "    hidden = model.init_hidden(batch_size=1)\n",
    "    \n",
    "    for task_i in range(len(X_train)):\n",
    "        hidden = model.init_hidden(batch_size=1)\n",
    "        \n",
    "        for t in range(len(X_train[task_i])):\n",
    "            input = Tensor([X_train[task_i][t]], autograd=True)\n",
    "            lstm_input = embedding.forward(input=input)\n",
    "            hidden = model.forward(input=lstm_input, hidden=hidden)\n",
    "        \n",
    "        output = output_layer.forward(hidden[0])\n",
    "        target = Tensor(y_train[task_i], autograd=True)\n",
    "        loss = criterion.forward(output, target)\n",
    "        loss.backward()\n",
    "        optimiser.step()\n",
    "        \n",
    "        total_loss += loss.data / len(X_train[task_i])\n",
    "        epoch_loss = np.exp(total_loss / (task_i + 1))\n",
    "        \n",
    "        if epoch_loss < min_loss:\n",
    "            min_loss = epoch_loss\n",
    "            print()\n",
    "        \n",
    "        print(f\"Iter: {iteration} - Alpha: {str(optimiser.alpha)[:5]} - Example {task_i + 1}/{len(X_train)} - Min Loss: {str(min_loss)[:5]} - Loss: {epoch_loss}\", end='\\r')\n",
    "    optimiser.alpha *= 0.99"
   ]
  },
  {
   "cell_type": "code",
   "execution_count": 16,
   "id": "08cd0cf4",
   "metadata": {},
   "outputs": [],
   "source": [
    "def predict(task_indices):\n",
    "    hidden = model.init_hidden(batch_size=1)\n",
    "    for t in range(len(task_indices)):\n",
    "        input = Tensor([task_indices[t]], autograd=True)\n",
    "        lstm_input = embedding.forward(input=input)\n",
    "        hidden = model.forward(input=lstm_input, hidden=hidden)\n",
    "    output = output_layer.forward(hidden[0])\n",
    "    \n",
    "    return output"
   ]
  },
  {
   "cell_type": "code",
   "execution_count": 17,
   "id": "fba0be0f",
   "metadata": {},
   "outputs": [
    {
     "name": "stdout",
     "output_type": "stream",
     "text": [
      "Task 200/200 - Loss: [6.42183281]]\n",
      "[1.20739589]\n"
     ]
    }
   ],
   "source": [
    "for task_i in range(len(X_test)):\n",
    "    output = predict(X_test[task_i])\n",
    "    target = Tensor(np.array(y_test)[task_i], autograd=True)\n",
    "    loss = criterion.forward(output, target)\n",
    "    print(f\"Task {task_i + 1}/{len(X_test)} - Loss: {loss.data}\", end='\\r')\n",
    "    total_loss += loss.data / len(X_test[task_i])\n",
    "loss_to_display = np.exp(total_loss / (task_i + 1))\n",
    "print()\n",
    "print(loss_to_display)"
   ]
  },
  {
   "cell_type": "code",
   "execution_count": 18,
   "id": "57fbbf87",
   "metadata": {},
   "outputs": [],
   "source": [
    "import pickle as pkl\n",
    "\n",
    "with open(\"importance_embedding.pkl\", \"wb\") as file:\n",
    "    pkl.dump(embedding, file)\n",
    "\n",
    "with open(\"importance_model.pkl\", \"wb\") as file:\n",
    "    pkl.dump(model, file)\n",
    "\n",
    "with open(\"importance_output.pkl\", \"wb\") as file:\n",
    "    pkl.dump(output_layer, file)\n",
    "\n",
    "with open(\"word2index.pkl\", \"wb\") as file:\n",
    "    pkl.dump(word2index, file)"
   ]
  },
  {
   "cell_type": "code",
   "execution_count": null,
   "id": "74df4b09",
   "metadata": {},
   "outputs": [],
   "source": []
  }
 ],
 "metadata": {
  "kernelspec": {
   "display_name": "Python 3 (ipykernel)",
   "language": "python",
   "name": "python3"
  },
  "language_info": {
   "codemirror_mode": {
    "name": "ipython",
    "version": 3
   },
   "file_extension": ".py",
   "mimetype": "text/x-python",
   "name": "python",
   "nbconvert_exporter": "python",
   "pygments_lexer": "ipython3",
   "version": "3.11.5"
  }
 },
 "nbformat": 4,
 "nbformat_minor": 5
}
