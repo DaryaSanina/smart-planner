{
 "cells": [
  {
   "cell_type": "code",
   "execution_count": 1,
   "id": "4ff44953",
   "metadata": {},
   "outputs": [],
   "source": [
    "import numpy as np\n",
    "import pandas as pd\n",
    "import matplotlib.pyplot as plt\n",
    "from neural_networks import Sequential\n",
    "from layers import Dense\n",
    "from errors import MeanSquaredError\n",
    "from utils import BagOfWords, preprocess_data, get_batches"
   ]
  },
  {
   "cell_type": "code",
   "execution_count": 2,
   "id": "2ba1a6ae",
   "metadata": {},
   "outputs": [
    {
     "data": {
      "text/html": [
       "<div>\n",
       "<style scoped>\n",
       "    .dataframe tbody tr th:only-of-type {\n",
       "        vertical-align: middle;\n",
       "    }\n",
       "\n",
       "    .dataframe tbody tr th {\n",
       "        vertical-align: top;\n",
       "    }\n",
       "\n",
       "    .dataframe thead th {\n",
       "        text-align: right;\n",
       "    }\n",
       "</style>\n",
       "<table border=\"1\" class=\"dataframe\">\n",
       "  <thead>\n",
       "    <tr style=\"text-align: right;\">\n",
       "      <th></th>\n",
       "      <th>Unnamed: 0</th>\n",
       "      <th>Task</th>\n",
       "      <th>Importance</th>\n",
       "      <th>Time to complete (minutes)</th>\n",
       "    </tr>\n",
       "  </thead>\n",
       "  <tbody>\n",
       "    <tr>\n",
       "      <th>0</th>\n",
       "      <td>0</td>\n",
       "      <td>Fix broken appliance</td>\n",
       "      <td>7</td>\n",
       "      <td>60</td>\n",
       "    </tr>\n",
       "    <tr>\n",
       "      <th>1</th>\n",
       "      <td>1</td>\n",
       "      <td>Sort and organize important documents</td>\n",
       "      <td>4</td>\n",
       "      <td>60</td>\n",
       "    </tr>\n",
       "    <tr>\n",
       "      <th>2</th>\n",
       "      <td>2</td>\n",
       "      <td>Plan product launch event</td>\n",
       "      <td>9</td>\n",
       "      <td>120</td>\n",
       "    </tr>\n",
       "    <tr>\n",
       "      <th>3</th>\n",
       "      <td>3</td>\n",
       "      <td>Volunteer at the local shelter</td>\n",
       "      <td>9</td>\n",
       "      <td>120</td>\n",
       "    </tr>\n",
       "    <tr>\n",
       "      <th>4</th>\n",
       "      <td>4</td>\n",
       "      <td>Walk the Dog</td>\n",
       "      <td>3</td>\n",
       "      <td>20</td>\n",
       "    </tr>\n",
       "  </tbody>\n",
       "</table>\n",
       "</div>"
      ],
      "text/plain": [
       "   Unnamed: 0                                   Task  Importance  \\\n",
       "0           0                   Fix broken appliance           7   \n",
       "1           1  Sort and organize important documents           4   \n",
       "2           2              Plan product launch event           9   \n",
       "3           3         Volunteer at the local shelter           9   \n",
       "4           4                           Walk the Dog           3   \n",
       "\n",
       "   Time to complete (minutes)  \n",
       "0                          60  \n",
       "1                          60  \n",
       "2                         120  \n",
       "3                         120  \n",
       "4                          20  "
      ]
     },
     "execution_count": 2,
     "metadata": {},
     "output_type": "execute_result"
    }
   ],
   "source": [
    "df = pd.read_csv(\"dataset.csv\")\n",
    "df.head()"
   ]
  },
  {
   "cell_type": "code",
   "execution_count": 3,
   "id": "028d2ea3",
   "metadata": {},
   "outputs": [
    {
     "name": "stdout",
     "output_type": "stream",
     "text": [
      "(10003, 1564)\n",
      "(10003, 1)\n"
     ]
    }
   ],
   "source": [
    "X = preprocess_data(list(df[\"Task\"]))\n",
    "vocabulary = set()\n",
    "for example in X:\n",
    "    for word in example:\n",
    "        vocabulary.add(word)\n",
    "bag_of_words = BagOfWords(vocabulary=list(vocabulary))\n",
    "X = bag_of_words.encode(X)\n",
    "y = np.asarray(df[\"Importance\"]).reshape((-1, 1))\n",
    "print(X.shape)\n",
    "print(y.shape)"
   ]
  },
  {
   "cell_type": "code",
   "execution_count": 4,
   "id": "04891fc7",
   "metadata": {},
   "outputs": [
    {
     "name": "stdout",
     "output_type": "stream",
     "text": [
      "(16, 1564)\n"
     ]
    }
   ],
   "source": [
    "X_batches, y_batches = get_batches(X, y, batch_size=16)\n",
    "print(X_batches[0].shape)"
   ]
  },
  {
   "cell_type": "code",
   "execution_count": 5,
   "id": "df7e966c",
   "metadata": {},
   "outputs": [],
   "source": [
    "model = Sequential([\n",
    "    Dense(input_units=X.shape[1], output_units=100, activation='relu'),\n",
    "    Dense(input_units=100, output_units=1, activation='linear')\n",
    "])\n",
    "model.compile(error=MeanSquaredError(), learning_rate=1e-4)"
   ]
  },
  {
   "cell_type": "code",
   "execution_count": 6,
   "id": "0c317c78",
   "metadata": {},
   "outputs": [
    {
     "name": "stdout",
     "output_type": "stream",
     "text": [
      "Epoch #0: Cost = 48.10944123396844\n",
      "Epoch #1: Cost = 2.62142057799828\n",
      "Epoch #2: Cost = 2.415828593989578\n",
      "Epoch #3: Cost = 2.2388396694744945\n",
      "Epoch #4: Cost = 2.085382271406069\n",
      "Epoch #5: Cost = 1.9515214494454827\n",
      "Epoch #6: Cost = 1.8341854603647934\n",
      "Epoch #7: Cost = 1.7308742286535848\n",
      "Epoch #8: Cost = 1.6395627812929723\n",
      "Epoch #9: Cost = 1.5585429082122655\n",
      "Epoch #10: Cost = 1.4864742580628576\n",
      "Epoch #11: Cost = 1.4222987273948946\n",
      "Epoch #12: Cost = 1.365010831756465\n",
      "Epoch #13: Cost = 1.313722041904793\n",
      "Epoch #14: Cost = 1.2677755250508642\n",
      "Epoch #15: Cost = 1.2264955166632312\n",
      "Epoch #16: Cost = 1.1893272927228118\n",
      "Epoch #17: Cost = 1.155811096249215\n",
      "Epoch #18: Cost = 1.125532506533526\n",
      "Epoch #19: Cost = 1.0981406351492153\n",
      "Epoch #20: Cost = 1.0733092780762725\n",
      "Epoch #21: Cost = 1.0507641051477483\n",
      "Epoch #22: Cost = 1.0301935557683461\n",
      "Epoch #23: Cost = 1.0113770454789748\n",
      "Epoch #24: Cost = 0.9941470196945598\n",
      "Epoch #25: Cost = 0.978363863254371\n",
      "Epoch #26: Cost = 0.9638847945813389\n",
      "Epoch #27: Cost = 0.9505545159316885\n",
      "Epoch #28: Cost = 0.9382688316461408\n",
      "Epoch #29: Cost = 0.9269186485489855\n",
      "Epoch #30: Cost = 0.9163791787957313\n",
      "Epoch #31: Cost = 0.9065964376745776\n",
      "Epoch #32: Cost = 0.8975053183173574\n",
      "Epoch #33: Cost = 0.8890647075496251\n",
      "Epoch #34: Cost = 0.8811362003649781\n",
      "Epoch #35: Cost = 0.873695156611716\n",
      "Epoch #36: Cost = 0.8667303122372866\n",
      "Epoch #37: Cost = 0.8601847588936137\n",
      "Epoch #38: Cost = 0.8540378748879457\n",
      "Epoch #39: Cost = 0.8482536900804869\n",
      "Epoch #40: Cost = 0.8427813739003218\n",
      "Epoch #41: Cost = 0.8375847937303559\n",
      "Epoch #42: Cost = 0.8326644296970928\n",
      "Epoch #43: Cost = 0.8280705646945019\n",
      "Epoch #44: Cost = 0.8237809602367779\n",
      "Epoch #45: Cost = 0.8197962118217382\n",
      "Epoch #46: Cost = 0.8160331771919194\n",
      "Epoch #47: Cost = 0.8124744996425883\n",
      "Epoch #48: Cost = 0.8091192318974562\n",
      "Epoch #49: Cost = 0.8060091972487942\n",
      "Epoch #50: Cost = 0.8030803949543863\n",
      "Epoch #51: Cost = 0.8002630321243499\n",
      "Epoch #52: Cost = 0.7975602017715946\n",
      "Epoch #53: Cost = 0.7949801674943027\n",
      "Epoch #54: Cost = 0.7925712482229254\n",
      "Epoch #55: Cost = 0.7903120545595145\n",
      "Epoch #56: Cost = 0.7882084693615993\n",
      "Epoch #57: Cost = 0.7862295304206123\n",
      "Epoch #58: Cost = 0.7844142595002109\n",
      "Epoch #59: Cost = 0.7827891679259388\n",
      "Epoch #60: Cost = 0.7813239541848545\n",
      "Epoch #61: Cost = 0.779976106097673\n",
      "Epoch #62: Cost = 0.7787282813231723\n",
      "Epoch #63: Cost = 0.7776811279724498\n",
      "Epoch #64: Cost = 0.7767603368778634\n",
      "Epoch #65: Cost = 0.7759774367372213\n",
      "Epoch #66: Cost = 0.77528925363958\n",
      "Epoch #67: Cost = 0.7746955362264982\n",
      "Epoch #68: Cost = 0.774242572437011\n",
      "Epoch #69: Cost = 0.7739282765957665\n",
      "Epoch #70: Cost = 0.7737547176164118\n",
      "Epoch #71: Cost = 0.7736989957264001\n",
      "Epoch #72: Cost = 0.773660816715233\n",
      "Epoch #73: Cost = 0.7736603176534403\n",
      "Epoch #74: Cost = 0.7737446452706459\n",
      "Epoch #75: Cost = 0.7739285903438002\n",
      "Epoch #76: Cost = 0.7742253019670328\n",
      "Epoch #77: Cost = 0.7745984500353105\n",
      "Epoch #78: Cost = 0.7750451167216942\n",
      "Epoch #79: Cost = 0.7755315347081744\n",
      "Epoch #80: Cost = 0.7760878962425799\n",
      "Epoch #81: Cost = 0.7766428657512955\n",
      "Epoch #82: Cost = 0.777228358440474\n",
      "Epoch #83: Cost = 0.7778193422525886\n",
      "Epoch #84: Cost = 0.7783959285024842\n",
      "Epoch #85: Cost = 0.7790291170599917\n",
      "Epoch #86: Cost = 0.7797137645566189\n",
      "Epoch #87: Cost = 0.7804356195887244\n",
      "Epoch #88: Cost = 0.7811622013034263\n",
      "Epoch #89: Cost = 0.7819054125365149\n",
      "Epoch #90: Cost = 0.7826740033440356\n",
      "Epoch #91: Cost = 0.7834922630303081\n",
      "Epoch #92: Cost = 0.7843392483098284\n",
      "Epoch #93: Cost = 0.7852827883318245\n",
      "Epoch #94: Cost = 0.7862293564429078\n",
      "Epoch #95: Cost = 0.7871812029901398\n",
      "Epoch #96: Cost = 0.7881550661343997\n",
      "Epoch #97: Cost = 0.7891263106249807\n",
      "Epoch #98: Cost = 0.7901235621000375\n",
      "Epoch #99: Cost = 0.7910872753711962\n"
     ]
    }
   ],
   "source": [
    "cost_history = model.fit(X_batches, y_batches, epochs=100)"
   ]
  },
  {
   "cell_type": "code",
   "execution_count": 7,
   "id": "9b7afb58",
   "metadata": {},
   "outputs": [
    {
     "data": {
      "image/png": "[encoded data removed]",
      "text/plain": [
       "<Figure size 640x480 with 1 Axes>"
      ]
     },
     "metadata": {},
     "output_type": "display_data"
    }
   ],
   "source": [
    "plt.plot(cost_history[1:])\n",
    "plt.title(\"Learning curve\")\n",
    "plt.xlabel(\"Epochs\")\n",
    "plt.show()"
   ]
  },
  {
   "cell_type": "code",
   "execution_count": 8,
   "id": "904e59b7",
   "metadata": {},
   "outputs": [],
   "source": [
    "import pickle as pkl\n",
    "\n",
    "with open('task_importance_model.pkl', 'wb') as file:\n",
    "    pkl.dump(model, file)"
   ]
  },
  {
   "cell_type": "code",
   "execution_count": null,
   "id": "0cf4dc09",
   "metadata": {},
   "outputs": [],
   "source": []
  }
 ],
 "metadata": {
  "kernelspec": {
   "display_name": "Python 3 (ipykernel)",
   "language": "python",
   "name": "python3"
  },
  "language_info": {
   "codemirror_mode": {
    "name": "ipython",
    "version": 3
   },
   "file_extension": ".py",
   "mimetype": "text/x-python",
   "name": "python",
   "nbconvert_exporter": "python",
   "pygments_lexer": "ipython3",
   "version": "3.11.5"
  }
 },
 "nbformat": 4,
 "nbformat_minor": 5
}
